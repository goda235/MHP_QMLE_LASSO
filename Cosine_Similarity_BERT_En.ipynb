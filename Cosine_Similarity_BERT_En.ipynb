{
 "cells": [
  {
   "cell_type": "markdown",
   "metadata": {},
   "source": [
    "# The cosine similarity of posts（BERT）\n",
    "We perform morphological analysis of the posts using the Juman library, convert each word to a vector (embedding) using BERT, compute the Cos similarity and calculate the average to calculate quantitative similarity.\n",
    "\n",
    "We used the Japanese model for BERT given by S. Kurohashi and Y. Murawaki, see http://nlp.ist.i.kyoto-u.ac.jp/index.php?BERT日本語Pretrainedモデル."
   ]
  },
  {
   "cell_type": "code",
   "execution_count": 2,
   "metadata": {},
   "outputs": [],
   "source": [
    "import numpy as np\n",
    "import pandas as pd\n",
    "import matplotlib.pyplot as plt\n",
    "import matplotlib.gridspec as gridspec\n",
    "import random as r\n",
    "from tqdm import tqdm_notebook as tqdm\n",
    "from pyknp import Juman\n",
    "import torch\n",
    "from pytorch_transformers import BertTokenizer, BertModel\n",
    "\n",
    "import os\n",
    "os.environ['KMP_DUPLICATE_LIB_OK'] = 'TRUE'\n",
    "\n",
    "Dir_name = '/Users/goda/Desktop/Dissatisfaction/NLP/Japanese_L-12_H-768_A-12_E-30_BPE_WWM_transformers'\n",
    "fname1 = '/Users/goda/Desktop/Dissatisfaction/data/table-posts.csv'\n",
    "fname2 = '/Users/goda/Desktop/Dissatisfaction/gender/gender_data_12.csv'\n",
    "\n",
    "data = pd.read_csv(fname1) \n",
    "gender_data = pd.read_csv(fname2) "
   ]
  },
  {
   "cell_type": "code",
   "execution_count": 3,
   "metadata": {},
   "outputs": [
    {
     "data": {
      "text/plain": [
       "0    最近の内容は、のび太が、他力本願ですぐ調子にのり、エゴが強すぎると感じている。子供に見せたく...\n",
       "1                    ヤクルトの舌や喉に何か残る感じの、あれは何でしょう?すごくいやだ。\n",
       "2                                めばちこ痛い。\\n治ってもまたできる...\n",
       "3    タケダは、からだ浸透補水液は病院の消毒液を連想させる味がします。体に良くても飲み物としてなじ...\n",
       "4                         チョコリングの個性が弱くて商品として地味で美味しくない。\n",
       "Name: text, dtype: object"
      ]
     },
     "execution_count": 3,
     "metadata": {},
     "output_type": "execute_result"
    }
   ],
   "source": [
    "data[\"text\"][:5]"
   ]
  },
  {
   "cell_type": "code",
   "execution_count": 4,
   "metadata": {},
   "outputs": [
    {
     "data": {
      "text/plain": [
       "0      特殊な女の付き合いが面倒。\\nそれなのに、男も女化している人が増えてきて、相手をするのが面倒。\n",
       "1    タイミングが遅い!24時間営業だからといってあれはひどい。生鮮品野菜の見切り品コーナーは特に...\n",
       "2    男女2人で利用したところ、「デートでこんなとこ来るとか」とひそひそ話される声が聞こえて不愉快でした\n",
       "3    大家のセクハラ発言。二人目はまだか、最近見ないが二人目できたのか、女は嫁に行くから男を産まな...\n",
       "4    男女平等という言葉を聞きますが、平等は特定の人たちの待遇を優遇するモノだと思いません!\\n平...\n",
       "Name: text, dtype: object"
      ]
     },
     "execution_count": 4,
     "metadata": {},
     "output_type": "execute_result"
    }
   ],
   "source": [
    "gender_data['text'][:5]"
   ]
  },
  {
   "cell_type": "markdown",
   "metadata": {},
   "source": [
    "## Morphological Analysis and Tokenization Using Juman"
   ]
  },
  {
   "cell_type": "code",
   "execution_count": 5,
   "metadata": {},
   "outputs": [],
   "source": [
    "class JumanTokenizer():\n",
    "    def __init__(self):\n",
    "        self.juman = Juman()\n",
    "\n",
    "    def tokenize(self, text):\n",
    "        result = self.juman.analysis(text)\n",
    "        tokens = [mrph.midasi for mrph in result.mrph_list()]\n",
    "        ids = bert_tokenizer.convert_tokens_to_ids([\"[CLS]\"] + tokens[:126] + [\"[SEP]\"])\n",
    "        tokens_tensor = torch.tensor(ids).view(1, -1)\n",
    "        return tokens_tensor\n",
    "\n",
    "Tokenizer = JumanTokenizer()"
   ]
  },
  {
   "cell_type": "markdown",
   "metadata": {},
   "source": [
    "## Loading BERT"
   ]
  },
  {
   "cell_type": "code",
   "execution_count": 6,
   "metadata": {},
   "outputs": [],
   "source": [
    "model = BertModel.from_pretrained(Dir_name)\n",
    "bert_tokenizer = BertTokenizer(Dir_name+'/vocab.txt', do_lower_case=False, do_basic_tokenize=False)\n",
    "model.eval()\n",
    "None"
   ]
  },
  {
   "cell_type": "markdown",
   "metadata": {},
   "source": [
    "## Cosine similarity\n",
    "\n",
    "$a,b$ : embeddings of posts\n",
    "\n",
    "\\begin{align*}\n",
    "\\cos(a,b) = \\frac{a \\cdot b}{|a||b|}\n",
    "\\end{align*}"
   ]
  },
  {
   "cell_type": "code",
   "execution_count": 7,
   "metadata": {},
   "outputs": [],
   "source": [
    "def cos_sim(v1, v2):\n",
    "    return np.dot(v1, v2) / (np.linalg.norm(v1) * np.linalg.norm(v2))"
   ]
  },
  {
   "cell_type": "code",
   "execution_count": 8,
   "metadata": {},
   "outputs": [
    {
     "name": "stdout",
     "output_type": "stream",
     "text": [
      "5248820 24553\n"
     ]
    }
   ],
   "source": [
    "print(len(data[\"text\"]), len(gender_data[\"text\"]))"
   ]
  },
  {
   "cell_type": "markdown",
   "metadata": {},
   "source": [
    "Examples"
   ]
  },
  {
   "cell_type": "code",
   "execution_count": 9,
   "metadata": {},
   "outputs": [
    {
     "name": "stdout",
     "output_type": "stream",
     "text": [
      "0.7685462 0.6020805 0.5652418\n"
     ]
    }
   ],
   "source": [
    "text1 = '東京都の大学で数学の研究をしています。' # I study mathematics at a university in Tokyo.\n",
    "text2 = '私は東京で統計学の勉強に励んでいる。' # I study statistics in Tokyo.\n",
    "text3 = '東京都は住むのには良い街です。' # Tokyo is a good city to live in.\n",
    "text4 = '彼は野球が好きです。' # He likes baseball.\n",
    "token1 = Tokenizer.tokenize(text1)\n",
    "token2 = Tokenizer.tokenize(text2)\n",
    "token3 = Tokenizer.tokenize(text3)\n",
    "token4 = Tokenizer.tokenize(text4)\n",
    "with torch.no_grad():\n",
    "        vector1, _ = model(token1)\n",
    "        vector2, _ = model(token2)\n",
    "        vector3, _ = model(token3)\n",
    "        vector4, _ = model(token4)\n",
    "sim2 = cos_sim(vector1.mean(axis=1)[0], vector2.mean(axis=1)[0])\n",
    "sim3 = cos_sim(vector1.mean(axis=1)[0], vector3.mean(axis=1)[0])\n",
    "sim4 = cos_sim(vector1.mean(axis=1)[0], vector4.mean(axis=1)[0])\n",
    "print(sim2, sim3, sim4)"
   ]
  },
  {
   "cell_type": "code",
   "execution_count": null,
   "metadata": {},
   "outputs": [],
   "source": [
    "r.seed(0)\n",
    "M = 10000\n",
    "cos_list = []\n",
    "cnt=0\n",
    "pbar = tqdm(total=M)\n",
    "while(cnt<M):\n",
    "    text1, text2 = r.choices(data[\"text\"], k=2)\n",
    "    try:\n",
    "        token1 = Tokenizer.tokenize(text1)\n",
    "        token2 = Tokenizer.tokenize(text2)\n",
    "    except:\n",
    "        print(\"error\")\n",
    "        continue\n",
    "    token1 = Tokenizer.tokenize(text1)\n",
    "    token2 = Tokenizer.tokenize(text2)\n",
    "    with torch.no_grad():\n",
    "        vector1, _ = model(token1)\n",
    "        vector2, _ = model(token2)\n",
    "    sim = cos_sim(vector1.mean(axis=1)[0], vector2.mean(axis=1)[0])\n",
    "    cos_list.append(sim)\n",
    "    cnt += 1\n",
    "    pbar.update(1)\n",
    "pbar.close()"
   ]
  },
  {
   "cell_type": "code",
   "execution_count": null,
   "metadata": {},
   "outputs": [],
   "source": [
    "r.seed(0)\n",
    "M = 10000\n",
    "gender_cos_list = []\n",
    "cnt=0\n",
    "pbar = tqdm(total=M)\n",
    "while(cnt<M):\n",
    "    text1, text2 = r.choices(gender_data[\"text\"], k=2)\n",
    "    try:\n",
    "        token1 = Tokenizer.tokenize(text1)\n",
    "        token2 = Tokenizer.tokenize(text2)\n",
    "    except:\n",
    "        print(\"error\")\n",
    "        continue\n",
    "    token1 = Tokenizer.tokenize(text1)\n",
    "    token2 = Tokenizer.tokenize(text2)\n",
    "    with torch.no_grad():\n",
    "        vector1, _ = model(token1)\n",
    "        vector2, _ = model(token2)\n",
    "    sim = cos_sim(vector1.mean(axis=1)[0], vector2.mean(axis=1)[0])\n",
    "    gender_cos_list.append(sim)\n",
    "    cnt += 1\n",
    "    pbar.update(1)\n",
    "pbar.close()"
   ]
  },
  {
   "cell_type": "code",
   "execution_count": null,
   "metadata": {
    "scrolled": false
   },
   "outputs": [],
   "source": [
    "fig = plt.figure(figsize=(14, 7))\n",
    "ax = fig.add_subplot()\n",
    "ax.hist(cos_list, alpha=0.5, bins=30, normed=True, label=\"All Data\")\n",
    "ax.hist(gender_cos_list, alpha=0.5, bins=30, normed=True, label=\"Gender Data\")\n",
    "ax.legend(fontsize=15)\n",
    "plt.xlabel('value', fontsize=15)\n",
    "plt.ylabel('density', fontsize=15)\n",
    "plt.title('Histogram for BERT', fontsize=20)\n",
    "plt.savefig(\"BERT.tiff\")\n",
    "\n",
    "print(\"Mean of Cos similarity of the overall data :\", np.mean(cos_list))\n",
    "print(\"Mean of Cos similarity of the gender data :\", np.mean(gender_cos_list))"
   ]
  },
  {
   "cell_type": "markdown",
   "metadata": {},
   "source": [
    "## Similarity of posts between each group."
   ]
  },
  {
   "cell_type": "code",
   "execution_count": 15,
   "metadata": {},
   "outputs": [
    {
     "data": {
      "application/vnd.jupyter.widget-view+json": {
       "model_id": "7f9f8243f2d44fce801e2bf2194335bd",
       "version_major": 2,
       "version_minor": 0
      },
      "text/plain": [
       "HBox(children=(IntProgress(value=0, max=12), HTML(value='')))"
      ]
     },
     "metadata": {},
     "output_type": "display_data"
    },
    {
     "name": "stderr",
     "output_type": "stream",
     "text": [
      "Analysis is done ignoring \"\\n\".\n",
      "Analysis is done ignoring \"\\n\".\n",
      "Analysis is done ignoring \"\\n\".\n",
      "Analysis is done ignoring \"\\n\".\n",
      "Analysis is done ignoring \"\\n\".\n",
      "Analysis is done ignoring \"\\n\".\n"
     ]
    },
    {
     "name": "stdout",
     "output_type": "stream",
     "text": [
      "error\n"
     ]
    },
    {
     "name": "stderr",
     "output_type": "stream",
     "text": [
      "Analysis is done ignoring \"\\n\".\n",
      "Analysis is done ignoring \"\\n\".\n",
      "Analysis is done ignoring \"\\n\".\n",
      "Analysis is done ignoring \"\\n\".\n",
      "Analysis is done ignoring \"\\n\".\n",
      "Analysis is done ignoring \"\\n\".\n",
      "Analysis is done ignoring \"\\n\".\n",
      "Analysis is done ignoring \"\\n\".\n",
      "Analysis is done ignoring \"\\n\".\n",
      "Analysis is done ignoring \"\\n\".\n",
      "Analysis is done ignoring \"\\n\".\n",
      "Analysis is done ignoring \"\\n\".\n",
      "Analysis is done ignoring \"\\n\".\n",
      "Analysis is done ignoring \"\\n\".\n",
      "Analysis is done ignoring \"\\n\".\n",
      "Analysis is done ignoring \"\\n\".\n",
      "Analysis is done ignoring \"\\n\".\n",
      "Analysis is done ignoring \"\\n\".\n",
      "Analysis is done ignoring \"\\n\".\n",
      "Analysis is done ignoring \"\\n\".\n",
      "Analysis is done ignoring \"\\n\".\n",
      "Analysis is done ignoring \"\\n\".\n",
      "Analysis is done ignoring \"\\n\".\n",
      "Analysis is done ignoring \"\\n\".\n",
      "Analysis is done ignoring \"\\n\".\n",
      "Analysis is done ignoring \"\\n\".\n",
      "Analysis is done ignoring \"\\n\".\n",
      "Analysis is done ignoring \"\\n\".\n",
      "Analysis is done ignoring \"\\n\".\n",
      "Analysis is done ignoring \"\\n\".\n",
      "Analysis is done ignoring \"\\n\".\n",
      "Analysis is done ignoring \"\\n\".\n",
      "Analysis is done ignoring \"\\n\".\n",
      "Analysis is done ignoring \"\\n\".\n",
      "Analysis is done ignoring \"\\n\".\n",
      "Analysis is done ignoring \"\\n\".\n",
      "Analysis is done ignoring \"\\n\".\n",
      "Analysis is done ignoring \"\\n\".\n",
      "Analysis is done ignoring \"\\n\".\n",
      "Analysis is done ignoring \"\\n\".\n",
      "Analysis is done ignoring \"\\n\".\n",
      "Analysis is done ignoring \"\\n\".\n"
     ]
    },
    {
     "name": "stdout",
     "output_type": "stream",
     "text": [
      "error\n"
     ]
    },
    {
     "name": "stderr",
     "output_type": "stream",
     "text": [
      "Analysis is done ignoring \"\\n\".\n",
      "Analysis is done ignoring \"\\n\".\n",
      "Analysis is done ignoring \"\\n\".\n",
      "Analysis is done ignoring \"\\n\".\n",
      "Analysis is done ignoring \"\\n\".\n",
      "Analysis is done ignoring \"\\n\".\n",
      "Analysis is done ignoring \"\\n\".\n",
      "Analysis is done ignoring \"\\n\".\n",
      "Analysis is done ignoring \"\\n\".\n",
      "Analysis is done ignoring \"\\n\".\n",
      "Analysis is done ignoring \"\\n\".\n",
      "Analysis is done ignoring \"\\n\".\n",
      "Analysis is done ignoring \"\\n\".\n",
      "Analysis is done ignoring \"\\n\".\n",
      "Analysis is done ignoring \"\\n\".\n",
      "Analysis is done ignoring \"\\n\".\n",
      "Analysis is done ignoring \"\\n\".\n",
      "Analysis is done ignoring \"\\n\".\n",
      "Analysis is done ignoring \"\\n\".\n",
      "Analysis is done ignoring \"\\n\".\n",
      "Analysis is done ignoring \"\\n\".\n",
      "Analysis is done ignoring \"\\n\".\n",
      "Analysis is done ignoring \"\\n\".\n",
      "Analysis is done ignoring \"\\n\".\n",
      "Analysis is done ignoring \"\\n\".\n",
      "Analysis is done ignoring \"\\n\".\n",
      "Analysis is done ignoring \"\\n\".\n",
      "Analysis is done ignoring \"\\n\".\n",
      "Analysis is done ignoring \"\\n\".\n",
      "Analysis is done ignoring \"\\n\".\n",
      "Analysis is done ignoring \"\\n\".\n",
      "Analysis is done ignoring \"\\n\".\n",
      "Analysis is done ignoring \"\\n\".\n",
      "Analysis is done ignoring \"\\n\".\n",
      "Analysis is done ignoring \"\\n\".\n",
      "Analysis is done ignoring \"\\n\".\n",
      "Analysis is done ignoring \"\\n\".\n",
      "Analysis is done ignoring \"\\n\".\n",
      "Analysis is done ignoring \"\\n\".\n",
      "Analysis is done ignoring \"\\n\".\n",
      "Analysis is done ignoring \"\\n\".\n",
      "Analysis is done ignoring \"\\n\".\n",
      "Analysis is done ignoring \"\\n\".\n",
      "Analysis is done ignoring \"\\n\".\n",
      "Analysis is done ignoring \"\\n\".\n",
      "Analysis is done ignoring \"\\n\".\n",
      "Analysis is done ignoring \"\\n\".\n",
      "Analysis is done ignoring \"\\n\".\n",
      "Analysis is done ignoring \"\\n\".\n",
      "Analysis is done ignoring \"\\n\".\n",
      "Analysis is done ignoring \"\\n\".\n",
      "Analysis is done ignoring \"\\n\".\n",
      "Analysis is done ignoring \"\\n\".\n",
      "Analysis is done ignoring \"\\n\".\n",
      "Analysis is done ignoring \"\\n\".\n",
      "Analysis is done ignoring \"\\n\".\n",
      "Analysis is done ignoring \"\\n\".\n",
      "Analysis is done ignoring \"\\n\".\n",
      "Analysis is done ignoring \"\\n\".\n",
      "Analysis is done ignoring \"\\n\".\n",
      "Analysis is done ignoring \"\\n\".\n",
      "Analysis is done ignoring \"\\n\".\n",
      "Analysis is done ignoring \"\\n\".\n",
      "Analysis is done ignoring \"\\n\".\n",
      "Analysis is done ignoring \"\\n\".\n",
      "Analysis is done ignoring \"\\n\".\n",
      "Analysis is done ignoring \"\\n\".\n",
      "Analysis is done ignoring \"\\n\".\n",
      "Analysis is done ignoring \"\\n\".\n",
      "Analysis is done ignoring \"\\n\".\n",
      "Analysis is done ignoring \"\\n\".\n",
      "Analysis is done ignoring \"\\n\".\n",
      "Analysis is done ignoring \"\\n\".\n",
      "Analysis is done ignoring \"\\n\".\n",
      "Analysis is done ignoring \"\\n\".\n",
      "Analysis is done ignoring \"\\n\".\n",
      "Analysis is done ignoring \"\\n\".\n",
      "Analysis is done ignoring \"\\n\".\n",
      "Analysis is done ignoring \"\\n\".\n",
      "Analysis is done ignoring \"\\n\".\n",
      "Analysis is done ignoring \"\\n\".\n",
      "Analysis is done ignoring \"\\n\".\n",
      "Analysis is done ignoring \"\\n\".\n",
      "Analysis is done ignoring \"\\n\".\n",
      "Analysis is done ignoring \"\\n\".\n",
      "Analysis is done ignoring \"\\n\".\n",
      "Analysis is done ignoring \"\\n\".\n",
      "Analysis is done ignoring \"\\n\".\n",
      "Analysis is done ignoring \"\\n\".\n",
      "Analysis is done ignoring \"\\n\".\n",
      "Analysis is done ignoring \"\\n\".\n",
      "Analysis is done ignoring \"\\n\".\n",
      "Analysis is done ignoring \"\\n\".\n",
      "Analysis is done ignoring \"\\n\".\n",
      "Analysis is done ignoring \"\\n\".\n",
      "Analysis is done ignoring \"\\n\".\n",
      "Analysis is done ignoring \"\\n\".\n"
     ]
    },
    {
     "name": "stdout",
     "output_type": "stream",
     "text": [
      "error\n"
     ]
    },
    {
     "name": "stderr",
     "output_type": "stream",
     "text": [
      "Analysis is done ignoring \"\\n\".\n",
      "Analysis is done ignoring \"\\n\".\n"
     ]
    },
    {
     "name": "stdout",
     "output_type": "stream",
     "text": [
      "error\n"
     ]
    },
    {
     "name": "stderr",
     "output_type": "stream",
     "text": [
      "Analysis is done ignoring \"\\n\".\n",
      "Analysis is done ignoring \"\\n\".\n",
      "Analysis is done ignoring \"\\n\".\n",
      "Analysis is done ignoring \"\\n\".\n",
      "Analysis is done ignoring \"\\n\".\n",
      "Analysis is done ignoring \"\\n\".\n",
      "Analysis is done ignoring \"\\n\".\n",
      "Analysis is done ignoring \"\\n\".\n",
      "Analysis is done ignoring \"\\n\".\n",
      "Analysis is done ignoring \"\\n\".\n",
      "Analysis is done ignoring \"\\n\".\n",
      "Analysis is done ignoring \"\\n\".\n",
      "Analysis is done ignoring \"\\n\".\n"
     ]
    },
    {
     "name": "stdout",
     "output_type": "stream",
     "text": [
      "error\n"
     ]
    },
    {
     "name": "stderr",
     "output_type": "stream",
     "text": [
      "Analysis is done ignoring \"\\n\".\n",
      "Analysis is done ignoring \"\\n\".\n",
      "Analysis is done ignoring \"\\n\".\n",
      "Analysis is done ignoring \"\\n\".\n",
      "Analysis is done ignoring \"\\n\".\n",
      "Analysis is done ignoring \"\\n\".\n",
      "Analysis is done ignoring \"\\n\".\n",
      "Analysis is done ignoring \"\\n\".\n",
      "Analysis is done ignoring \"\\n\".\n",
      "Analysis is done ignoring \"\\n\".\n",
      "Analysis is done ignoring \"\\n\".\n",
      "Analysis is done ignoring \"\\n\".\n",
      "Analysis is done ignoring \"\\n\".\n",
      "Analysis is done ignoring \"\\n\".\n",
      "Analysis is done ignoring \"\\n\".\n",
      "Analysis is done ignoring \"\\n\".\n",
      "Analysis is done ignoring \"\\n\".\n",
      "Analysis is done ignoring \"\\n\".\n",
      "Analysis is done ignoring \"\\n\".\n",
      "Analysis is done ignoring \"\\n\".\n",
      "Analysis is done ignoring \"\\n\".\n",
      "Analysis is done ignoring \"\\n\".\n",
      "Analysis is done ignoring \"\\n\".\n",
      "Analysis is done ignoring \"\\n\".\n",
      "Analysis is done ignoring \"\\n\".\n",
      "Analysis is done ignoring \"\\n\".\n",
      "Analysis is done ignoring \"\\n\".\n",
      "Analysis is done ignoring \"\\n\".\n",
      "Analysis is done ignoring \"\\n\".\n",
      "Analysis is done ignoring \"\\n\".\n",
      "Analysis is done ignoring \"\\n\".\n",
      "Analysis is done ignoring \"\\n\".\n",
      "Analysis is done ignoring \"\\n\".\n",
      "Analysis is done ignoring \"\\n\".\n",
      "Analysis is done ignoring \"\\n\".\n"
     ]
    },
    {
     "name": "stdout",
     "output_type": "stream",
     "text": [
      "error\n"
     ]
    },
    {
     "name": "stderr",
     "output_type": "stream",
     "text": [
      "Analysis is done ignoring \"\\n\".\n",
      "Analysis is done ignoring \"\\n\".\n",
      "Analysis is done ignoring \"\\n\".\n",
      "Analysis is done ignoring \"\\n\".\n",
      "Analysis is done ignoring \"\\n\".\n",
      "Analysis is done ignoring \"\\n\".\n",
      "Analysis is done ignoring \"\\n\".\n",
      "Analysis is done ignoring \"\\n\".\n",
      "Analysis is done ignoring \"\\n\".\n",
      "Analysis is done ignoring \"\\n\".\n",
      "Analysis is done ignoring \"\\n\".\n",
      "Analysis is done ignoring \"\\n\".\n",
      "Analysis is done ignoring \"\\n\".\n"
     ]
    },
    {
     "name": "stdout",
     "output_type": "stream",
     "text": [
      "error\n"
     ]
    },
    {
     "name": "stderr",
     "output_type": "stream",
     "text": [
      "Analysis is done ignoring \"\\n\".\n",
      "Analysis is done ignoring \"\\n\".\n",
      "Analysis is done ignoring \"\\n\".\n",
      "Analysis is done ignoring \"\\n\".\n",
      "Analysis is done ignoring \"\\n\".\n",
      "Analysis is done ignoring \"\\n\".\n"
     ]
    },
    {
     "name": "stdout",
     "output_type": "stream",
     "text": [
      "error\n"
     ]
    },
    {
     "name": "stderr",
     "output_type": "stream",
     "text": [
      "Analysis is done ignoring \"\\n\".\n",
      "Analysis is done ignoring \"\\n\".\n",
      "Analysis is done ignoring \"\\n\".\n",
      "Analysis is done ignoring \"\\n\".\n",
      "Analysis is done ignoring \"\\n\".\n"
     ]
    },
    {
     "name": "stdout",
     "output_type": "stream",
     "text": [
      "error\n"
     ]
    },
    {
     "name": "stderr",
     "output_type": "stream",
     "text": [
      "Analysis is done ignoring \"\\n\".\n",
      "Analysis is done ignoring \"\\n\".\n",
      "Analysis is done ignoring \"\\n\".\n",
      "Analysis is done ignoring \"\\n\".\n",
      "Analysis is done ignoring \"\\n\".\n",
      "Analysis is done ignoring \"\\n\".\n",
      "Analysis is done ignoring \"\\n\".\n",
      "Analysis is done ignoring \"\\n\".\n"
     ]
    },
    {
     "name": "stdout",
     "output_type": "stream",
     "text": [
      "error\n"
     ]
    },
    {
     "name": "stderr",
     "output_type": "stream",
     "text": [
      "Analysis is done ignoring \"\\n\".\n",
      "Analysis is done ignoring \"\\n\".\n"
     ]
    },
    {
     "name": "stdout",
     "output_type": "stream",
     "text": [
      "error\n"
     ]
    },
    {
     "name": "stderr",
     "output_type": "stream",
     "text": [
      "Analysis is done ignoring \"\\n\".\n",
      "Analysis is done ignoring \"\\n\".\n",
      "Analysis is done ignoring \"\\n\".\n",
      "Analysis is done ignoring \"\\n\".\n",
      "Analysis is done ignoring \"\\n\".\n",
      "Analysis is done ignoring \"\\n\".\n",
      "Analysis is done ignoring \"\\n\".\n",
      "Analysis is done ignoring \"\\n\".\n",
      "Analysis is done ignoring \"\\n\".\n",
      "Analysis is done ignoring \"\\n\".\n",
      "Analysis is done ignoring \"\\n\".\n",
      "Analysis is done ignoring \"\\n\".\n",
      "Analysis is done ignoring \"\\n\".\n"
     ]
    },
    {
     "name": "stdout",
     "output_type": "stream",
     "text": [
      "error\n"
     ]
    },
    {
     "name": "stderr",
     "output_type": "stream",
     "text": [
      "Analysis is done ignoring \"\\n\".\n",
      "Analysis is done ignoring \"\\n\".\n",
      "Analysis is done ignoring \"\\n\".\n",
      "Analysis is done ignoring \"\\n\".\n",
      "Analysis is done ignoring \"\\n\".\n",
      "Analysis is done ignoring \"\\n\".\n"
     ]
    },
    {
     "name": "stdout",
     "output_type": "stream",
     "text": [
      "error\n"
     ]
    },
    {
     "name": "stderr",
     "output_type": "stream",
     "text": [
      "Analysis is done ignoring \"\\n\".\n",
      "Analysis is done ignoring \"\\n\".\n",
      "Analysis is done ignoring \"\\n\".\n",
      "Analysis is done ignoring \"\\n\".\n",
      "Analysis is done ignoring \"\\n\".\n",
      "Analysis is done ignoring \"\\n\".\n",
      "Analysis is done ignoring \"\\n\".\n"
     ]
    },
    {
     "name": "stdout",
     "output_type": "stream",
     "text": [
      "error\n"
     ]
    },
    {
     "name": "stderr",
     "output_type": "stream",
     "text": [
      "Analysis is done ignoring \"\\n\".\n",
      "Analysis is done ignoring \"\\n\".\n",
      "Analysis is done ignoring \"\\n\".\n",
      "Analysis is done ignoring \"\\n\".\n",
      "Analysis is done ignoring \"\\n\".\n"
     ]
    },
    {
     "name": "stdout",
     "output_type": "stream",
     "text": [
      "error\n"
     ]
    },
    {
     "name": "stderr",
     "output_type": "stream",
     "text": [
      "Analysis is done ignoring \"\\n\".\n",
      "Analysis is done ignoring \"\\n\".\n"
     ]
    },
    {
     "name": "stdout",
     "output_type": "stream",
     "text": [
      "error\n",
      "error\n"
     ]
    },
    {
     "name": "stderr",
     "output_type": "stream",
     "text": [
      "Analysis is done ignoring \"\\n\".\n",
      "Analysis is done ignoring \"\\n\".\n",
      "Analysis is done ignoring \"\\n\".\n",
      "Analysis is done ignoring \"\\n\".\n",
      "Analysis is done ignoring \"\\n\".\n",
      "Analysis is done ignoring \"\\n\".\n"
     ]
    },
    {
     "name": "stdout",
     "output_type": "stream",
     "text": [
      "error\n"
     ]
    },
    {
     "name": "stderr",
     "output_type": "stream",
     "text": [
      "Analysis is done ignoring \"\\n\".\n",
      "Analysis is done ignoring \"\\n\".\n",
      "Analysis is done ignoring \"\\n\".\n",
      "Analysis is done ignoring \"\\n\".\n",
      "Analysis is done ignoring \"\\n\".\n",
      "Analysis is done ignoring \"\\n\".\n"
     ]
    },
    {
     "name": "stdout",
     "output_type": "stream",
     "text": [
      "error\n"
     ]
    },
    {
     "name": "stderr",
     "output_type": "stream",
     "text": [
      "Analysis is done ignoring \"\\n\".\n",
      "Analysis is done ignoring \"\\n\".\n",
      "Analysis is done ignoring \"\\n\".\n",
      "Analysis is done ignoring \"\\n\".\n",
      "Analysis is done ignoring \"\\n\".\n",
      "Analysis is done ignoring \"\\n\".\n",
      "Analysis is done ignoring \"\\n\".\n",
      "Analysis is done ignoring \"\\n\".\n",
      "Analysis is done ignoring \"\\n\".\n",
      "Analysis is done ignoring \"\\n\".\n",
      "Analysis is done ignoring \"\\n\".\n",
      "Analysis is done ignoring \"\\n\".\n"
     ]
    },
    {
     "name": "stdout",
     "output_type": "stream",
     "text": [
      "error\n"
     ]
    },
    {
     "name": "stderr",
     "output_type": "stream",
     "text": [
      "Analysis is done ignoring \"\\n\".\n",
      "Analysis is done ignoring \"\\n\".\n"
     ]
    },
    {
     "name": "stdout",
     "output_type": "stream",
     "text": [
      "error\n"
     ]
    },
    {
     "name": "stderr",
     "output_type": "stream",
     "text": [
      "Analysis is done ignoring \"\\n\".\n",
      "Analysis is done ignoring \"\\n\".\n",
      "Analysis is done ignoring \"\\n\".\n",
      "Analysis is done ignoring \"\\n\".\n",
      "Analysis is done ignoring \"\\n\".\n",
      "Analysis is done ignoring \"\\n\".\n"
     ]
    },
    {
     "name": "stdout",
     "output_type": "stream",
     "text": [
      "error\n"
     ]
    },
    {
     "name": "stderr",
     "output_type": "stream",
     "text": [
      "Analysis is done ignoring \"\\n\".\n",
      "Analysis is done ignoring \"\\n\".\n",
      "Analysis is done ignoring \"\\n\".\n",
      "Analysis is done ignoring \"\\n\".\n",
      "Analysis is done ignoring \"\\n\".\n",
      "Analysis is done ignoring \"\\n\".\n",
      "Analysis is done ignoring \"\\n\".\n",
      "Analysis is done ignoring \"\\n\".\n",
      "Analysis is done ignoring \"\\n\".\n",
      "Analysis is done ignoring \"\\n\".\n",
      "Analysis is done ignoring \"\\n\".\n",
      "Analysis is done ignoring \"\\n\".\n",
      "Analysis is done ignoring \"\\n\".\n",
      "Analysis is done ignoring \"\\n\".\n"
     ]
    },
    {
     "name": "stdout",
     "output_type": "stream",
     "text": [
      "error\n"
     ]
    },
    {
     "name": "stderr",
     "output_type": "stream",
     "text": [
      "Analysis is done ignoring \"\\n\".\n"
     ]
    },
    {
     "name": "stdout",
     "output_type": "stream",
     "text": [
      "error\n"
     ]
    },
    {
     "name": "stderr",
     "output_type": "stream",
     "text": [
      "Analysis is done ignoring \"\\n\".\n",
      "Analysis is done ignoring \"\\n\".\n",
      "Analysis is done ignoring \"\\n\".\n",
      "Analysis is done ignoring \"\\n\".\n",
      "Analysis is done ignoring \"\\n\".\n",
      "Analysis is done ignoring \"\\n\".\n",
      "Analysis is done ignoring \"\\n\".\n",
      "Analysis is done ignoring \"\\n\".\n",
      "Analysis is done ignoring \"\\n\".\n",
      "Analysis is done ignoring \"\\n\".\n",
      "Analysis is done ignoring \"\\n\".\n",
      "Analysis is done ignoring \"\\n\".\n",
      "Analysis is done ignoring \"\\n\".\n",
      "Analysis is done ignoring \"\\n\".\n",
      "Analysis is done ignoring \"\\n\".\n",
      "Analysis is done ignoring \"\\n\".\n",
      "Analysis is done ignoring \"\\n\".\n",
      "Analysis is done ignoring \"\\n\".\n",
      "Analysis is done ignoring \"\\n\".\n",
      "Analysis is done ignoring \"\\n\".\n",
      "Analysis is done ignoring \"\\n\".\n",
      "Analysis is done ignoring \"\\n\".\n",
      "Analysis is done ignoring \"\\n\".\n",
      "Analysis is done ignoring \"\\n\".\n",
      "Analysis is done ignoring \"\\n\".\n",
      "Analysis is done ignoring \"\\n\".\n",
      "Analysis is done ignoring \"\\n\".\n",
      "Analysis is done ignoring \"\\n\".\n",
      "Analysis is done ignoring \"\\n\".\n",
      "Analysis is done ignoring \"\\n\".\n",
      "Analysis is done ignoring \"\\n\".\n",
      "Analysis is done ignoring \"\\n\".\n",
      "Analysis is done ignoring \"\\n\".\n"
     ]
    },
    {
     "name": "stdout",
     "output_type": "stream",
     "text": [
      "error\n"
     ]
    },
    {
     "name": "stderr",
     "output_type": "stream",
     "text": [
      "Analysis is done ignoring \"\\n\".\n",
      "Analysis is done ignoring \"\\n\".\n"
     ]
    },
    {
     "name": "stdout",
     "output_type": "stream",
     "text": [
      "error\n"
     ]
    },
    {
     "name": "stderr",
     "output_type": "stream",
     "text": [
      "Analysis is done ignoring \"\\n\".\n",
      "Analysis is done ignoring \"\\n\".\n",
      "Analysis is done ignoring \"\\n\".\n",
      "Analysis is done ignoring \"\\n\".\n",
      "Analysis is done ignoring \"\\n\".\n",
      "Analysis is done ignoring \"\\n\".\n",
      "Analysis is done ignoring \"\\n\".\n",
      "Analysis is done ignoring \"\\n\".\n",
      "Analysis is done ignoring \"\\n\".\n"
     ]
    },
    {
     "name": "stdout",
     "output_type": "stream",
     "text": [
      "error\n"
     ]
    },
    {
     "name": "stderr",
     "output_type": "stream",
     "text": [
      "Analysis is done ignoring \"\\n\".\n",
      "Analysis is done ignoring \"\\n\".\n",
      "Analysis is done ignoring \"\\n\".\n",
      "Analysis is done ignoring \"\\n\".\n",
      "Analysis is done ignoring \"\\n\".\n",
      "Analysis is done ignoring \"\\n\".\n",
      "Analysis is done ignoring \"\\n\".\n",
      "Analysis is done ignoring \"\\n\".\n",
      "Analysis is done ignoring \"\\n\".\n",
      "Analysis is done ignoring \"\\n\".\n",
      "Analysis is done ignoring \"\\n\".\n",
      "Analysis is done ignoring \"\\n\".\n",
      "Analysis is done ignoring \"\\n\".\n",
      "Analysis is done ignoring \"\\n\".\n",
      "Analysis is done ignoring \"\\n\".\n",
      "Analysis is done ignoring \"\\n\".\n",
      "Analysis is done ignoring \"\\n\".\n",
      "Analysis is done ignoring \"\\n\".\n",
      "Analysis is done ignoring \"\\n\".\n",
      "Analysis is done ignoring \"\\n\".\n",
      "Analysis is done ignoring \"\\n\".\n",
      "Analysis is done ignoring \"\\n\".\n",
      "Analysis is done ignoring \"\\n\".\n",
      "Analysis is done ignoring \"\\n\".\n",
      "Analysis is done ignoring \"\\n\".\n",
      "Analysis is done ignoring \"\\n\".\n",
      "Analysis is done ignoring \"\\n\".\n",
      "Analysis is done ignoring \"\\n\".\n",
      "Analysis is done ignoring \"\\n\".\n",
      "Analysis is done ignoring \"\\n\".\n",
      "Analysis is done ignoring \"\\n\".\n",
      "Analysis is done ignoring \"\\n\".\n",
      "Analysis is done ignoring \"\\n\".\n",
      "Analysis is done ignoring \"\\n\".\n",
      "Analysis is done ignoring \"\\n\".\n",
      "Analysis is done ignoring \"\\n\".\n",
      "Analysis is done ignoring \"\\n\".\n",
      "Analysis is done ignoring \"\\n\".\n",
      "Analysis is done ignoring \"\\n\".\n",
      "Analysis is done ignoring \"\\n\".\n",
      "Analysis is done ignoring \"\\n\".\n",
      "Analysis is done ignoring \"\\n\".\n",
      "Analysis is done ignoring \"\\n\".\n",
      "Analysis is done ignoring \"\\n\".\n",
      "Analysis is done ignoring \"\\n\".\n",
      "Analysis is done ignoring \"\\n\".\n",
      "Analysis is done ignoring \"\\n\".\n",
      "Analysis is done ignoring \"\\n\".\n",
      "Analysis is done ignoring \"\\n\".\n"
     ]
    },
    {
     "name": "stdout",
     "output_type": "stream",
     "text": [
      "error\n"
     ]
    },
    {
     "name": "stderr",
     "output_type": "stream",
     "text": [
      "Analysis is done ignoring \"\\n\".\n",
      "Analysis is done ignoring \"\\n\".\n",
      "Analysis is done ignoring \"\\n\".\n",
      "Analysis is done ignoring \"\\n\".\n",
      "Analysis is done ignoring \"\\n\".\n",
      "Analysis is done ignoring \"\\n\".\n"
     ]
    },
    {
     "name": "stdout",
     "output_type": "stream",
     "text": [
      "error\n"
     ]
    },
    {
     "name": "stderr",
     "output_type": "stream",
     "text": [
      "Analysis is done ignoring \"\\n\".\n",
      "Analysis is done ignoring \"\\n\".\n",
      "Analysis is done ignoring \"\\n\".\n",
      "Analysis is done ignoring \"\\n\".\n",
      "Analysis is done ignoring \"\\n\".\n",
      "Analysis is done ignoring \"\\n\".\n",
      "Analysis is done ignoring \"\\n\".\n",
      "Analysis is done ignoring \"\\n\".\n",
      "Analysis is done ignoring \"\\n\".\n",
      "Analysis is done ignoring \"\\n\".\n",
      "Analysis is done ignoring \"\\n\".\n",
      "Analysis is done ignoring \"\\n\".\n",
      "Analysis is done ignoring \"\\n\".\n",
      "Analysis is done ignoring \"\\n\".\n",
      "Analysis is done ignoring \"\\n\".\n",
      "Analysis is done ignoring \"\\n\".\n",
      "Analysis is done ignoring \"\\n\".\n",
      "Analysis is done ignoring \"\\n\".\n",
      "Analysis is done ignoring \"\\n\".\n",
      "Analysis is done ignoring \"\\n\".\n",
      "Analysis is done ignoring \"\\n\".\n",
      "Analysis is done ignoring \"\\n\".\n",
      "Analysis is done ignoring \"\\n\".\n",
      "Analysis is done ignoring \"\\n\".\n",
      "Analysis is done ignoring \"\\n\".\n",
      "Analysis is done ignoring \"\\n\".\n",
      "Analysis is done ignoring \"\\n\".\n",
      "Analysis is done ignoring \"\\n\".\n",
      "Analysis is done ignoring \"\\n\".\n",
      "Analysis is done ignoring \"\\n\".\n",
      "Analysis is done ignoring \"\\n\".\n",
      "Analysis is done ignoring \"\\n\".\n",
      "Analysis is done ignoring \"\\n\".\n",
      "Analysis is done ignoring \"\\n\".\n",
      "Analysis is done ignoring \"\\n\".\n",
      "Analysis is done ignoring \"\\n\".\n",
      "Analysis is done ignoring \"\\n\".\n",
      "Analysis is done ignoring \"\\n\".\n",
      "Analysis is done ignoring \"\\n\".\n",
      "Analysis is done ignoring \"\\n\".\n",
      "Analysis is done ignoring \"\\n\".\n",
      "Analysis is done ignoring \"\\n\".\n",
      "Analysis is done ignoring \"\\n\".\n",
      "Analysis is done ignoring \"\\n\".\n",
      "Analysis is done ignoring \"\\n\".\n",
      "Analysis is done ignoring \"\\n\".\n",
      "Analysis is done ignoring \"\\n\".\n",
      "Analysis is done ignoring \"\\n\".\n",
      "Analysis is done ignoring \"\\n\".\n",
      "Analysis is done ignoring \"\\n\".\n",
      "Analysis is done ignoring \"\\n\".\n",
      "Analysis is done ignoring \"\\n\".\n",
      "Analysis is done ignoring \"\\n\".\n",
      "Analysis is done ignoring \"\\n\".\n",
      "Analysis is done ignoring \"\\n\".\n",
      "Analysis is done ignoring \"\\n\".\n"
     ]
    },
    {
     "name": "stdout",
     "output_type": "stream",
     "text": [
      "error\n",
      "error\n"
     ]
    },
    {
     "name": "stderr",
     "output_type": "stream",
     "text": [
      "Analysis is done ignoring \"\\n\".\n",
      "Analysis is done ignoring \"\\n\".\n",
      "Analysis is done ignoring \"\\n\".\n",
      "Analysis is done ignoring \"\\n\".\n",
      "Analysis is done ignoring \"\\n\".\n",
      "Analysis is done ignoring \"\\n\".\n",
      "Analysis is done ignoring \"\\n\".\n",
      "Analysis is done ignoring \"\\n\".\n",
      "Analysis is done ignoring \"\\n\".\n",
      "Analysis is done ignoring \"\\n\".\n",
      "Analysis is done ignoring \"\\n\".\n",
      "Analysis is done ignoring \"\\n\".\n",
      "Analysis is done ignoring \"\\n\".\n",
      "Analysis is done ignoring \"\\n\".\n",
      "Analysis is done ignoring \"\\n\".\n",
      "Analysis is done ignoring \"\\n\".\n",
      "Analysis is done ignoring \"\\n\".\n",
      "Analysis is done ignoring \"\\n\".\n",
      "Analysis is done ignoring \"\\n\".\n"
     ]
    },
    {
     "name": "stdout",
     "output_type": "stream",
     "text": [
      "error\n"
     ]
    },
    {
     "name": "stderr",
     "output_type": "stream",
     "text": [
      "Analysis is done ignoring \"\\n\".\n",
      "Analysis is done ignoring \"\\n\".\n",
      "Analysis is done ignoring \"\\n\".\n",
      "Analysis is done ignoring \"\\n\".\n",
      "Analysis is done ignoring \"\\n\".\n",
      "Analysis is done ignoring \"\\n\".\n",
      "Analysis is done ignoring \"\\n\".\n",
      "Analysis is done ignoring \"\\n\".\n",
      "Analysis is done ignoring \"\\n\".\n",
      "Analysis is done ignoring \"\\n\".\n",
      "Analysis is done ignoring \"\\n\".\n",
      "Analysis is done ignoring \"\\n\".\n",
      "Analysis is done ignoring \"\\n\".\n",
      "Analysis is done ignoring \"\\n\".\n",
      "Analysis is done ignoring \"\\n\".\n"
     ]
    },
    {
     "name": "stdout",
     "output_type": "stream",
     "text": [
      "error\n"
     ]
    },
    {
     "name": "stderr",
     "output_type": "stream",
     "text": [
      "Analysis is done ignoring \"\\n\".\n",
      "Analysis is done ignoring \"\\n\".\n",
      "Analysis is done ignoring \"\\n\".\n",
      "Analysis is done ignoring \"\\n\".\n",
      "Analysis is done ignoring \"\\n\".\n",
      "Analysis is done ignoring \"\\n\".\n"
     ]
    },
    {
     "name": "stdout",
     "output_type": "stream",
     "text": [
      "error\n"
     ]
    },
    {
     "name": "stderr",
     "output_type": "stream",
     "text": [
      "Analysis is done ignoring \"\\n\".\n",
      "Analysis is done ignoring \"\\n\".\n",
      "Analysis is done ignoring \"\\n\".\n",
      "Analysis is done ignoring \"\\n\".\n",
      "Analysis is done ignoring \"\\n\".\n",
      "Analysis is done ignoring \"\\n\".\n",
      "Analysis is done ignoring \"\\n\".\n",
      "Analysis is done ignoring \"\\n\".\n",
      "Analysis is done ignoring \"\\n\".\n",
      "Analysis is done ignoring \"\\n\".\n",
      "Analysis is done ignoring \"\\n\".\n",
      "Analysis is done ignoring \"\\n\".\n",
      "Analysis is done ignoring \"\\n\".\n",
      "Analysis is done ignoring \"\\n\".\n",
      "Analysis is done ignoring \"\\n\".\n",
      "Analysis is done ignoring \"\\n\".\n",
      "Analysis is done ignoring \"\\n\".\n",
      "Analysis is done ignoring \"\\n\".\n",
      "Analysis is done ignoring \"\\n\".\n",
      "Analysis is done ignoring \"\\n\".\n",
      "Analysis is done ignoring \"\\n\".\n",
      "Analysis is done ignoring \"\\n\".\n",
      "Analysis is done ignoring \"\\n\".\n",
      "Analysis is done ignoring \"\\n\".\n",
      "Analysis is done ignoring \"\\n\".\n",
      "Analysis is done ignoring \"\\n\".\n",
      "Analysis is done ignoring \"\\n\".\n",
      "Analysis is done ignoring \"\\n\".\n",
      "Analysis is done ignoring \"\\n\".\n",
      "Analysis is done ignoring \"\\n\".\n",
      "Analysis is done ignoring \"\\n\".\n",
      "Analysis is done ignoring \"\\n\".\n",
      "Analysis is done ignoring \"\\n\".\n",
      "Analysis is done ignoring \"\\n\".\n",
      "Analysis is done ignoring \"\\n\".\n",
      "Analysis is done ignoring \"\\n\".\n",
      "Analysis is done ignoring \"\\n\".\n",
      "Analysis is done ignoring \"\\n\".\n",
      "Analysis is done ignoring \"\\n\".\n",
      "Analysis is done ignoring \"\\n\".\n",
      "Analysis is done ignoring \"\\n\".\n",
      "Analysis is done ignoring \"\\n\".\n",
      "Analysis is done ignoring \"\\n\".\n",
      "Analysis is done ignoring \"\\n\".\n",
      "Analysis is done ignoring \"\\n\".\n",
      "Analysis is done ignoring \"\\n\".\n",
      "Analysis is done ignoring \"\\n\".\n",
      "Analysis is done ignoring \"\\n\".\n"
     ]
    },
    {
     "name": "stdout",
     "output_type": "stream",
     "text": [
      "error\n"
     ]
    },
    {
     "name": "stderr",
     "output_type": "stream",
     "text": [
      "Analysis is done ignoring \"\\n\".\n",
      "Analysis is done ignoring \"\\n\".\n",
      "Analysis is done ignoring \"\\n\".\n",
      "Analysis is done ignoring \"\\n\".\n",
      "Analysis is done ignoring \"\\n\".\n",
      "Analysis is done ignoring \"\\n\".\n",
      "Analysis is done ignoring \"\\n\".\n",
      "Analysis is done ignoring \"\\n\".\n",
      "Analysis is done ignoring \"\\n\".\n",
      "Analysis is done ignoring \"\\n\".\n",
      "Analysis is done ignoring \"\\n\".\n",
      "Analysis is done ignoring \"\\n\".\n",
      "Analysis is done ignoring \"\\n\".\n",
      "Analysis is done ignoring \"\\n\".\n",
      "Analysis is done ignoring \"\\n\".\n",
      "Analysis is done ignoring \"\\n\".\n",
      "Analysis is done ignoring \"\\n\".\n"
     ]
    },
    {
     "name": "stdout",
     "output_type": "stream",
     "text": [
      "error\n"
     ]
    },
    {
     "name": "stderr",
     "output_type": "stream",
     "text": [
      "Analysis is done ignoring \"\\n\".\n",
      "Analysis is done ignoring \"\\n\".\n",
      "Analysis is done ignoring \"\\n\".\n",
      "Analysis is done ignoring \"\\n\".\n",
      "Analysis is done ignoring \"\\n\".\n",
      "Analysis is done ignoring \"\\n\".\n",
      "Analysis is done ignoring \"\\n\".\n",
      "Analysis is done ignoring \"\\n\".\n",
      "Analysis is done ignoring \"\\n\".\n",
      "Analysis is done ignoring \"\\n\".\n",
      "Analysis is done ignoring \"\\n\".\n",
      "Analysis is done ignoring \"\\n\".\n",
      "Analysis is done ignoring \"\\n\".\n",
      "Analysis is done ignoring \"\\n\".\n",
      "Analysis is done ignoring \"\\n\".\n",
      "Analysis is done ignoring \"\\n\".\n",
      "Analysis is done ignoring \"\\n\".\n",
      "Analysis is done ignoring \"\\n\".\n",
      "Analysis is done ignoring \"\\n\".\n",
      "Analysis is done ignoring \"\\n\".\n",
      "Analysis is done ignoring \"\\n\".\n",
      "Analysis is done ignoring \"\\n\".\n",
      "Analysis is done ignoring \"\\n\".\n",
      "Analysis is done ignoring \"\\n\".\n",
      "Analysis is done ignoring \"\\n\".\n",
      "Analysis is done ignoring \"\\n\".\n",
      "Analysis is done ignoring \"\\n\".\n",
      "Analysis is done ignoring \"\\n\".\n",
      "Analysis is done ignoring \"\\n\".\n",
      "Analysis is done ignoring \"\\n\".\n",
      "Analysis is done ignoring \"\\n\".\n",
      "Analysis is done ignoring \"\\n\".\n",
      "Analysis is done ignoring \"\\n\".\n",
      "Analysis is done ignoring \"\\n\".\n",
      "Analysis is done ignoring \"\\n\".\n",
      "Analysis is done ignoring \"\\n\".\n",
      "Analysis is done ignoring \"\\n\".\n",
      "Analysis is done ignoring \"\\n\".\n",
      "Analysis is done ignoring \"\\n\".\n",
      "Analysis is done ignoring \"\\n\".\n",
      "Analysis is done ignoring \"\\n\".\n",
      "Analysis is done ignoring \"\\n\".\n",
      "Analysis is done ignoring \"\\n\".\n",
      "Analysis is done ignoring \"\\n\".\n",
      "Analysis is done ignoring \"\\n\".\n",
      "Analysis is done ignoring \"\\n\".\n",
      "Analysis is done ignoring \"\\n\".\n",
      "Analysis is done ignoring \"\\n\".\n",
      "Analysis is done ignoring \"\\n\".\n",
      "Analysis is done ignoring \"\\n\".\n",
      "Analysis is done ignoring \"\\n\".\n",
      "Analysis is done ignoring \"\\n\".\n",
      "Analysis is done ignoring \"\\n\".\n",
      "Analysis is done ignoring \"\\n\".\n",
      "Analysis is done ignoring \"\\n\".\n",
      "Analysis is done ignoring \"\\n\".\n",
      "Analysis is done ignoring \"\\n\".\n",
      "Analysis is done ignoring \"\\n\".\n"
     ]
    },
    {
     "name": "stdout",
     "output_type": "stream",
     "text": [
      "error\n"
     ]
    },
    {
     "name": "stderr",
     "output_type": "stream",
     "text": [
      "Analysis is done ignoring \"\\n\".\n",
      "Analysis is done ignoring \"\\n\".\n",
      "Analysis is done ignoring \"\\n\".\n",
      "Analysis is done ignoring \"\\n\".\n",
      "Analysis is done ignoring \"\\n\".\n",
      "Analysis is done ignoring \"\\n\".\n"
     ]
    },
    {
     "name": "stdout",
     "output_type": "stream",
     "text": [
      "error\n"
     ]
    },
    {
     "name": "stderr",
     "output_type": "stream",
     "text": [
      "Analysis is done ignoring \"\\n\".\n",
      "Analysis is done ignoring \"\\n\".\n",
      "Analysis is done ignoring \"\\n\".\n",
      "Analysis is done ignoring \"\\n\".\n",
      "Analysis is done ignoring \"\\n\".\n",
      "Analysis is done ignoring \"\\n\".\n"
     ]
    },
    {
     "name": "stdout",
     "output_type": "stream",
     "text": [
      "error\n"
     ]
    },
    {
     "name": "stderr",
     "output_type": "stream",
     "text": [
      "Analysis is done ignoring \"\\n\".\n",
      "Analysis is done ignoring \"\\n\".\n",
      "Analysis is done ignoring \"\\n\".\n",
      "Analysis is done ignoring \"\\n\".\n",
      "Analysis is done ignoring \"\\n\".\n",
      "Analysis is done ignoring \"\\n\".\n",
      "Analysis is done ignoring \"\\n\".\n",
      "Analysis is done ignoring \"\\n\".\n",
      "Analysis is done ignoring \"\\n\".\n",
      "Analysis is done ignoring \"\\n\".\n"
     ]
    },
    {
     "name": "stdout",
     "output_type": "stream",
     "text": [
      "error\n"
     ]
    },
    {
     "name": "stderr",
     "output_type": "stream",
     "text": [
      "Analysis is done ignoring \"\\n\".\n",
      "Analysis is done ignoring \"\\n\".\n",
      "Analysis is done ignoring \"\\n\".\n",
      "Analysis is done ignoring \"\\n\".\n",
      "Analysis is done ignoring \"\\n\".\n",
      "Analysis is done ignoring \"\\n\".\n",
      "Analysis is done ignoring \"\\n\".\n",
      "Analysis is done ignoring \"\\n\".\n",
      "Analysis is done ignoring \"\\n\".\n",
      "Analysis is done ignoring \"\\n\".\n",
      "Analysis is done ignoring \"\\n\".\n",
      "Analysis is done ignoring \"\\n\".\n",
      "Analysis is done ignoring \"\\n\".\n",
      "Analysis is done ignoring \"\\n\".\n",
      "Analysis is done ignoring \"\\n\".\n",
      "Analysis is done ignoring \"\\n\".\n",
      "Analysis is done ignoring \"\\n\".\n",
      "Analysis is done ignoring \"\\n\".\n",
      "Analysis is done ignoring \"\\n\".\n",
      "Analysis is done ignoring \"\\n\".\n",
      "Analysis is done ignoring \"\\n\".\n",
      "Analysis is done ignoring \"\\n\".\n",
      "Analysis is done ignoring \"\\n\".\n",
      "Analysis is done ignoring \"\\n\".\n",
      "Analysis is done ignoring \"\\n\".\n",
      "Analysis is done ignoring \"\\n\".\n",
      "Analysis is done ignoring \"\\n\".\n",
      "Analysis is done ignoring \"\\n\".\n",
      "Analysis is done ignoring \"\\n\".\n",
      "Analysis is done ignoring \"\\n\".\n",
      "Analysis is done ignoring \"\\n\".\n",
      "Analysis is done ignoring \"\\n\".\n",
      "Analysis is done ignoring \"\\n\".\n",
      "Analysis is done ignoring \"\\n\".\n",
      "Analysis is done ignoring \"\\n\".\n",
      "Analysis is done ignoring \"\\n\".\n",
      "Analysis is done ignoring \"\\n\".\n",
      "Analysis is done ignoring \"\\n\".\n",
      "Analysis is done ignoring \"\\n\".\n",
      "Analysis is done ignoring \"\\n\".\n",
      "Analysis is done ignoring \"\\n\".\n"
     ]
    },
    {
     "name": "stdout",
     "output_type": "stream",
     "text": [
      "error\n"
     ]
    },
    {
     "name": "stderr",
     "output_type": "stream",
     "text": [
      "Analysis is done ignoring \"\\n\".\n",
      "Analysis is done ignoring \"\\n\".\n",
      "Analysis is done ignoring \"\\n\".\n",
      "Analysis is done ignoring \"\\n\".\n",
      "Analysis is done ignoring \"\\n\".\n",
      "Analysis is done ignoring \"\\n\".\n",
      "Analysis is done ignoring \"\\n\".\n",
      "Analysis is done ignoring \"\\n\".\n",
      "Analysis is done ignoring \"\\n\".\n",
      "Analysis is done ignoring \"\\n\".\n"
     ]
    },
    {
     "name": "stdout",
     "output_type": "stream",
     "text": [
      "error\n"
     ]
    },
    {
     "name": "stderr",
     "output_type": "stream",
     "text": [
      "Analysis is done ignoring \"\\n\".\n",
      "Analysis is done ignoring \"\\n\".\n",
      "Analysis is done ignoring \"\\n\".\n",
      "Analysis is done ignoring \"\\n\".\n",
      "Analysis is done ignoring \"\\n\".\n",
      "Analysis is done ignoring \"\\n\".\n",
      "Analysis is done ignoring \"\\n\".\n",
      "Analysis is done ignoring \"\\n\".\n",
      "Analysis is done ignoring \"\\n\".\n",
      "Analysis is done ignoring \"\\n\".\n",
      "Analysis is done ignoring \"\\n\".\n",
      "Analysis is done ignoring \"\\n\".\n",
      "Analysis is done ignoring \"\\n\".\n",
      "Analysis is done ignoring \"\\n\".\n",
      "Analysis is done ignoring \"\\n\".\n",
      "Analysis is done ignoring \"\\n\".\n",
      "Analysis is done ignoring \"\\n\".\n",
      "Analysis is done ignoring \"\\n\".\n",
      "Analysis is done ignoring \"\\n\".\n",
      "Analysis is done ignoring \"\\n\".\n",
      "Analysis is done ignoring \"\\n\".\n",
      "Analysis is done ignoring \"\\n\".\n",
      "Analysis is done ignoring \"\\n\".\n",
      "Analysis is done ignoring \"\\n\".\n",
      "Analysis is done ignoring \"\\n\".\n",
      "Analysis is done ignoring \"\\n\".\n",
      "Analysis is done ignoring \"\\n\".\n",
      "Analysis is done ignoring \"\\n\".\n",
      "Analysis is done ignoring \"\\n\".\n",
      "Analysis is done ignoring \"\\n\".\n",
      "Analysis is done ignoring \"\\n\".\n",
      "Analysis is done ignoring \"\\n\".\n",
      "Analysis is done ignoring \"\\n\".\n",
      "Analysis is done ignoring \"\\n\".\n",
      "Analysis is done ignoring \"\\n\".\n",
      "Analysis is done ignoring \"\\n\".\n",
      "Analysis is done ignoring \"\\n\".\n",
      "Analysis is done ignoring \"\\n\".\n",
      "Analysis is done ignoring \"\\n\".\n",
      "Analysis is done ignoring \"\\n\".\n",
      "Analysis is done ignoring \"\\n\".\n",
      "Analysis is done ignoring \"\\n\".\n",
      "Analysis is done ignoring \"\\n\".\n",
      "Analysis is done ignoring \"\\n\".\n",
      "Analysis is done ignoring \"\\n\".\n",
      "Analysis is done ignoring \"\\n\".\n",
      "Analysis is done ignoring \"\\n\".\n",
      "Analysis is done ignoring \"\\n\".\n",
      "Analysis is done ignoring \"\\n\".\n",
      "Analysis is done ignoring \"\\n\".\n",
      "Analysis is done ignoring \"\\n\".\n",
      "Analysis is done ignoring \"\\n\".\n",
      "Analysis is done ignoring \"\\n\".\n",
      "Analysis is done ignoring \"\\n\".\n",
      "Analysis is done ignoring \"\\n\".\n",
      "Analysis is done ignoring \"\\n\".\n",
      "Analysis is done ignoring \"\\n\".\n",
      "Analysis is done ignoring \"\\n\".\n",
      "Analysis is done ignoring \"\\n\".\n",
      "Analysis is done ignoring \"\\n\".\n",
      "Analysis is done ignoring \"\\n\".\n",
      "Analysis is done ignoring \"\\n\".\n",
      "Analysis is done ignoring \"\\n\".\n",
      "Analysis is done ignoring \"\\n\".\n",
      "Analysis is done ignoring \"\\n\".\n",
      "Analysis is done ignoring \"\\n\".\n",
      "Analysis is done ignoring \"\\n\".\n",
      "Analysis is done ignoring \"\\n\".\n",
      "Analysis is done ignoring \"\\n\".\n",
      "Analysis is done ignoring \"\\n\".\n",
      "Analysis is done ignoring \"\\n\".\n",
      "Analysis is done ignoring \"\\n\".\n",
      "Analysis is done ignoring \"\\n\".\n",
      "Analysis is done ignoring \"\\n\".\n",
      "Analysis is done ignoring \"\\n\".\n",
      "Analysis is done ignoring \"\\n\".\n",
      "Analysis is done ignoring \"\\n\".\n",
      "Analysis is done ignoring \"\\n\".\n",
      "Analysis is done ignoring \"\\n\".\n",
      "Analysis is done ignoring \"\\n\".\n",
      "Analysis is done ignoring \"\\n\".\n",
      "Analysis is done ignoring \"\\n\".\n",
      "Analysis is done ignoring \"\\n\".\n",
      "Analysis is done ignoring \"\\n\".\n",
      "Analysis is done ignoring \"\\n\".\n",
      "Analysis is done ignoring \"\\n\".\n",
      "Analysis is done ignoring \"\\n\".\n",
      "Analysis is done ignoring \"\\n\".\n"
     ]
    },
    {
     "name": "stdout",
     "output_type": "stream",
     "text": [
      "error\n"
     ]
    },
    {
     "name": "stderr",
     "output_type": "stream",
     "text": [
      "Analysis is done ignoring \"\\n\".\n",
      "Analysis is done ignoring \"\\n\".\n",
      "Analysis is done ignoring \"\\n\".\n",
      "Analysis is done ignoring \"\\n\".\n",
      "Analysis is done ignoring \"\\n\".\n",
      "Analysis is done ignoring \"\\n\".\n",
      "Analysis is done ignoring \"\\n\".\n",
      "Analysis is done ignoring \"\\n\".\n"
     ]
    },
    {
     "name": "stdout",
     "output_type": "stream",
     "text": [
      "error\n"
     ]
    },
    {
     "name": "stderr",
     "output_type": "stream",
     "text": [
      "Analysis is done ignoring \"\\n\".\n",
      "Analysis is done ignoring \"\\n\".\n",
      "Analysis is done ignoring \"\\n\".\n",
      "Analysis is done ignoring \"\\n\".\n",
      "Analysis is done ignoring \"\\n\".\n",
      "Analysis is done ignoring \"\\n\".\n",
      "Analysis is done ignoring \"\\n\".\n",
      "Analysis is done ignoring \"\\n\".\n",
      "Analysis is done ignoring \"\\n\".\n",
      "Analysis is done ignoring \"\\n\".\n"
     ]
    },
    {
     "name": "stdout",
     "output_type": "stream",
     "text": [
      "error\n"
     ]
    },
    {
     "name": "stderr",
     "output_type": "stream",
     "text": [
      "Analysis is done ignoring \"\\n\".\n",
      "Analysis is done ignoring \"\\n\".\n",
      "Analysis is done ignoring \"\\n\".\n",
      "Analysis is done ignoring \"\\n\".\n",
      "Analysis is done ignoring \"\\n\".\n",
      "Analysis is done ignoring \"\\n\".\n",
      "Analysis is done ignoring \"\\n\".\n",
      "Analysis is done ignoring \"\\n\".\n",
      "Analysis is done ignoring \"\\n\".\n",
      "Analysis is done ignoring \"\\n\".\n",
      "Analysis is done ignoring \"\\n\".\n",
      "Analysis is done ignoring \"\\n\".\n",
      "Analysis is done ignoring \"\\n\".\n",
      "Analysis is done ignoring \"\\n\".\n",
      "Analysis is done ignoring \"\\n\".\n",
      "Analysis is done ignoring \"\\n\".\n",
      "Analysis is done ignoring \"\\n\".\n",
      "Analysis is done ignoring \"\\n\".\n",
      "Analysis is done ignoring \"\\n\".\n",
      "Analysis is done ignoring \"\\n\".\n",
      "Analysis is done ignoring \"\\n\".\n",
      "Analysis is done ignoring \"\\n\".\n",
      "Analysis is done ignoring \"\\n\".\n",
      "Analysis is done ignoring \"\\n\".\n",
      "Analysis is done ignoring \"\\n\".\n",
      "Analysis is done ignoring \"\\n\".\n",
      "Analysis is done ignoring \"\\n\".\n"
     ]
    },
    {
     "name": "stdout",
     "output_type": "stream",
     "text": [
      "error\n"
     ]
    },
    {
     "name": "stderr",
     "output_type": "stream",
     "text": [
      "Analysis is done ignoring \"\\n\".\n",
      "Analysis is done ignoring \"\\n\".\n",
      "Analysis is done ignoring \"\\n\".\n",
      "Analysis is done ignoring \"\\n\".\n",
      "Analysis is done ignoring \"\\n\".\n",
      "Analysis is done ignoring \"\\n\".\n",
      "Analysis is done ignoring \"\\n\".\n",
      "Analysis is done ignoring \"\\n\".\n",
      "Analysis is done ignoring \"\\n\".\n"
     ]
    },
    {
     "name": "stdout",
     "output_type": "stream",
     "text": [
      "error\n"
     ]
    },
    {
     "name": "stderr",
     "output_type": "stream",
     "text": [
      "Analysis is done ignoring \"\\n\".\n",
      "Analysis is done ignoring \"\\n\".\n",
      "Analysis is done ignoring \"\\n\".\n",
      "Analysis is done ignoring \"\\n\".\n",
      "Analysis is done ignoring \"\\n\".\n",
      "Analysis is done ignoring \"\\n\".\n",
      "Analysis is done ignoring \"\\n\".\n",
      "Analysis is done ignoring \"\\n\".\n",
      "Analysis is done ignoring \"\\n\".\n"
     ]
    },
    {
     "name": "stdout",
     "output_type": "stream",
     "text": [
      "error\n"
     ]
    },
    {
     "name": "stderr",
     "output_type": "stream",
     "text": [
      "Analysis is done ignoring \"\\n\".\n",
      "Analysis is done ignoring \"\\n\".\n",
      "Analysis is done ignoring \"\\n\".\n",
      "Analysis is done ignoring \"\\n\".\n"
     ]
    },
    {
     "name": "stdout",
     "output_type": "stream",
     "text": [
      "error\n"
     ]
    },
    {
     "name": "stderr",
     "output_type": "stream",
     "text": [
      "Analysis is done ignoring \"\\n\".\n",
      "Analysis is done ignoring \"\\n\".\n",
      "Analysis is done ignoring \"\\n\".\n"
     ]
    },
    {
     "name": "stdout",
     "output_type": "stream",
     "text": [
      "error\n"
     ]
    },
    {
     "name": "stderr",
     "output_type": "stream",
     "text": [
      "Analysis is done ignoring \"\\n\".\n",
      "Analysis is done ignoring \"\\n\".\n",
      "Analysis is done ignoring \"\\n\".\n",
      "Analysis is done ignoring \"\\n\".\n",
      "Analysis is done ignoring \"\\n\".\n",
      "Analysis is done ignoring \"\\n\".\n",
      "Analysis is done ignoring \"\\n\".\n",
      "Analysis is done ignoring \"\\n\".\n",
      "Analysis is done ignoring \"\\n\".\n",
      "Analysis is done ignoring \"\\n\".\n",
      "Analysis is done ignoring \"\\n\".\n",
      "Analysis is done ignoring \"\\n\".\n",
      "Analysis is done ignoring \"\\n\".\n",
      "Analysis is done ignoring \"\\n\".\n",
      "Analysis is done ignoring \"\\n\".\n",
      "Analysis is done ignoring \"\\n\".\n",
      "Analysis is done ignoring \"\\n\".\n",
      "Analysis is done ignoring \"\\n\".\n",
      "Analysis is done ignoring \"\\n\".\n",
      "Analysis is done ignoring \"\\n\".\n"
     ]
    },
    {
     "name": "stdout",
     "output_type": "stream",
     "text": [
      "error\n"
     ]
    },
    {
     "name": "stderr",
     "output_type": "stream",
     "text": [
      "Analysis is done ignoring \"\\n\".\n",
      "Analysis is done ignoring \"\\n\".\n",
      "Analysis is done ignoring \"\\n\".\n",
      "Analysis is done ignoring \"\\n\".\n",
      "Analysis is done ignoring \"\\n\".\n",
      "Analysis is done ignoring \"\\n\".\n"
     ]
    },
    {
     "name": "stdout",
     "output_type": "stream",
     "text": [
      "error\n"
     ]
    },
    {
     "name": "stderr",
     "output_type": "stream",
     "text": [
      "Analysis is done ignoring \"\\n\".\n",
      "Analysis is done ignoring \"\\n\".\n",
      "Analysis is done ignoring \"\\n\".\n",
      "Analysis is done ignoring \"\\n\".\n",
      "Analysis is done ignoring \"\\n\".\n",
      "Analysis is done ignoring \"\\n\".\n",
      "Analysis is done ignoring \"\\n\".\n",
      "Analysis is done ignoring \"\\n\".\n",
      "Analysis is done ignoring \"\\n\".\n",
      "Analysis is done ignoring \"\\n\".\n",
      "Analysis is done ignoring \"\\n\".\n",
      "Analysis is done ignoring \"\\n\".\n",
      "Analysis is done ignoring \"\\n\".\n",
      "Analysis is done ignoring \"\\n\".\n",
      "Analysis is done ignoring \"\\n\".\n",
      "Analysis is done ignoring \"\\n\".\n",
      "Analysis is done ignoring \"\\n\".\n",
      "Analysis is done ignoring \"\\n\".\n",
      "Analysis is done ignoring \"\\n\".\n",
      "Analysis is done ignoring \"\\n\".\n",
      "Analysis is done ignoring \"\\n\".\n",
      "Analysis is done ignoring \"\\n\".\n"
     ]
    },
    {
     "name": "stdout",
     "output_type": "stream",
     "text": [
      "error\n",
      "error\n"
     ]
    },
    {
     "name": "stderr",
     "output_type": "stream",
     "text": [
      "Analysis is done ignoring \"\\n\".\n",
      "Analysis is done ignoring \"\\n\".\n",
      "Analysis is done ignoring \"\\n\".\n",
      "Analysis is done ignoring \"\\n\".\n",
      "Analysis is done ignoring \"\\n\".\n",
      "Analysis is done ignoring \"\\n\".\n",
      "Analysis is done ignoring \"\\n\".\n",
      "Analysis is done ignoring \"\\n\".\n",
      "Analysis is done ignoring \"\\n\".\n",
      "Analysis is done ignoring \"\\n\".\n"
     ]
    },
    {
     "name": "stdout",
     "output_type": "stream",
     "text": [
      "error\n"
     ]
    },
    {
     "name": "stderr",
     "output_type": "stream",
     "text": [
      "Analysis is done ignoring \"\\n\".\n",
      "Analysis is done ignoring \"\\n\".\n",
      "Analysis is done ignoring \"\\n\".\n",
      "Analysis is done ignoring \"\\n\".\n",
      "Analysis is done ignoring \"\\n\".\n",
      "Analysis is done ignoring \"\\n\".\n",
      "Analysis is done ignoring \"\\n\".\n",
      "Analysis is done ignoring \"\\n\".\n",
      "Analysis is done ignoring \"\\n\".\n",
      "Analysis is done ignoring \"\\n\".\n",
      "Analysis is done ignoring \"\\n\".\n",
      "Analysis is done ignoring \"\\n\".\n",
      "Analysis is done ignoring \"\\n\".\n",
      "Analysis is done ignoring \"\\n\".\n",
      "Analysis is done ignoring \"\\n\".\n",
      "Analysis is done ignoring \"\\n\".\n",
      "Analysis is done ignoring \"\\n\".\n",
      "Analysis is done ignoring \"\\n\".\n",
      "Analysis is done ignoring \"\\n\".\n",
      "Analysis is done ignoring \"\\n\".\n",
      "Analysis is done ignoring \"\\n\".\n",
      "Analysis is done ignoring \"\\n\".\n",
      "Analysis is done ignoring \"\\n\".\n",
      "Analysis is done ignoring \"\\n\".\n",
      "Analysis is done ignoring \"\\n\".\n",
      "Analysis is done ignoring \"\\n\".\n",
      "Analysis is done ignoring \"\\n\".\n",
      "Analysis is done ignoring \"\\n\".\n",
      "Analysis is done ignoring \"\\n\".\n",
      "Analysis is done ignoring \"\\n\".\n",
      "Analysis is done ignoring \"\\n\".\n",
      "Analysis is done ignoring \"\\n\".\n",
      "Analysis is done ignoring \"\\n\".\n",
      "Analysis is done ignoring \"\\n\".\n",
      "Analysis is done ignoring \"\\n\".\n",
      "Analysis is done ignoring \"\\n\".\n",
      "Analysis is done ignoring \"\\n\".\n",
      "Analysis is done ignoring \"\\n\".\n",
      "Analysis is done ignoring \"\\n\".\n",
      "Analysis is done ignoring \"\\n\".\n"
     ]
    },
    {
     "name": "stdout",
     "output_type": "stream",
     "text": [
      "error\n"
     ]
    },
    {
     "name": "stderr",
     "output_type": "stream",
     "text": [
      "Analysis is done ignoring \"\\n\".\n",
      "Analysis is done ignoring \"\\n\".\n",
      "Analysis is done ignoring \"\\n\".\n",
      "Analysis is done ignoring \"\\n\".\n",
      "Analysis is done ignoring \"\\n\".\n",
      "Analysis is done ignoring \"\\n\".\n",
      "Analysis is done ignoring \"\\n\".\n",
      "Analysis is done ignoring \"\\n\".\n",
      "Analysis is done ignoring \"\\n\".\n",
      "Analysis is done ignoring \"\\n\".\n",
      "Analysis is done ignoring \"\\n\".\n",
      "Analysis is done ignoring \"\\n\".\n"
     ]
    },
    {
     "name": "stdout",
     "output_type": "stream",
     "text": [
      "error\n"
     ]
    },
    {
     "name": "stderr",
     "output_type": "stream",
     "text": [
      "Analysis is done ignoring \"\\n\".\n",
      "Analysis is done ignoring \"\\n\".\n",
      "Analysis is done ignoring \"\\n\".\n",
      "Analysis is done ignoring \"\\n\".\n",
      "Analysis is done ignoring \"\\n\".\n",
      "Analysis is done ignoring \"\\n\".\n",
      "Analysis is done ignoring \"\\n\".\n",
      "Analysis is done ignoring \"\\n\".\n",
      "Analysis is done ignoring \"\\n\".\n"
     ]
    },
    {
     "name": "stdout",
     "output_type": "stream",
     "text": [
      "error\n"
     ]
    },
    {
     "name": "stderr",
     "output_type": "stream",
     "text": [
      "Analysis is done ignoring \"\\n\".\n",
      "Analysis is done ignoring \"\\n\".\n",
      "Analysis is done ignoring \"\\n\".\n",
      "Analysis is done ignoring \"\\n\".\n",
      "Analysis is done ignoring \"\\n\".\n",
      "Analysis is done ignoring \"\\n\".\n",
      "Analysis is done ignoring \"\\n\".\n",
      "Analysis is done ignoring \"\\n\".\n",
      "Analysis is done ignoring \"\\n\".\n",
      "Analysis is done ignoring \"\\n\".\n",
      "Analysis is done ignoring \"\\n\".\n",
      "Analysis is done ignoring \"\\n\".\n",
      "Analysis is done ignoring \"\\n\".\n",
      "Analysis is done ignoring \"\\n\".\n",
      "Analysis is done ignoring \"\\n\".\n",
      "Analysis is done ignoring \"\\n\".\n",
      "Analysis is done ignoring \"\\n\".\n",
      "Analysis is done ignoring \"\\n\".\n",
      "Analysis is done ignoring \"\\n\".\n",
      "Analysis is done ignoring \"\\n\".\n",
      "Analysis is done ignoring \"\\n\".\n",
      "Analysis is done ignoring \"\\n\".\n",
      "Analysis is done ignoring \"\\n\".\n",
      "Analysis is done ignoring \"\\n\".\n",
      "Analysis is done ignoring \"\\n\".\n",
      "Analysis is done ignoring \"\\n\".\n",
      "Analysis is done ignoring \"\\n\".\n",
      "Analysis is done ignoring \"\\n\".\n"
     ]
    },
    {
     "name": "stdout",
     "output_type": "stream",
     "text": [
      "error\n"
     ]
    },
    {
     "name": "stderr",
     "output_type": "stream",
     "text": [
      "Analysis is done ignoring \"\\n\".\n",
      "Analysis is done ignoring \"\\n\".\n",
      "Analysis is done ignoring \"\\n\".\n",
      "Analysis is done ignoring \"\\n\".\n",
      "Analysis is done ignoring \"\\n\".\n",
      "Analysis is done ignoring \"\\n\".\n",
      "Analysis is done ignoring \"\\n\".\n",
      "Analysis is done ignoring \"\\n\".\n",
      "Analysis is done ignoring \"\\n\".\n",
      "Analysis is done ignoring \"\\n\".\n",
      "Analysis is done ignoring \"\\n\".\n",
      "Analysis is done ignoring \"\\n\".\n",
      "Analysis is done ignoring \"\\n\".\n",
      "Analysis is done ignoring \"\\n\".\n",
      "Analysis is done ignoring \"\\n\".\n",
      "Analysis is done ignoring \"\\n\".\n",
      "Analysis is done ignoring \"\\n\".\n",
      "Analysis is done ignoring \"\\n\".\n",
      "Analysis is done ignoring \"\\n\".\n",
      "Analysis is done ignoring \"\\n\".\n",
      "Analysis is done ignoring \"\\n\".\n",
      "Analysis is done ignoring \"\\n\".\n",
      "Analysis is done ignoring \"\\n\".\n",
      "Analysis is done ignoring \"\\n\".\n",
      "Analysis is done ignoring \"\\n\".\n",
      "Analysis is done ignoring \"\\n\".\n",
      "Analysis is done ignoring \"\\n\".\n",
      "Analysis is done ignoring \"\\n\".\n",
      "Analysis is done ignoring \"\\n\".\n",
      "Analysis is done ignoring \"\\n\".\n",
      "Analysis is done ignoring \"\\n\".\n",
      "Analysis is done ignoring \"\\n\".\n",
      "Analysis is done ignoring \"\\n\".\n",
      "Analysis is done ignoring \"\\n\".\n",
      "Analysis is done ignoring \"\\n\".\n",
      "Analysis is done ignoring \"\\n\".\n",
      "Analysis is done ignoring \"\\n\".\n",
      "Analysis is done ignoring \"\\n\".\n",
      "Analysis is done ignoring \"\\n\".\n",
      "Analysis is done ignoring \"\\n\".\n",
      "Analysis is done ignoring \"\\n\".\n",
      "Analysis is done ignoring \"\\n\".\n",
      "Analysis is done ignoring \"\\n\".\n",
      "Analysis is done ignoring \"\\n\".\n",
      "Analysis is done ignoring \"\\n\".\n",
      "Analysis is done ignoring \"\\n\".\n",
      "Analysis is done ignoring \"\\n\".\n",
      "Analysis is done ignoring \"\\n\".\n",
      "Analysis is done ignoring \"\\n\".\n",
      "Analysis is done ignoring \"\\n\".\n",
      "Analysis is done ignoring \"\\n\".\n",
      "Analysis is done ignoring \"\\n\".\n",
      "Analysis is done ignoring \"\\n\".\n",
      "Analysis is done ignoring \"\\n\".\n",
      "Analysis is done ignoring \"\\n\".\n",
      "Analysis is done ignoring \"\\n\".\n",
      "Analysis is done ignoring \"\\n\".\n",
      "Analysis is done ignoring \"\\n\".\n",
      "Analysis is done ignoring \"\\n\".\n",
      "Analysis is done ignoring \"\\n\".\n",
      "Analysis is done ignoring \"\\n\".\n",
      "Analysis is done ignoring \"\\n\".\n",
      "Analysis is done ignoring \"\\n\".\n",
      "Analysis is done ignoring \"\\n\".\n",
      "Analysis is done ignoring \"\\n\".\n",
      "Analysis is done ignoring \"\\n\".\n",
      "Analysis is done ignoring \"\\n\".\n",
      "Analysis is done ignoring \"\\n\".\n",
      "Analysis is done ignoring \"\\n\".\n",
      "Analysis is done ignoring \"\\n\".\n",
      "Analysis is done ignoring \"\\n\".\n",
      "Analysis is done ignoring \"\\n\".\n",
      "Analysis is done ignoring \"\\n\".\n",
      "Analysis is done ignoring \"\\n\".\n",
      "Analysis is done ignoring \"\\n\".\n",
      "Analysis is done ignoring \"\\n\".\n",
      "Analysis is done ignoring \"\\n\".\n",
      "Analysis is done ignoring \"\\n\".\n"
     ]
    },
    {
     "name": "stdout",
     "output_type": "stream",
     "text": [
      "error\n"
     ]
    },
    {
     "name": "stderr",
     "output_type": "stream",
     "text": [
      "Analysis is done ignoring \"\\n\".\n",
      "Analysis is done ignoring \"\\n\".\n",
      "Analysis is done ignoring \"\\n\".\n",
      "Analysis is done ignoring \"\\n\".\n",
      "Analysis is done ignoring \"\\n\".\n",
      "Analysis is done ignoring \"\\n\".\n",
      "Analysis is done ignoring \"\\n\".\n",
      "Analysis is done ignoring \"\\n\".\n",
      "Analysis is done ignoring \"\\n\".\n",
      "Analysis is done ignoring \"\\n\".\n",
      "Analysis is done ignoring \"\\n\".\n",
      "Analysis is done ignoring \"\\n\".\n",
      "Analysis is done ignoring \"\\n\".\n",
      "Analysis is done ignoring \"\\n\".\n",
      "Analysis is done ignoring \"\\n\".\n",
      "Analysis is done ignoring \"\\n\".\n",
      "Analysis is done ignoring \"\\n\".\n",
      "Analysis is done ignoring \"\\n\".\n",
      "Analysis is done ignoring \"\\n\".\n",
      "Analysis is done ignoring \"\\n\".\n",
      "Analysis is done ignoring \"\\n\".\n",
      "Analysis is done ignoring \"\\n\".\n"
     ]
    },
    {
     "name": "stdout",
     "output_type": "stream",
     "text": [
      "error\n"
     ]
    },
    {
     "name": "stderr",
     "output_type": "stream",
     "text": [
      "Analysis is done ignoring \"\\n\".\n",
      "Analysis is done ignoring \"\\n\".\n",
      "Analysis is done ignoring \"\\n\".\n",
      "Analysis is done ignoring \"\\n\".\n",
      "Analysis is done ignoring \"\\n\".\n",
      "Analysis is done ignoring \"\\n\".\n",
      "Analysis is done ignoring \"\\n\".\n",
      "Analysis is done ignoring \"\\n\".\n",
      "Analysis is done ignoring \"\\n\".\n",
      "Analysis is done ignoring \"\\n\".\n",
      "Analysis is done ignoring \"\\n\".\n",
      "Analysis is done ignoring \"\\n\".\n",
      "Analysis is done ignoring \"\\n\".\n",
      "Analysis is done ignoring \"\\n\".\n",
      "Analysis is done ignoring \"\\n\".\n",
      "Analysis is done ignoring \"\\n\".\n",
      "Analysis is done ignoring \"\\n\".\n",
      "Analysis is done ignoring \"\\n\".\n",
      "Analysis is done ignoring \"\\n\".\n",
      "Analysis is done ignoring \"\\n\".\n",
      "Analysis is done ignoring \"\\n\".\n",
      "Analysis is done ignoring \"\\n\".\n"
     ]
    },
    {
     "name": "stdout",
     "output_type": "stream",
     "text": [
      "error\n"
     ]
    },
    {
     "name": "stderr",
     "output_type": "stream",
     "text": [
      "Analysis is done ignoring \"\\n\".\n",
      "Analysis is done ignoring \"\\n\".\n",
      "Analysis is done ignoring \"\\n\".\n",
      "Analysis is done ignoring \"\\n\".\n",
      "Analysis is done ignoring \"\\n\".\n",
      "Analysis is done ignoring \"\\n\".\n",
      "Analysis is done ignoring \"\\n\".\n",
      "Analysis is done ignoring \"\\n\".\n",
      "Analysis is done ignoring \"\\n\".\n",
      "Analysis is done ignoring \"\\n\".\n",
      "Analysis is done ignoring \"\\n\".\n",
      "Analysis is done ignoring \"\\n\".\n",
      "Analysis is done ignoring \"\\n\".\n",
      "Analysis is done ignoring \"\\n\".\n",
      "Analysis is done ignoring \"\\n\".\n",
      "Analysis is done ignoring \"\\n\".\n",
      "Analysis is done ignoring \"\\n\".\n",
      "Analysis is done ignoring \"\\n\".\n",
      "Analysis is done ignoring \"\\n\".\n",
      "Analysis is done ignoring \"\\n\".\n",
      "Analysis is done ignoring \"\\n\".\n",
      "Analysis is done ignoring \"\\n\".\n",
      "Analysis is done ignoring \"\\n\".\n",
      "Analysis is done ignoring \"\\n\".\n",
      "Analysis is done ignoring \"\\n\".\n",
      "Analysis is done ignoring \"\\n\".\n",
      "Analysis is done ignoring \"\\n\".\n",
      "Analysis is done ignoring \"\\n\".\n",
      "Analysis is done ignoring \"\\n\".\n",
      "Analysis is done ignoring \"\\n\".\n",
      "Analysis is done ignoring \"\\n\".\n",
      "Analysis is done ignoring \"\\n\".\n",
      "Analysis is done ignoring \"\\n\".\n",
      "Analysis is done ignoring \"\\n\".\n",
      "Analysis is done ignoring \"\\n\".\n"
     ]
    },
    {
     "name": "stdout",
     "output_type": "stream",
     "text": [
      "error\n"
     ]
    },
    {
     "name": "stderr",
     "output_type": "stream",
     "text": [
      "Analysis is done ignoring \"\\n\".\n",
      "Analysis is done ignoring \"\\n\".\n",
      "Analysis is done ignoring \"\\n\".\n",
      "Analysis is done ignoring \"\\n\".\n",
      "Analysis is done ignoring \"\\n\".\n",
      "Analysis is done ignoring \"\\n\".\n",
      "Analysis is done ignoring \"\\n\".\n",
      "Analysis is done ignoring \"\\n\".\n",
      "Analysis is done ignoring \"\\n\".\n",
      "Analysis is done ignoring \"\\n\".\n",
      "Analysis is done ignoring \"\\n\".\n",
      "Analysis is done ignoring \"\\n\".\n",
      "Analysis is done ignoring \"\\n\".\n",
      "Analysis is done ignoring \"\\n\".\n",
      "Analysis is done ignoring \"\\n\".\n",
      "Analysis is done ignoring \"\\n\".\n",
      "Analysis is done ignoring \"\\n\".\n",
      "Analysis is done ignoring \"\\n\".\n"
     ]
    },
    {
     "name": "stdout",
     "output_type": "stream",
     "text": [
      "error\n"
     ]
    },
    {
     "name": "stderr",
     "output_type": "stream",
     "text": [
      "Analysis is done ignoring \"\\n\".\n",
      "Analysis is done ignoring \"\\n\".\n",
      "Analysis is done ignoring \"\\n\".\n",
      "Analysis is done ignoring \"\\n\".\n",
      "Analysis is done ignoring \"\\n\".\n"
     ]
    },
    {
     "name": "stdout",
     "output_type": "stream",
     "text": [
      "error\n"
     ]
    },
    {
     "name": "stderr",
     "output_type": "stream",
     "text": [
      "Analysis is done ignoring \"\\n\".\n",
      "Analysis is done ignoring \"\\n\".\n",
      "Analysis is done ignoring \"\\n\".\n",
      "Analysis is done ignoring \"\\n\".\n",
      "Analysis is done ignoring \"\\n\".\n",
      "Analysis is done ignoring \"\\n\".\n",
      "Analysis is done ignoring \"\\n\".\n",
      "Analysis is done ignoring \"\\n\".\n",
      "Analysis is done ignoring \"\\n\".\n",
      "Analysis is done ignoring \"\\n\".\n",
      "Analysis is done ignoring \"\\n\".\n",
      "Analysis is done ignoring \"\\n\".\n",
      "Analysis is done ignoring \"\\n\".\n",
      "Analysis is done ignoring \"\\n\".\n",
      "Analysis is done ignoring \"\\n\".\n",
      "Analysis is done ignoring \"\\n\".\n",
      "Analysis is done ignoring \"\\n\".\n",
      "Analysis is done ignoring \"\\n\".\n",
      "Analysis is done ignoring \"\\n\".\n",
      "Analysis is done ignoring \"\\n\".\n",
      "Analysis is done ignoring \"\\n\".\n",
      "Analysis is done ignoring \"\\n\".\n",
      "Analysis is done ignoring \"\\n\".\n",
      "Analysis is done ignoring \"\\n\".\n",
      "Analysis is done ignoring \"\\n\".\n",
      "Analysis is done ignoring \"\\n\".\n",
      "Analysis is done ignoring \"\\n\".\n",
      "Analysis is done ignoring \"\\n\".\n",
      "Analysis is done ignoring \"\\n\".\n",
      "Analysis is done ignoring \"\\n\".\n",
      "Analysis is done ignoring \"\\n\".\n",
      "Analysis is done ignoring \"\\n\".\n",
      "Analysis is done ignoring \"\\n\".\n",
      "Analysis is done ignoring \"\\n\".\n",
      "Analysis is done ignoring \"\\n\".\n",
      "Analysis is done ignoring \"\\n\".\n",
      "Analysis is done ignoring \"\\n\".\n"
     ]
    },
    {
     "name": "stdout",
     "output_type": "stream",
     "text": [
      "error\n"
     ]
    },
    {
     "name": "stderr",
     "output_type": "stream",
     "text": [
      "Analysis is done ignoring \"\\n\".\n",
      "Analysis is done ignoring \"\\n\".\n",
      "Analysis is done ignoring \"\\n\".\n",
      "Analysis is done ignoring \"\\n\".\n"
     ]
    },
    {
     "name": "stdout",
     "output_type": "stream",
     "text": [
      "error\n"
     ]
    },
    {
     "name": "stderr",
     "output_type": "stream",
     "text": [
      "Analysis is done ignoring \"\\n\".\n",
      "Analysis is done ignoring \"\\n\".\n",
      "Analysis is done ignoring \"\\n\".\n",
      "Analysis is done ignoring \"\\n\".\n",
      "Analysis is done ignoring \"\\n\".\n"
     ]
    },
    {
     "name": "stdout",
     "output_type": "stream",
     "text": [
      "error\n"
     ]
    },
    {
     "name": "stderr",
     "output_type": "stream",
     "text": [
      "Analysis is done ignoring \"\\n\".\n",
      "Analysis is done ignoring \"\\n\".\n"
     ]
    },
    {
     "name": "stdout",
     "output_type": "stream",
     "text": [
      "error\n"
     ]
    },
    {
     "name": "stderr",
     "output_type": "stream",
     "text": [
      "Analysis is done ignoring \"\\n\".\n",
      "Analysis is done ignoring \"\\n\".\n",
      "Analysis is done ignoring \"\\n\".\n",
      "Analysis is done ignoring \"\\n\".\n",
      "Analysis is done ignoring \"\\n\".\n"
     ]
    },
    {
     "name": "stdout",
     "output_type": "stream",
     "text": [
      "error\n"
     ]
    },
    {
     "name": "stderr",
     "output_type": "stream",
     "text": [
      "Analysis is done ignoring \"\\n\".\n",
      "Analysis is done ignoring \"\\n\".\n",
      "Analysis is done ignoring \"\\n\".\n",
      "Analysis is done ignoring \"\\n\".\n",
      "Analysis is done ignoring \"\\n\".\n",
      "Analysis is done ignoring \"\\n\".\n",
      "Analysis is done ignoring \"\\n\".\n",
      "Analysis is done ignoring \"\\n\".\n",
      "Analysis is done ignoring \"\\n\".\n",
      "Analysis is done ignoring \"\\n\".\n",
      "Analysis is done ignoring \"\\n\".\n",
      "Analysis is done ignoring \"\\n\".\n",
      "Analysis is done ignoring \"\\n\".\n",
      "Analysis is done ignoring \"\\n\".\n",
      "Analysis is done ignoring \"\\n\".\n",
      "Analysis is done ignoring \"\\n\".\n",
      "Analysis is done ignoring \"\\n\".\n",
      "Analysis is done ignoring \"\\n\".\n",
      "Analysis is done ignoring \"\\n\".\n",
      "Analysis is done ignoring \"\\n\".\n",
      "Analysis is done ignoring \"\\n\".\n",
      "Analysis is done ignoring \"\\n\".\n",
      "Analysis is done ignoring \"\\n\".\n",
      "Analysis is done ignoring \"\\n\".\n",
      "Analysis is done ignoring \"\\n\".\n",
      "Analysis is done ignoring \"\\n\".\n"
     ]
    },
    {
     "name": "stdout",
     "output_type": "stream",
     "text": [
      "error\n"
     ]
    },
    {
     "name": "stderr",
     "output_type": "stream",
     "text": [
      "Analysis is done ignoring \"\\n\".\n",
      "Analysis is done ignoring \"\\n\".\n",
      "Analysis is done ignoring \"\\n\".\n",
      "Analysis is done ignoring \"\\n\".\n",
      "Analysis is done ignoring \"\\n\".\n",
      "Analysis is done ignoring \"\\n\".\n",
      "Analysis is done ignoring \"\\n\".\n",
      "Analysis is done ignoring \"\\n\".\n",
      "Analysis is done ignoring \"\\n\".\n",
      "Analysis is done ignoring \"\\n\".\n",
      "Analysis is done ignoring \"\\n\".\n",
      "Analysis is done ignoring \"\\n\".\n",
      "Analysis is done ignoring \"\\n\".\n",
      "Analysis is done ignoring \"\\n\".\n",
      "Analysis is done ignoring \"\\n\".\n",
      "Analysis is done ignoring \"\\n\".\n",
      "Analysis is done ignoring \"\\n\".\n"
     ]
    },
    {
     "name": "stdout",
     "output_type": "stream",
     "text": [
      "error\n"
     ]
    },
    {
     "name": "stderr",
     "output_type": "stream",
     "text": [
      "Analysis is done ignoring \"\\n\".\n",
      "Analysis is done ignoring \"\\n\".\n",
      "Analysis is done ignoring \"\\n\".\n",
      "Analysis is done ignoring \"\\n\".\n",
      "Analysis is done ignoring \"\\n\".\n",
      "Analysis is done ignoring \"\\n\".\n",
      "Analysis is done ignoring \"\\n\".\n",
      "Analysis is done ignoring \"\\n\".\n",
      "Analysis is done ignoring \"\\n\".\n",
      "Analysis is done ignoring \"\\n\".\n",
      "Analysis is done ignoring \"\\n\".\n",
      "Analysis is done ignoring \"\\n\".\n",
      "Analysis is done ignoring \"\\n\".\n",
      "Analysis is done ignoring \"\\n\".\n",
      "Analysis is done ignoring \"\\n\".\n",
      "Analysis is done ignoring \"\\n\".\n",
      "Analysis is done ignoring \"\\n\".\n",
      "Analysis is done ignoring \"\\n\".\n",
      "Analysis is done ignoring \"\\n\".\n",
      "Analysis is done ignoring \"\\n\".\n",
      "Analysis is done ignoring \"\\n\".\n",
      "Analysis is done ignoring \"\\n\".\n",
      "Analysis is done ignoring \"\\n\".\n"
     ]
    },
    {
     "name": "stdout",
     "output_type": "stream",
     "text": [
      "error\n"
     ]
    },
    {
     "name": "stderr",
     "output_type": "stream",
     "text": [
      "Analysis is done ignoring \"\\n\".\n",
      "Analysis is done ignoring \"\\n\".\n",
      "Analysis is done ignoring \"\\n\".\n",
      "Analysis is done ignoring \"\\n\".\n",
      "Analysis is done ignoring \"\\n\".\n",
      "Analysis is done ignoring \"\\n\".\n",
      "Analysis is done ignoring \"\\n\".\n",
      "Analysis is done ignoring \"\\n\".\n",
      "Analysis is done ignoring \"\\n\".\n",
      "Analysis is done ignoring \"\\n\".\n",
      "Analysis is done ignoring \"\\n\".\n",
      "Analysis is done ignoring \"\\n\".\n",
      "Analysis is done ignoring \"\\n\".\n",
      "Analysis is done ignoring \"\\n\".\n",
      "Analysis is done ignoring \"\\n\".\n",
      "Analysis is done ignoring \"\\n\".\n",
      "Analysis is done ignoring \"\\n\".\n"
     ]
    },
    {
     "name": "stdout",
     "output_type": "stream",
     "text": [
      "error\n"
     ]
    },
    {
     "name": "stderr",
     "output_type": "stream",
     "text": [
      "Analysis is done ignoring \"\\n\".\n",
      "Analysis is done ignoring \"\\n\".\n",
      "Analysis is done ignoring \"\\n\".\n",
      "Analysis is done ignoring \"\\n\".\n"
     ]
    },
    {
     "name": "stdout",
     "output_type": "stream",
     "text": [
      "error\n"
     ]
    },
    {
     "name": "stderr",
     "output_type": "stream",
     "text": [
      "Analysis is done ignoring \"\\n\".\n",
      "Analysis is done ignoring \"\\n\".\n",
      "Analysis is done ignoring \"\\n\".\n",
      "Analysis is done ignoring \"\\n\".\n",
      "Analysis is done ignoring \"\\n\".\n"
     ]
    },
    {
     "name": "stdout",
     "output_type": "stream",
     "text": [
      "error\n"
     ]
    },
    {
     "name": "stderr",
     "output_type": "stream",
     "text": [
      "Analysis is done ignoring \"\\n\".\n",
      "Analysis is done ignoring \"\\n\".\n",
      "Analysis is done ignoring \"\\n\".\n",
      "Analysis is done ignoring \"\\n\".\n",
      "Analysis is done ignoring \"\\n\".\n",
      "Analysis is done ignoring \"\\n\".\n",
      "Analysis is done ignoring \"\\n\".\n",
      "Analysis is done ignoring \"\\n\".\n",
      "Analysis is done ignoring \"\\n\".\n",
      "Analysis is done ignoring \"\\n\".\n"
     ]
    },
    {
     "name": "stdout",
     "output_type": "stream",
     "text": [
      "error\n"
     ]
    },
    {
     "name": "stderr",
     "output_type": "stream",
     "text": [
      "Analysis is done ignoring \"\\n\".\n",
      "Analysis is done ignoring \"\\n\".\n",
      "Analysis is done ignoring \"\\n\".\n",
      "Analysis is done ignoring \"\\n\".\n",
      "Analysis is done ignoring \"\\n\".\n",
      "Analysis is done ignoring \"\\n\".\n",
      "Analysis is done ignoring \"\\n\".\n",
      "Analysis is done ignoring \"\\n\".\n",
      "Analysis is done ignoring \"\\n\".\n",
      "Analysis is done ignoring \"\\n\".\n",
      "Analysis is done ignoring \"\\n\".\n",
      "Analysis is done ignoring \"\\n\".\n",
      "Analysis is done ignoring \"\\n\".\n",
      "Analysis is done ignoring \"\\n\".\n",
      "Analysis is done ignoring \"\\n\".\n",
      "Analysis is done ignoring \"\\n\".\n",
      "Analysis is done ignoring \"\\n\".\n"
     ]
    },
    {
     "name": "stdout",
     "output_type": "stream",
     "text": [
      "error\n"
     ]
    },
    {
     "name": "stderr",
     "output_type": "stream",
     "text": [
      "Analysis is done ignoring \"\\n\".\n",
      "Analysis is done ignoring \"\\n\".\n",
      "Analysis is done ignoring \"\\n\".\n",
      "Analysis is done ignoring \"\\n\".\n",
      "Analysis is done ignoring \"\\n\".\n"
     ]
    },
    {
     "name": "stdout",
     "output_type": "stream",
     "text": [
      "error\n"
     ]
    },
    {
     "name": "stderr",
     "output_type": "stream",
     "text": [
      "Analysis is done ignoring \"\\n\".\n",
      "Analysis is done ignoring \"\\n\".\n"
     ]
    },
    {
     "name": "stdout",
     "output_type": "stream",
     "text": [
      "error\n"
     ]
    },
    {
     "name": "stderr",
     "output_type": "stream",
     "text": [
      "Analysis is done ignoring \"\\n\".\n",
      "Analysis is done ignoring \"\\n\".\n",
      "Analysis is done ignoring \"\\n\".\n"
     ]
    },
    {
     "name": "stdout",
     "output_type": "stream",
     "text": [
      "error\n"
     ]
    },
    {
     "name": "stderr",
     "output_type": "stream",
     "text": [
      "Analysis is done ignoring \"\\n\".\n",
      "Analysis is done ignoring \"\\n\".\n",
      "Analysis is done ignoring \"\\n\".\n",
      "Analysis is done ignoring \"\\n\".\n",
      "Analysis is done ignoring \"\\n\".\n",
      "Analysis is done ignoring \"\\n\".\n",
      "Analysis is done ignoring \"\\n\".\n",
      "Analysis is done ignoring \"\\n\".\n",
      "Analysis is done ignoring \"\\n\".\n",
      "Analysis is done ignoring \"\\n\".\n",
      "Analysis is done ignoring \"\\n\".\n",
      "Analysis is done ignoring \"\\n\".\n"
     ]
    },
    {
     "name": "stdout",
     "output_type": "stream",
     "text": [
      "error\n"
     ]
    },
    {
     "name": "stderr",
     "output_type": "stream",
     "text": [
      "Analysis is done ignoring \"\\n\".\n"
     ]
    },
    {
     "name": "stdout",
     "output_type": "stream",
     "text": [
      "error\n"
     ]
    },
    {
     "name": "stderr",
     "output_type": "stream",
     "text": [
      "Analysis is done ignoring \"\\n\".\n",
      "Analysis is done ignoring \"\\n\".\n",
      "Analysis is done ignoring \"\\n\".\n",
      "Analysis is done ignoring \"\\n\".\n"
     ]
    },
    {
     "name": "stdout",
     "output_type": "stream",
     "text": [
      "error\n"
     ]
    },
    {
     "name": "stderr",
     "output_type": "stream",
     "text": [
      "Analysis is done ignoring \"\\n\".\n",
      "Analysis is done ignoring \"\\n\".\n"
     ]
    },
    {
     "name": "stdout",
     "output_type": "stream",
     "text": [
      "error\n"
     ]
    },
    {
     "name": "stderr",
     "output_type": "stream",
     "text": [
      "Analysis is done ignoring \"\\n\".\n",
      "Analysis is done ignoring \"\\n\".\n",
      "Analysis is done ignoring \"\\n\".\n",
      "Analysis is done ignoring \"\\n\".\n",
      "Analysis is done ignoring \"\\n\".\n"
     ]
    },
    {
     "name": "stdout",
     "output_type": "stream",
     "text": [
      "error\n"
     ]
    },
    {
     "name": "stderr",
     "output_type": "stream",
     "text": [
      "Analysis is done ignoring \"\\n\".\n",
      "Analysis is done ignoring \"\\n\".\n",
      "Analysis is done ignoring \"\\n\".\n",
      "Analysis is done ignoring \"\\n\".\n",
      "Analysis is done ignoring \"\\n\".\n"
     ]
    },
    {
     "name": "stdout",
     "output_type": "stream",
     "text": [
      "error\n"
     ]
    },
    {
     "name": "stderr",
     "output_type": "stream",
     "text": [
      "Analysis is done ignoring \"\\n\".\n",
      "Analysis is done ignoring \"\\n\".\n",
      "Analysis is done ignoring \"\\n\".\n",
      "Analysis is done ignoring \"\\n\".\n"
     ]
    },
    {
     "name": "stdout",
     "output_type": "stream",
     "text": [
      "error\n"
     ]
    },
    {
     "name": "stderr",
     "output_type": "stream",
     "text": [
      "Analysis is done ignoring \"\\n\".\n",
      "Analysis is done ignoring \"\\n\".\n",
      "Analysis is done ignoring \"\\n\".\n",
      "Analysis is done ignoring \"\\n\".\n",
      "Analysis is done ignoring \"\\n\".\n",
      "Analysis is done ignoring \"\\n\".\n"
     ]
    },
    {
     "name": "stdout",
     "output_type": "stream",
     "text": [
      "error\n"
     ]
    },
    {
     "name": "stderr",
     "output_type": "stream",
     "text": [
      "Analysis is done ignoring \"\\n\".\n",
      "Analysis is done ignoring \"\\n\".\n",
      "Analysis is done ignoring \"\\n\".\n",
      "Analysis is done ignoring \"\\n\".\n",
      "Analysis is done ignoring \"\\n\".\n"
     ]
    },
    {
     "name": "stdout",
     "output_type": "stream",
     "text": [
      "error\n"
     ]
    },
    {
     "name": "stderr",
     "output_type": "stream",
     "text": [
      "Analysis is done ignoring \"\\n\".\n",
      "Analysis is done ignoring \"\\n\".\n",
      "Analysis is done ignoring \"\\n\".\n",
      "Analysis is done ignoring \"\\n\".\n",
      "Analysis is done ignoring \"\\n\".\n",
      "Analysis is done ignoring \"\\n\".\n",
      "Analysis is done ignoring \"\\n\".\n",
      "Analysis is done ignoring \"\\n\".\n",
      "Analysis is done ignoring \"\\n\".\n",
      "Analysis is done ignoring \"\\n\".\n",
      "Analysis is done ignoring \"\\n\".\n",
      "Analysis is done ignoring \"\\n\".\n",
      "Analysis is done ignoring \"\\n\".\n",
      "Analysis is done ignoring \"\\n\".\n",
      "Analysis is done ignoring \"\\n\".\n",
      "Analysis is done ignoring \"\\n\".\n",
      "Analysis is done ignoring \"\\n\".\n",
      "Analysis is done ignoring \"\\n\".\n",
      "Analysis is done ignoring \"\\n\".\n",
      "Analysis is done ignoring \"\\n\".\n",
      "Analysis is done ignoring \"\\n\".\n"
     ]
    },
    {
     "name": "stdout",
     "output_type": "stream",
     "text": [
      "error\n"
     ]
    },
    {
     "name": "stderr",
     "output_type": "stream",
     "text": [
      "Analysis is done ignoring \"\\n\".\n",
      "Analysis is done ignoring \"\\n\".\n",
      "Analysis is done ignoring \"\\n\".\n",
      "Analysis is done ignoring \"\\n\".\n",
      "Analysis is done ignoring \"\\n\".\n",
      "Analysis is done ignoring \"\\n\".\n",
      "Analysis is done ignoring \"\\n\".\n",
      "Analysis is done ignoring \"\\n\".\n",
      "Analysis is done ignoring \"\\n\".\n",
      "Analysis is done ignoring \"\\n\".\n",
      "Analysis is done ignoring \"\\n\".\n",
      "Analysis is done ignoring \"\\n\".\n",
      "Analysis is done ignoring \"\\n\".\n",
      "Analysis is done ignoring \"\\n\".\n",
      "Analysis is done ignoring \"\\n\".\n",
      "Analysis is done ignoring \"\\n\".\n",
      "Analysis is done ignoring \"\\n\".\n",
      "Analysis is done ignoring \"\\n\".\n",
      "Analysis is done ignoring \"\\n\".\n",
      "Analysis is done ignoring \"\\n\".\n",
      "Analysis is done ignoring \"\\n\".\n",
      "Analysis is done ignoring \"\\n\".\n",
      "Analysis is done ignoring \"\\n\".\n",
      "Analysis is done ignoring \"\\n\".\n",
      "Analysis is done ignoring \"\\n\".\n",
      "Analysis is done ignoring \"\\n\".\n",
      "Analysis is done ignoring \"\\n\".\n",
      "Analysis is done ignoring \"\\n\".\n",
      "Analysis is done ignoring \"\\n\".\n",
      "Analysis is done ignoring \"\\n\".\n",
      "Analysis is done ignoring \"\\n\".\n",
      "Analysis is done ignoring \"\\n\".\n",
      "Analysis is done ignoring \"\\n\".\n",
      "Analysis is done ignoring \"\\n\".\n"
     ]
    },
    {
     "name": "stdout",
     "output_type": "stream",
     "text": [
      "error\n"
     ]
    },
    {
     "name": "stderr",
     "output_type": "stream",
     "text": [
      "Analysis is done ignoring \"\\n\".\n",
      "Analysis is done ignoring \"\\n\".\n",
      "Analysis is done ignoring \"\\n\".\n",
      "Analysis is done ignoring \"\\n\".\n",
      "Analysis is done ignoring \"\\n\".\n",
      "Analysis is done ignoring \"\\n\".\n",
      "Analysis is done ignoring \"\\n\".\n",
      "Analysis is done ignoring \"\\n\".\n",
      "Analysis is done ignoring \"\\n\".\n",
      "Analysis is done ignoring \"\\n\".\n",
      "Analysis is done ignoring \"\\n\".\n",
      "Analysis is done ignoring \"\\n\".\n",
      "Analysis is done ignoring \"\\n\".\n",
      "Analysis is done ignoring \"\\n\".\n",
      "Analysis is done ignoring \"\\n\".\n",
      "Analysis is done ignoring \"\\n\".\n",
      "Analysis is done ignoring \"\\n\".\n",
      "Analysis is done ignoring \"\\n\".\n",
      "Analysis is done ignoring \"\\n\".\n"
     ]
    },
    {
     "name": "stdout",
     "output_type": "stream",
     "text": [
      "error\n"
     ]
    },
    {
     "name": "stderr",
     "output_type": "stream",
     "text": [
      "Analysis is done ignoring \"\\n\".\n",
      "Analysis is done ignoring \"\\n\".\n",
      "Analysis is done ignoring \"\\n\".\n",
      "Analysis is done ignoring \"\\n\".\n",
      "Analysis is done ignoring \"\\n\".\n",
      "Analysis is done ignoring \"\\n\".\n",
      "Analysis is done ignoring \"\\n\".\n",
      "Analysis is done ignoring \"\\n\".\n",
      "Analysis is done ignoring \"\\n\".\n",
      "Analysis is done ignoring \"\\n\".\n",
      "Analysis is done ignoring \"\\n\".\n",
      "Analysis is done ignoring \"\\n\".\n",
      "Analysis is done ignoring \"\\n\".\n",
      "Analysis is done ignoring \"\\n\".\n",
      "Analysis is done ignoring \"\\n\".\n",
      "Analysis is done ignoring \"\\n\".\n",
      "Analysis is done ignoring \"\\n\".\n",
      "Analysis is done ignoring \"\\n\".\n",
      "Analysis is done ignoring \"\\n\".\n",
      "Analysis is done ignoring \"\\n\".\n",
      "Analysis is done ignoring \"\\n\".\n",
      "Analysis is done ignoring \"\\n\".\n",
      "Analysis is done ignoring \"\\n\".\n",
      "Analysis is done ignoring \"\\n\".\n"
     ]
    },
    {
     "name": "stdout",
     "output_type": "stream",
     "text": [
      "error\n"
     ]
    },
    {
     "name": "stderr",
     "output_type": "stream",
     "text": [
      "Analysis is done ignoring \"\\n\".\n",
      "Analysis is done ignoring \"\\n\".\n",
      "Analysis is done ignoring \"\\n\".\n",
      "Analysis is done ignoring \"\\n\".\n",
      "Analysis is done ignoring \"\\n\".\n",
      "Analysis is done ignoring \"\\n\".\n",
      "Analysis is done ignoring \"\\n\".\n",
      "Analysis is done ignoring \"\\n\".\n",
      "Analysis is done ignoring \"\\n\".\n",
      "Analysis is done ignoring \"\\n\".\n",
      "Analysis is done ignoring \"\\n\".\n",
      "Analysis is done ignoring \"\\n\".\n",
      "Analysis is done ignoring \"\\n\".\n",
      "Analysis is done ignoring \"\\n\".\n",
      "Analysis is done ignoring \"\\n\".\n",
      "Analysis is done ignoring \"\\n\".\n",
      "Analysis is done ignoring \"\\n\".\n",
      "Analysis is done ignoring \"\\n\".\n",
      "Analysis is done ignoring \"\\n\".\n",
      "Analysis is done ignoring \"\\n\".\n",
      "Analysis is done ignoring \"\\n\".\n",
      "Analysis is done ignoring \"\\n\".\n",
      "Analysis is done ignoring \"\\n\".\n",
      "Analysis is done ignoring \"\\n\".\n"
     ]
    },
    {
     "name": "stdout",
     "output_type": "stream",
     "text": [
      "error\n"
     ]
    },
    {
     "name": "stderr",
     "output_type": "stream",
     "text": [
      "Analysis is done ignoring \"\\n\".\n",
      "Analysis is done ignoring \"\\n\".\n",
      "Analysis is done ignoring \"\\n\".\n",
      "Analysis is done ignoring \"\\n\".\n",
      "Analysis is done ignoring \"\\n\".\n",
      "Analysis is done ignoring \"\\n\".\n",
      "Analysis is done ignoring \"\\n\".\n",
      "Analysis is done ignoring \"\\n\".\n"
     ]
    },
    {
     "name": "stdout",
     "output_type": "stream",
     "text": [
      "error\n"
     ]
    },
    {
     "name": "stderr",
     "output_type": "stream",
     "text": [
      "Analysis is done ignoring \"\\n\".\n",
      "Analysis is done ignoring \"\\n\".\n",
      "Analysis is done ignoring \"\\n\".\n",
      "Analysis is done ignoring \"\\n\".\n",
      "Analysis is done ignoring \"\\n\".\n",
      "Analysis is done ignoring \"\\n\".\n",
      "Analysis is done ignoring \"\\n\".\n",
      "Analysis is done ignoring \"\\n\".\n",
      "Analysis is done ignoring \"\\n\".\n",
      "Analysis is done ignoring \"\\n\".\n"
     ]
    },
    {
     "name": "stdout",
     "output_type": "stream",
     "text": [
      "error\n"
     ]
    },
    {
     "name": "stderr",
     "output_type": "stream",
     "text": [
      "Analysis is done ignoring \"\\n\".\n",
      "Analysis is done ignoring \"\\n\".\n",
      "Analysis is done ignoring \"\\n\".\n",
      "Analysis is done ignoring \"\\n\".\n",
      "Analysis is done ignoring \"\\n\".\n",
      "Analysis is done ignoring \"\\n\".\n",
      "Analysis is done ignoring \"\\n\".\n",
      "Analysis is done ignoring \"\\n\".\n",
      "Analysis is done ignoring \"\\n\".\n",
      "Analysis is done ignoring \"\\n\".\n",
      "Analysis is done ignoring \"\\n\".\n",
      "Analysis is done ignoring \"\\n\".\n",
      "Analysis is done ignoring \"\\n\".\n",
      "Analysis is done ignoring \"\\n\".\n",
      "Analysis is done ignoring \"\\n\".\n",
      "Analysis is done ignoring \"\\n\".\n",
      "Analysis is done ignoring \"\\n\".\n"
     ]
    },
    {
     "name": "stdout",
     "output_type": "stream",
     "text": [
      "error\n"
     ]
    },
    {
     "name": "stderr",
     "output_type": "stream",
     "text": [
      "Analysis is done ignoring \"\\n\".\n",
      "Analysis is done ignoring \"\\n\".\n",
      "Analysis is done ignoring \"\\n\".\n",
      "Analysis is done ignoring \"\\n\".\n",
      "Analysis is done ignoring \"\\n\".\n",
      "Analysis is done ignoring \"\\n\".\n",
      "Analysis is done ignoring \"\\n\".\n",
      "Analysis is done ignoring \"\\n\".\n",
      "Analysis is done ignoring \"\\n\".\n",
      "Analysis is done ignoring \"\\n\".\n",
      "Analysis is done ignoring \"\\n\".\n",
      "Analysis is done ignoring \"\\n\".\n",
      "Analysis is done ignoring \"\\n\".\n",
      "Analysis is done ignoring \"\\n\".\n",
      "Analysis is done ignoring \"\\n\".\n",
      "Analysis is done ignoring \"\\n\".\n",
      "Analysis is done ignoring \"\\n\".\n",
      "Analysis is done ignoring \"\\n\".\n",
      "Analysis is done ignoring \"\\n\".\n",
      "Analysis is done ignoring \"\\n\".\n",
      "Analysis is done ignoring \"\\n\".\n",
      "Analysis is done ignoring \"\\n\".\n",
      "Analysis is done ignoring \"\\n\".\n",
      "Analysis is done ignoring \"\\n\".\n",
      "Analysis is done ignoring \"\\n\".\n",
      "Analysis is done ignoring \"\\n\".\n",
      "Analysis is done ignoring \"\\n\".\n",
      "Analysis is done ignoring \"\\n\".\n",
      "Analysis is done ignoring \"\\n\".\n",
      "Analysis is done ignoring \"\\n\".\n"
     ]
    },
    {
     "name": "stdout",
     "output_type": "stream",
     "text": [
      "error\n"
     ]
    },
    {
     "name": "stderr",
     "output_type": "stream",
     "text": [
      "Analysis is done ignoring \"\\n\".\n",
      "Analysis is done ignoring \"\\n\".\n",
      "Analysis is done ignoring \"\\n\".\n",
      "Analysis is done ignoring \"\\n\".\n",
      "Analysis is done ignoring \"\\n\".\n",
      "Analysis is done ignoring \"\\n\".\n",
      "Analysis is done ignoring \"\\n\".\n",
      "Analysis is done ignoring \"\\n\".\n",
      "Analysis is done ignoring \"\\n\".\n",
      "Analysis is done ignoring \"\\n\".\n",
      "Analysis is done ignoring \"\\n\".\n",
      "Analysis is done ignoring \"\\n\".\n",
      "Analysis is done ignoring \"\\n\".\n",
      "Analysis is done ignoring \"\\n\".\n",
      "Analysis is done ignoring \"\\n\".\n",
      "Analysis is done ignoring \"\\n\".\n",
      "Analysis is done ignoring \"\\n\".\n",
      "Analysis is done ignoring \"\\n\".\n",
      "Analysis is done ignoring \"\\n\".\n",
      "Analysis is done ignoring \"\\n\".\n",
      "Analysis is done ignoring \"\\n\".\n",
      "Analysis is done ignoring \"\\n\".\n",
      "Analysis is done ignoring \"\\n\".\n"
     ]
    },
    {
     "name": "stdout",
     "output_type": "stream",
     "text": [
      "error\n"
     ]
    },
    {
     "name": "stderr",
     "output_type": "stream",
     "text": [
      "Analysis is done ignoring \"\\n\".\n",
      "Analysis is done ignoring \"\\n\".\n",
      "Analysis is done ignoring \"\\n\".\n",
      "Analysis is done ignoring \"\\n\".\n",
      "Analysis is done ignoring \"\\n\".\n",
      "Analysis is done ignoring \"\\n\".\n",
      "Analysis is done ignoring \"\\n\".\n"
     ]
    },
    {
     "name": "stdout",
     "output_type": "stream",
     "text": [
      "error\n"
     ]
    },
    {
     "name": "stderr",
     "output_type": "stream",
     "text": [
      "Analysis is done ignoring \"\\n\".\n",
      "Analysis is done ignoring \"\\n\".\n",
      "Analysis is done ignoring \"\\n\".\n",
      "Analysis is done ignoring \"\\n\".\n",
      "Analysis is done ignoring \"\\n\".\n",
      "Analysis is done ignoring \"\\n\".\n",
      "Analysis is done ignoring \"\\n\".\n",
      "Analysis is done ignoring \"\\n\".\n",
      "Analysis is done ignoring \"\\n\".\n",
      "Analysis is done ignoring \"\\n\".\n",
      "Analysis is done ignoring \"\\n\".\n",
      "Analysis is done ignoring \"\\n\".\n",
      "Analysis is done ignoring \"\\n\".\n",
      "Analysis is done ignoring \"\\n\".\n"
     ]
    },
    {
     "name": "stdout",
     "output_type": "stream",
     "text": [
      "error\n"
     ]
    },
    {
     "name": "stderr",
     "output_type": "stream",
     "text": [
      "Analysis is done ignoring \"\\n\".\n",
      "Analysis is done ignoring \"\\n\".\n",
      "Analysis is done ignoring \"\\n\".\n"
     ]
    },
    {
     "name": "stdout",
     "output_type": "stream",
     "text": [
      "error\n"
     ]
    },
    {
     "name": "stderr",
     "output_type": "stream",
     "text": [
      "Analysis is done ignoring \"\\n\".\n",
      "Analysis is done ignoring \"\\n\".\n"
     ]
    },
    {
     "name": "stdout",
     "output_type": "stream",
     "text": [
      "error\n"
     ]
    },
    {
     "name": "stderr",
     "output_type": "stream",
     "text": [
      "Analysis is done ignoring \"\\n\".\n",
      "Analysis is done ignoring \"\\n\".\n",
      "Analysis is done ignoring \"\\n\".\n",
      "Analysis is done ignoring \"\\n\".\n",
      "Analysis is done ignoring \"\\n\".\n",
      "Analysis is done ignoring \"\\n\".\n",
      "Analysis is done ignoring \"\\n\".\n",
      "Analysis is done ignoring \"\\n\".\n",
      "Analysis is done ignoring \"\\n\".\n",
      "Analysis is done ignoring \"\\n\".\n",
      "Analysis is done ignoring \"\\n\".\n",
      "Analysis is done ignoring \"\\n\".\n",
      "Analysis is done ignoring \"\\n\".\n"
     ]
    },
    {
     "name": "stdout",
     "output_type": "stream",
     "text": [
      "error\n"
     ]
    },
    {
     "name": "stderr",
     "output_type": "stream",
     "text": [
      "Analysis is done ignoring \"\\n\".\n",
      "Analysis is done ignoring \"\\n\".\n",
      "Analysis is done ignoring \"\\n\".\n",
      "Analysis is done ignoring \"\\n\".\n",
      "Analysis is done ignoring \"\\n\".\n",
      "Analysis is done ignoring \"\\n\".\n",
      "Analysis is done ignoring \"\\n\".\n",
      "Analysis is done ignoring \"\\n\".\n",
      "Analysis is done ignoring \"\\n\".\n",
      "Analysis is done ignoring \"\\n\".\n",
      "Analysis is done ignoring \"\\n\".\n"
     ]
    },
    {
     "name": "stdout",
     "output_type": "stream",
     "text": [
      "error\n"
     ]
    },
    {
     "name": "stderr",
     "output_type": "stream",
     "text": [
      "Analysis is done ignoring \"\\n\".\n",
      "Analysis is done ignoring \"\\n\".\n",
      "Analysis is done ignoring \"\\n\".\n",
      "Analysis is done ignoring \"\\n\".\n",
      "Analysis is done ignoring \"\\n\".\n",
      "Analysis is done ignoring \"\\n\".\n",
      "Analysis is done ignoring \"\\n\".\n",
      "Analysis is done ignoring \"\\n\".\n",
      "Analysis is done ignoring \"\\n\".\n",
      "Analysis is done ignoring \"\\n\".\n",
      "Analysis is done ignoring \"\\n\".\n",
      "Analysis is done ignoring \"\\n\".\n"
     ]
    },
    {
     "name": "stdout",
     "output_type": "stream",
     "text": [
      "error\n"
     ]
    },
    {
     "name": "stderr",
     "output_type": "stream",
     "text": [
      "Analysis is done ignoring \"\\n\".\n",
      "Analysis is done ignoring \"\\n\".\n"
     ]
    },
    {
     "name": "stdout",
     "output_type": "stream",
     "text": [
      "error\n"
     ]
    },
    {
     "name": "stderr",
     "output_type": "stream",
     "text": [
      "Analysis is done ignoring \"\\n\".\n",
      "Analysis is done ignoring \"\\n\".\n",
      "Analysis is done ignoring \"\\n\".\n",
      "Analysis is done ignoring \"\\n\".\n",
      "Analysis is done ignoring \"\\n\".\n",
      "Analysis is done ignoring \"\\n\".\n",
      "Analysis is done ignoring \"\\n\".\n",
      "Analysis is done ignoring \"\\n\".\n",
      "Analysis is done ignoring \"\\n\".\n",
      "Analysis is done ignoring \"\\n\".\n",
      "Analysis is done ignoring \"\\n\".\n",
      "Analysis is done ignoring \"\\n\".\n"
     ]
    },
    {
     "name": "stdout",
     "output_type": "stream",
     "text": [
      "error\n"
     ]
    },
    {
     "name": "stderr",
     "output_type": "stream",
     "text": [
      "Analysis is done ignoring \"\\n\".\n",
      "Analysis is done ignoring \"\\n\".\n",
      "Analysis is done ignoring \"\\n\".\n",
      "Analysis is done ignoring \"\\n\".\n",
      "Analysis is done ignoring \"\\n\".\n",
      "Analysis is done ignoring \"\\n\".\n",
      "Analysis is done ignoring \"\\n\".\n",
      "Analysis is done ignoring \"\\n\".\n",
      "Analysis is done ignoring \"\\n\".\n",
      "Analysis is done ignoring \"\\n\".\n",
      "Analysis is done ignoring \"\\n\".\n",
      "Analysis is done ignoring \"\\n\".\n",
      "Analysis is done ignoring \"\\n\".\n",
      "Analysis is done ignoring \"\\n\".\n",
      "Analysis is done ignoring \"\\n\".\n",
      "Analysis is done ignoring \"\\n\".\n",
      "Analysis is done ignoring \"\\n\".\n",
      "Analysis is done ignoring \"\\n\".\n",
      "Analysis is done ignoring \"\\n\".\n",
      "Analysis is done ignoring \"\\n\".\n",
      "Analysis is done ignoring \"\\n\".\n"
     ]
    },
    {
     "name": "stdout",
     "output_type": "stream",
     "text": [
      "error\n"
     ]
    },
    {
     "name": "stderr",
     "output_type": "stream",
     "text": [
      "Analysis is done ignoring \"\\n\".\n",
      "Analysis is done ignoring \"\\n\".\n",
      "Analysis is done ignoring \"\\n\".\n",
      "Analysis is done ignoring \"\\n\".\n",
      "Analysis is done ignoring \"\\n\".\n",
      "Analysis is done ignoring \"\\n\".\n",
      "Analysis is done ignoring \"\\n\".\n",
      "Analysis is done ignoring \"\\n\".\n",
      "Analysis is done ignoring \"\\n\".\n",
      "Analysis is done ignoring \"\\n\".\n",
      "Analysis is done ignoring \"\\n\".\n"
     ]
    },
    {
     "name": "stdout",
     "output_type": "stream",
     "text": [
      "error\n"
     ]
    },
    {
     "name": "stderr",
     "output_type": "stream",
     "text": [
      "Analysis is done ignoring \"\\n\".\n",
      "Analysis is done ignoring \"\\n\".\n",
      "Analysis is done ignoring \"\\n\".\n",
      "Analysis is done ignoring \"\\n\".\n",
      "Analysis is done ignoring \"\\n\".\n",
      "Analysis is done ignoring \"\\n\".\n",
      "Analysis is done ignoring \"\\n\".\n",
      "Analysis is done ignoring \"\\n\".\n",
      "Analysis is done ignoring \"\\n\".\n",
      "Analysis is done ignoring \"\\n\".\n",
      "Analysis is done ignoring \"\\n\".\n",
      "Analysis is done ignoring \"\\n\".\n",
      "Analysis is done ignoring \"\\n\".\n",
      "Analysis is done ignoring \"\\n\".\n"
     ]
    },
    {
     "name": "stdout",
     "output_type": "stream",
     "text": [
      "error\n"
     ]
    },
    {
     "name": "stderr",
     "output_type": "stream",
     "text": [
      "Analysis is done ignoring \"\\n\".\n",
      "Analysis is done ignoring \"\\n\".\n",
      "Analysis is done ignoring \"\\n\".\n"
     ]
    },
    {
     "name": "stdout",
     "output_type": "stream",
     "text": [
      "error\n"
     ]
    },
    {
     "name": "stderr",
     "output_type": "stream",
     "text": [
      "Analysis is done ignoring \"\\n\".\n",
      "Analysis is done ignoring \"\\n\".\n",
      "Analysis is done ignoring \"\\n\".\n",
      "Analysis is done ignoring \"\\n\".\n",
      "Analysis is done ignoring \"\\n\".\n",
      "Analysis is done ignoring \"\\n\".\n",
      "Analysis is done ignoring \"\\n\".\n",
      "Analysis is done ignoring \"\\n\".\n",
      "Analysis is done ignoring \"\\n\".\n",
      "Analysis is done ignoring \"\\n\".\n"
     ]
    },
    {
     "name": "stdout",
     "output_type": "stream",
     "text": [
      "error\n"
     ]
    },
    {
     "name": "stderr",
     "output_type": "stream",
     "text": [
      "Analysis is done ignoring \"\\n\".\n",
      "Analysis is done ignoring \"\\n\".\n",
      "Analysis is done ignoring \"\\n\".\n",
      "Analysis is done ignoring \"\\n\".\n",
      "Analysis is done ignoring \"\\n\".\n",
      "Analysis is done ignoring \"\\n\".\n",
      "Analysis is done ignoring \"\\n\".\n",
      "Analysis is done ignoring \"\\n\".\n",
      "Analysis is done ignoring \"\\n\".\n",
      "Analysis is done ignoring \"\\n\".\n",
      "Analysis is done ignoring \"\\n\".\n",
      "Analysis is done ignoring \"\\n\".\n",
      "Analysis is done ignoring \"\\n\".\n",
      "Analysis is done ignoring \"\\n\".\n",
      "Analysis is done ignoring \"\\n\".\n",
      "Analysis is done ignoring \"\\n\".\n",
      "Analysis is done ignoring \"\\n\".\n",
      "Analysis is done ignoring \"\\n\".\n",
      "Analysis is done ignoring \"\\n\".\n",
      "Analysis is done ignoring \"\\n\".\n",
      "Analysis is done ignoring \"\\n\".\n",
      "Analysis is done ignoring \"\\n\".\n"
     ]
    },
    {
     "name": "stdout",
     "output_type": "stream",
     "text": [
      "error\n"
     ]
    },
    {
     "name": "stderr",
     "output_type": "stream",
     "text": [
      "Analysis is done ignoring \"\\n\".\n",
      "Analysis is done ignoring \"\\n\".\n",
      "Analysis is done ignoring \"\\n\".\n"
     ]
    },
    {
     "name": "stdout",
     "output_type": "stream",
     "text": [
      "error\n"
     ]
    },
    {
     "name": "stderr",
     "output_type": "stream",
     "text": [
      "Analysis is done ignoring \"\\n\".\n",
      "Analysis is done ignoring \"\\n\".\n",
      "Analysis is done ignoring \"\\n\".\n",
      "Analysis is done ignoring \"\\n\".\n",
      "Analysis is done ignoring \"\\n\".\n",
      "Analysis is done ignoring \"\\n\".\n",
      "Analysis is done ignoring \"\\n\".\n",
      "Analysis is done ignoring \"\\n\".\n",
      "Analysis is done ignoring \"\\n\".\n",
      "Analysis is done ignoring \"\\n\".\n",
      "Analysis is done ignoring \"\\n\".\n",
      "Analysis is done ignoring \"\\n\".\n",
      "Analysis is done ignoring \"\\n\".\n",
      "Analysis is done ignoring \"\\n\".\n",
      "Analysis is done ignoring \"\\n\".\n",
      "Analysis is done ignoring \"\\n\".\n",
      "Analysis is done ignoring \"\\n\".\n",
      "Analysis is done ignoring \"\\n\".\n",
      "Analysis is done ignoring \"\\n\".\n"
     ]
    },
    {
     "name": "stdout",
     "output_type": "stream",
     "text": [
      "error\n"
     ]
    },
    {
     "name": "stderr",
     "output_type": "stream",
     "text": [
      "Analysis is done ignoring \"\\n\".\n",
      "Analysis is done ignoring \"\\n\".\n",
      "Analysis is done ignoring \"\\n\".\n",
      "Analysis is done ignoring \"\\n\".\n",
      "Analysis is done ignoring \"\\n\".\n",
      "Analysis is done ignoring \"\\n\".\n",
      "Analysis is done ignoring \"\\n\".\n",
      "Analysis is done ignoring \"\\n\".\n",
      "Analysis is done ignoring \"\\n\".\n",
      "Analysis is done ignoring \"\\n\".\n",
      "Analysis is done ignoring \"\\n\".\n",
      "Analysis is done ignoring \"\\n\".\n"
     ]
    },
    {
     "name": "stdout",
     "output_type": "stream",
     "text": [
      "error\n"
     ]
    },
    {
     "name": "stderr",
     "output_type": "stream",
     "text": [
      "Analysis is done ignoring \"\\n\".\n",
      "Analysis is done ignoring \"\\n\".\n",
      "Analysis is done ignoring \"\\n\".\n",
      "Analysis is done ignoring \"\\n\".\n",
      "Analysis is done ignoring \"\\n\".\n",
      "Analysis is done ignoring \"\\n\".\n",
      "Analysis is done ignoring \"\\n\".\n"
     ]
    },
    {
     "name": "stdout",
     "output_type": "stream",
     "text": [
      "error\n",
      "error\n",
      "error\n"
     ]
    },
    {
     "name": "stderr",
     "output_type": "stream",
     "text": [
      "Analysis is done ignoring \"\\n\".\n",
      "Analysis is done ignoring \"\\n\".\n"
     ]
    },
    {
     "name": "stdout",
     "output_type": "stream",
     "text": [
      "error\n"
     ]
    },
    {
     "name": "stderr",
     "output_type": "stream",
     "text": [
      "Analysis is done ignoring \"\\n\".\n",
      "Analysis is done ignoring \"\\n\".\n",
      "Analysis is done ignoring \"\\n\".\n",
      "Analysis is done ignoring \"\\n\".\n"
     ]
    },
    {
     "name": "stdout",
     "output_type": "stream",
     "text": [
      "error\n"
     ]
    },
    {
     "name": "stderr",
     "output_type": "stream",
     "text": [
      "Analysis is done ignoring \"\\n\".\n"
     ]
    },
    {
     "name": "stdout",
     "output_type": "stream",
     "text": [
      "error\n"
     ]
    },
    {
     "name": "stderr",
     "output_type": "stream",
     "text": [
      "Analysis is done ignoring \"\\n\".\n",
      "Analysis is done ignoring \"\\n\".\n",
      "Analysis is done ignoring \"\\n\".\n"
     ]
    },
    {
     "name": "stdout",
     "output_type": "stream",
     "text": [
      "error\n"
     ]
    },
    {
     "name": "stderr",
     "output_type": "stream",
     "text": [
      "Analysis is done ignoring \"\\n\".\n",
      "Analysis is done ignoring \"\\n\".\n",
      "Analysis is done ignoring \"\\n\".\n"
     ]
    },
    {
     "name": "stdout",
     "output_type": "stream",
     "text": [
      "error\n"
     ]
    },
    {
     "name": "stderr",
     "output_type": "stream",
     "text": [
      "Analysis is done ignoring \"\\n\".\n"
     ]
    },
    {
     "name": "stdout",
     "output_type": "stream",
     "text": [
      "error\n"
     ]
    },
    {
     "name": "stderr",
     "output_type": "stream",
     "text": [
      "Analysis is done ignoring \"\\n\".\n"
     ]
    },
    {
     "name": "stdout",
     "output_type": "stream",
     "text": [
      "error\n"
     ]
    },
    {
     "name": "stderr",
     "output_type": "stream",
     "text": [
      "Analysis is done ignoring \"\\n\".\n"
     ]
    },
    {
     "name": "stdout",
     "output_type": "stream",
     "text": [
      "error\n"
     ]
    },
    {
     "name": "stderr",
     "output_type": "stream",
     "text": [
      "Analysis is done ignoring \"\\n\".\n",
      "Analysis is done ignoring \"\\n\".\n",
      "Analysis is done ignoring \"\\n\".\n",
      "Analysis is done ignoring \"\\n\".\n",
      "Analysis is done ignoring \"\\n\".\n",
      "Analysis is done ignoring \"\\n\".\n",
      "Analysis is done ignoring \"\\n\".\n",
      "Analysis is done ignoring \"\\n\".\n",
      "Analysis is done ignoring \"\\n\".\n",
      "Analysis is done ignoring \"\\n\".\n",
      "Analysis is done ignoring \"\\n\".\n",
      "Analysis is done ignoring \"\\n\".\n",
      "Analysis is done ignoring \"\\n\".\n",
      "Analysis is done ignoring \"\\n\".\n",
      "Analysis is done ignoring \"\\n\".\n",
      "Analysis is done ignoring \"\\n\".\n",
      "Analysis is done ignoring \"\\n\".\n",
      "Analysis is done ignoring \"\\n\".\n",
      "Analysis is done ignoring \"\\n\".\n",
      "Analysis is done ignoring \"\\n\".\n",
      "Analysis is done ignoring \"\\n\".\n",
      "Analysis is done ignoring \"\\n\".\n",
      "Analysis is done ignoring \"\\n\".\n",
      "Analysis is done ignoring \"\\n\".\n",
      "Analysis is done ignoring \"\\n\".\n"
     ]
    },
    {
     "name": "stdout",
     "output_type": "stream",
     "text": [
      "error\n"
     ]
    },
    {
     "name": "stderr",
     "output_type": "stream",
     "text": [
      "Analysis is done ignoring \"\\n\".\n",
      "Analysis is done ignoring \"\\n\".\n",
      "Analysis is done ignoring \"\\n\".\n"
     ]
    },
    {
     "name": "stdout",
     "output_type": "stream",
     "text": [
      "error\n"
     ]
    },
    {
     "name": "stderr",
     "output_type": "stream",
     "text": [
      "Analysis is done ignoring \"\\n\".\n",
      "Analysis is done ignoring \"\\n\".\n",
      "Analysis is done ignoring \"\\n\".\n",
      "Analysis is done ignoring \"\\n\".\n",
      "Analysis is done ignoring \"\\n\".\n",
      "Analysis is done ignoring \"\\n\".\n",
      "Analysis is done ignoring \"\\n\".\n",
      "Analysis is done ignoring \"\\n\".\n",
      "Analysis is done ignoring \"\\n\".\n",
      "Analysis is done ignoring \"\\n\".\n",
      "Analysis is done ignoring \"\\n\".\n",
      "Analysis is done ignoring \"\\n\".\n"
     ]
    },
    {
     "name": "stdout",
     "output_type": "stream",
     "text": [
      "error\n"
     ]
    },
    {
     "name": "stderr",
     "output_type": "stream",
     "text": [
      "Analysis is done ignoring \"\\n\".\n",
      "Analysis is done ignoring \"\\n\".\n",
      "Analysis is done ignoring \"\\n\".\n",
      "Analysis is done ignoring \"\\n\".\n",
      "Analysis is done ignoring \"\\n\".\n",
      "Analysis is done ignoring \"\\n\".\n",
      "Analysis is done ignoring \"\\n\".\n"
     ]
    },
    {
     "name": "stdout",
     "output_type": "stream",
     "text": [
      "error\n"
     ]
    },
    {
     "name": "stderr",
     "output_type": "stream",
     "text": [
      "Analysis is done ignoring \"\\n\".\n",
      "Analysis is done ignoring \"\\n\".\n",
      "Analysis is done ignoring \"\\n\".\n",
      "Analysis is done ignoring \"\\n\".\n",
      "Analysis is done ignoring \"\\n\".\n",
      "Analysis is done ignoring \"\\n\".\n",
      "Analysis is done ignoring \"\\n\".\n",
      "Analysis is done ignoring \"\\n\".\n",
      "Analysis is done ignoring \"\\n\".\n"
     ]
    },
    {
     "name": "stdout",
     "output_type": "stream",
     "text": [
      "error\n"
     ]
    },
    {
     "name": "stderr",
     "output_type": "stream",
     "text": [
      "Analysis is done ignoring \"\\n\".\n",
      "Analysis is done ignoring \"\\n\".\n",
      "Analysis is done ignoring \"\\n\".\n",
      "Analysis is done ignoring \"\\n\".\n",
      "Analysis is done ignoring \"\\n\".\n",
      "Analysis is done ignoring \"\\n\".\n",
      "Analysis is done ignoring \"\\n\".\n",
      "Analysis is done ignoring \"\\n\".\n",
      "Analysis is done ignoring \"\\n\".\n",
      "Analysis is done ignoring \"\\n\".\n",
      "Analysis is done ignoring \"\\n\".\n",
      "Analysis is done ignoring \"\\n\".\n",
      "Analysis is done ignoring \"\\n\".\n",
      "Analysis is done ignoring \"\\n\".\n",
      "Analysis is done ignoring \"\\n\".\n",
      "Analysis is done ignoring \"\\n\".\n",
      "Analysis is done ignoring \"\\n\".\n",
      "Analysis is done ignoring \"\\n\".\n",
      "Analysis is done ignoring \"\\n\".\n",
      "Analysis is done ignoring \"\\n\".\n",
      "Analysis is done ignoring \"\\n\".\n",
      "Analysis is done ignoring \"\\n\".\n",
      "Analysis is done ignoring \"\\n\".\n",
      "Analysis is done ignoring \"\\n\".\n",
      "Analysis is done ignoring \"\\n\".\n",
      "Analysis is done ignoring \"\\n\".\n",
      "Analysis is done ignoring \"\\n\".\n",
      "Analysis is done ignoring \"\\n\".\n",
      "Analysis is done ignoring \"\\n\".\n"
     ]
    },
    {
     "name": "stdout",
     "output_type": "stream",
     "text": [
      "error\n"
     ]
    },
    {
     "name": "stderr",
     "output_type": "stream",
     "text": [
      "Analysis is done ignoring \"\\n\".\n",
      "Analysis is done ignoring \"\\n\".\n",
      "Analysis is done ignoring \"\\n\".\n",
      "Analysis is done ignoring \"\\n\".\n",
      "Analysis is done ignoring \"\\n\".\n",
      "Analysis is done ignoring \"\\n\".\n",
      "Analysis is done ignoring \"\\n\".\n",
      "Analysis is done ignoring \"\\n\".\n",
      "Analysis is done ignoring \"\\n\".\n",
      "Analysis is done ignoring \"\\n\".\n",
      "Analysis is done ignoring \"\\n\".\n",
      "Analysis is done ignoring \"\\n\".\n",
      "Analysis is done ignoring \"\\n\".\n",
      "Analysis is done ignoring \"\\n\".\n",
      "Analysis is done ignoring \"\\n\".\n",
      "Analysis is done ignoring \"\\n\".\n",
      "Analysis is done ignoring \"\\n\".\n",
      "Analysis is done ignoring \"\\n\".\n",
      "Analysis is done ignoring \"\\n\".\n",
      "Analysis is done ignoring \"\\n\".\n",
      "Analysis is done ignoring \"\\n\".\n",
      "Analysis is done ignoring \"\\n\".\n",
      "Analysis is done ignoring \"\\n\".\n",
      "Analysis is done ignoring \"\\n\".\n",
      "Analysis is done ignoring \"\\n\".\n"
     ]
    },
    {
     "name": "stdout",
     "output_type": "stream",
     "text": [
      "error\n"
     ]
    },
    {
     "name": "stderr",
     "output_type": "stream",
     "text": [
      "Analysis is done ignoring \"\\n\".\n",
      "Analysis is done ignoring \"\\n\".\n",
      "Analysis is done ignoring \"\\n\".\n",
      "Analysis is done ignoring \"\\n\".\n",
      "Analysis is done ignoring \"\\n\".\n",
      "Analysis is done ignoring \"\\n\".\n",
      "Analysis is done ignoring \"\\n\".\n",
      "Analysis is done ignoring \"\\n\".\n",
      "Analysis is done ignoring \"\\n\".\n",
      "Analysis is done ignoring \"\\n\".\n",
      "Analysis is done ignoring \"\\n\".\n",
      "Analysis is done ignoring \"\\n\".\n",
      "Analysis is done ignoring \"\\n\".\n",
      "Analysis is done ignoring \"\\n\".\n",
      "Analysis is done ignoring \"\\n\".\n"
     ]
    },
    {
     "name": "stdout",
     "output_type": "stream",
     "text": [
      "error\n"
     ]
    },
    {
     "name": "stderr",
     "output_type": "stream",
     "text": [
      "Analysis is done ignoring \"\\n\".\n",
      "Analysis is done ignoring \"\\n\".\n",
      "Analysis is done ignoring \"\\n\".\n",
      "Analysis is done ignoring \"\\n\".\n",
      "Analysis is done ignoring \"\\n\".\n",
      "Analysis is done ignoring \"\\n\".\n",
      "Analysis is done ignoring \"\\n\".\n",
      "Analysis is done ignoring \"\\n\".\n",
      "Analysis is done ignoring \"\\n\".\n",
      "Analysis is done ignoring \"\\n\".\n",
      "Analysis is done ignoring \"\\n\".\n",
      "Analysis is done ignoring \"\\n\".\n",
      "Analysis is done ignoring \"\\n\".\n",
      "Analysis is done ignoring \"\\n\".\n",
      "Analysis is done ignoring \"\\n\".\n",
      "Analysis is done ignoring \"\\n\".\n",
      "Analysis is done ignoring \"\\n\".\n",
      "Analysis is done ignoring \"\\n\".\n",
      "Analysis is done ignoring \"\\n\".\n",
      "Analysis is done ignoring \"\\n\".\n",
      "Analysis is done ignoring \"\\n\".\n",
      "Analysis is done ignoring \"\\n\".\n",
      "Analysis is done ignoring \"\\n\".\n",
      "Analysis is done ignoring \"\\n\".\n",
      "Analysis is done ignoring \"\\n\".\n",
      "Analysis is done ignoring \"\\n\".\n",
      "Analysis is done ignoring \"\\n\".\n",
      "Analysis is done ignoring \"\\n\".\n",
      "Analysis is done ignoring \"\\n\".\n",
      "Analysis is done ignoring \"\\n\".\n",
      "Analysis is done ignoring \"\\n\".\n",
      "Analysis is done ignoring \"\\n\".\n",
      "Analysis is done ignoring \"\\n\".\n",
      "Analysis is done ignoring \"\\n\".\n",
      "Analysis is done ignoring \"\\n\".\n",
      "Analysis is done ignoring \"\\n\".\n",
      "Analysis is done ignoring \"\\n\".\n",
      "Analysis is done ignoring \"\\n\".\n",
      "Analysis is done ignoring \"\\n\".\n",
      "Analysis is done ignoring \"\\n\".\n",
      "Analysis is done ignoring \"\\n\".\n",
      "Analysis is done ignoring \"\\n\".\n",
      "Analysis is done ignoring \"\\n\".\n",
      "Analysis is done ignoring \"\\n\".\n",
      "Analysis is done ignoring \"\\n\".\n",
      "Analysis is done ignoring \"\\n\".\n",
      "Analysis is done ignoring \"\\n\".\n",
      "Analysis is done ignoring \"\\n\".\n",
      "Analysis is done ignoring \"\\n\".\n",
      "Analysis is done ignoring \"\\n\".\n",
      "Analysis is done ignoring \"\\n\".\n",
      "Analysis is done ignoring \"\\n\".\n",
      "Analysis is done ignoring \"\\n\".\n",
      "Analysis is done ignoring \"\\n\".\n",
      "Analysis is done ignoring \"\\n\".\n",
      "Analysis is done ignoring \"\\n\".\n",
      "Analysis is done ignoring \"\\n\".\n",
      "Analysis is done ignoring \"\\n\".\n",
      "Analysis is done ignoring \"\\n\".\n",
      "Analysis is done ignoring \"\\n\".\n",
      "Analysis is done ignoring \"\\n\".\n",
      "Analysis is done ignoring \"\\n\".\n",
      "Analysis is done ignoring \"\\n\".\n",
      "Analysis is done ignoring \"\\n\".\n",
      "Analysis is done ignoring \"\\n\".\n",
      "Analysis is done ignoring \"\\n\".\n",
      "Analysis is done ignoring \"\\n\".\n",
      "Analysis is done ignoring \"\\n\".\n",
      "Analysis is done ignoring \"\\n\".\n",
      "Analysis is done ignoring \"\\n\".\n",
      "Analysis is done ignoring \"\\n\".\n",
      "Analysis is done ignoring \"\\n\".\n",
      "Analysis is done ignoring \"\\n\".\n",
      "Analysis is done ignoring \"\\n\".\n",
      "Analysis is done ignoring \"\\n\".\n",
      "Analysis is done ignoring \"\\n\".\n",
      "Analysis is done ignoring \"\\n\".\n",
      "Analysis is done ignoring \"\\n\".\n",
      "Analysis is done ignoring \"\\n\".\n",
      "Analysis is done ignoring \"\\n\".\n",
      "Analysis is done ignoring \"\\n\".\n",
      "Analysis is done ignoring \"\\n\".\n",
      "Analysis is done ignoring \"\\n\".\n",
      "Analysis is done ignoring \"\\n\".\n",
      "Analysis is done ignoring \"\\n\".\n",
      "Analysis is done ignoring \"\\n\".\n",
      "Analysis is done ignoring \"\\n\".\n",
      "Analysis is done ignoring \"\\n\".\n",
      "Analysis is done ignoring \"\\n\".\n",
      "Analysis is done ignoring \"\\n\".\n"
     ]
    },
    {
     "name": "stdout",
     "output_type": "stream",
     "text": [
      "error\n"
     ]
    },
    {
     "name": "stderr",
     "output_type": "stream",
     "text": [
      "Analysis is done ignoring \"\\n\".\n",
      "Analysis is done ignoring \"\\n\".\n",
      "Analysis is done ignoring \"\\n\".\n",
      "Analysis is done ignoring \"\\n\".\n",
      "Analysis is done ignoring \"\\n\".\n",
      "Analysis is done ignoring \"\\n\".\n",
      "Analysis is done ignoring \"\\n\".\n",
      "Analysis is done ignoring \"\\n\".\n",
      "Analysis is done ignoring \"\\n\".\n",
      "Analysis is done ignoring \"\\n\".\n",
      "Analysis is done ignoring \"\\n\".\n",
      "Analysis is done ignoring \"\\n\".\n",
      "Analysis is done ignoring \"\\n\".\n",
      "Analysis is done ignoring \"\\n\".\n",
      "Analysis is done ignoring \"\\n\".\n",
      "Analysis is done ignoring \"\\n\".\n"
     ]
    },
    {
     "name": "stdout",
     "output_type": "stream",
     "text": [
      "error\n"
     ]
    },
    {
     "name": "stderr",
     "output_type": "stream",
     "text": [
      "Analysis is done ignoring \"\\n\".\n",
      "Analysis is done ignoring \"\\n\".\n",
      "Analysis is done ignoring \"\\n\".\n",
      "Analysis is done ignoring \"\\n\".\n",
      "Analysis is done ignoring \"\\n\".\n",
      "Analysis is done ignoring \"\\n\".\n",
      "Analysis is done ignoring \"\\n\".\n",
      "Analysis is done ignoring \"\\n\".\n",
      "Analysis is done ignoring \"\\n\".\n",
      "Analysis is done ignoring \"\\n\".\n",
      "Analysis is done ignoring \"\\n\".\n",
      "Analysis is done ignoring \"\\n\".\n",
      "Analysis is done ignoring \"\\n\".\n",
      "Analysis is done ignoring \"\\n\".\n",
      "Analysis is done ignoring \"\\n\".\n",
      "Analysis is done ignoring \"\\n\".\n",
      "Analysis is done ignoring \"\\n\".\n",
      "Analysis is done ignoring \"\\n\".\n",
      "Analysis is done ignoring \"\\n\".\n",
      "Analysis is done ignoring \"\\n\".\n",
      "Analysis is done ignoring \"\\n\".\n",
      "Analysis is done ignoring \"\\n\".\n",
      "Analysis is done ignoring \"\\n\".\n"
     ]
    },
    {
     "name": "stdout",
     "output_type": "stream",
     "text": [
      "error\n"
     ]
    },
    {
     "name": "stderr",
     "output_type": "stream",
     "text": [
      "Analysis is done ignoring \"\\n\".\n",
      "Analysis is done ignoring \"\\n\".\n",
      "Analysis is done ignoring \"\\n\".\n",
      "Analysis is done ignoring \"\\n\".\n",
      "Analysis is done ignoring \"\\n\".\n",
      "Analysis is done ignoring \"\\n\".\n"
     ]
    },
    {
     "name": "stdout",
     "output_type": "stream",
     "text": [
      "error\n"
     ]
    },
    {
     "name": "stderr",
     "output_type": "stream",
     "text": [
      "Analysis is done ignoring \"\\n\".\n"
     ]
    },
    {
     "name": "stdout",
     "output_type": "stream",
     "text": [
      "error\n",
      "error\n"
     ]
    },
    {
     "name": "stderr",
     "output_type": "stream",
     "text": [
      "Analysis is done ignoring \"\\n\".\n",
      "Analysis is done ignoring \"\\n\".\n",
      "Analysis is done ignoring \"\\n\".\n",
      "Analysis is done ignoring \"\\n\".\n",
      "Analysis is done ignoring \"\\n\".\n",
      "Analysis is done ignoring \"\\n\".\n",
      "Analysis is done ignoring \"\\n\".\n",
      "Analysis is done ignoring \"\\n\".\n",
      "Analysis is done ignoring \"\\n\".\n",
      "Analysis is done ignoring \"\\n\".\n",
      "Analysis is done ignoring \"\\n\".\n",
      "Analysis is done ignoring \"\\n\".\n"
     ]
    },
    {
     "name": "stdout",
     "output_type": "stream",
     "text": [
      "error\n"
     ]
    },
    {
     "name": "stderr",
     "output_type": "stream",
     "text": [
      "Analysis is done ignoring \"\\n\".\n",
      "Analysis is done ignoring \"\\n\".\n",
      "Analysis is done ignoring \"\\n\".\n",
      "Analysis is done ignoring \"\\n\".\n",
      "Analysis is done ignoring \"\\n\".\n",
      "Analysis is done ignoring \"\\n\".\n",
      "Analysis is done ignoring \"\\n\".\n",
      "Analysis is done ignoring \"\\n\".\n"
     ]
    },
    {
     "name": "stdout",
     "output_type": "stream",
     "text": [
      "error\n"
     ]
    },
    {
     "name": "stderr",
     "output_type": "stream",
     "text": [
      "Analysis is done ignoring \"\\n\".\n",
      "Analysis is done ignoring \"\\n\".\n",
      "Analysis is done ignoring \"\\n\".\n"
     ]
    },
    {
     "name": "stdout",
     "output_type": "stream",
     "text": [
      "error\n"
     ]
    },
    {
     "name": "stderr",
     "output_type": "stream",
     "text": [
      "Analysis is done ignoring \"\\n\".\n"
     ]
    },
    {
     "name": "stdout",
     "output_type": "stream",
     "text": [
      "error\n"
     ]
    },
    {
     "name": "stderr",
     "output_type": "stream",
     "text": [
      "Analysis is done ignoring \"\\n\".\n",
      "Analysis is done ignoring \"\\n\".\n",
      "Analysis is done ignoring \"\\n\".\n"
     ]
    },
    {
     "name": "stdout",
     "output_type": "stream",
     "text": [
      "error\n"
     ]
    },
    {
     "name": "stderr",
     "output_type": "stream",
     "text": [
      "Analysis is done ignoring \"\\n\".\n",
      "Analysis is done ignoring \"\\n\".\n",
      "Analysis is done ignoring \"\\n\".\n",
      "Analysis is done ignoring \"\\n\".\n",
      "Analysis is done ignoring \"\\n\".\n",
      "Analysis is done ignoring \"\\n\".\n",
      "Analysis is done ignoring \"\\n\".\n"
     ]
    },
    {
     "name": "stdout",
     "output_type": "stream",
     "text": [
      "error\n"
     ]
    },
    {
     "name": "stderr",
     "output_type": "stream",
     "text": [
      "Analysis is done ignoring \"\\n\".\n",
      "Analysis is done ignoring \"\\n\".\n",
      "Analysis is done ignoring \"\\n\".\n",
      "Analysis is done ignoring \"\\n\".\n",
      "Analysis is done ignoring \"\\n\".\n"
     ]
    },
    {
     "name": "stdout",
     "output_type": "stream",
     "text": [
      "error\n"
     ]
    },
    {
     "name": "stderr",
     "output_type": "stream",
     "text": [
      "Analysis is done ignoring \"\\n\".\n",
      "Analysis is done ignoring \"\\n\".\n",
      "Analysis is done ignoring \"\\n\".\n",
      "Analysis is done ignoring \"\\n\".\n",
      "Analysis is done ignoring \"\\n\".\n",
      "Analysis is done ignoring \"\\n\".\n"
     ]
    },
    {
     "name": "stdout",
     "output_type": "stream",
     "text": [
      "error\n"
     ]
    },
    {
     "name": "stderr",
     "output_type": "stream",
     "text": [
      "Analysis is done ignoring \"\\n\".\n"
     ]
    },
    {
     "name": "stdout",
     "output_type": "stream",
     "text": [
      "error\n"
     ]
    },
    {
     "name": "stderr",
     "output_type": "stream",
     "text": [
      "Analysis is done ignoring \"\\n\".\n",
      "Analysis is done ignoring \"\\n\".\n"
     ]
    },
    {
     "name": "stdout",
     "output_type": "stream",
     "text": [
      "error\n"
     ]
    },
    {
     "name": "stderr",
     "output_type": "stream",
     "text": [
      "Analysis is done ignoring \"\\n\".\n",
      "Analysis is done ignoring \"\\n\".\n"
     ]
    },
    {
     "name": "stdout",
     "output_type": "stream",
     "text": [
      "error\n",
      "error\n"
     ]
    },
    {
     "name": "stderr",
     "output_type": "stream",
     "text": [
      "Analysis is done ignoring \"\\n\".\n",
      "Analysis is done ignoring \"\\n\".\n",
      "Analysis is done ignoring \"\\n\".\n",
      "Analysis is done ignoring \"\\n\".\n",
      "Analysis is done ignoring \"\\n\".\n",
      "Analysis is done ignoring \"\\n\".\n"
     ]
    },
    {
     "name": "stdout",
     "output_type": "stream",
     "text": [
      "error\n"
     ]
    },
    {
     "name": "stderr",
     "output_type": "stream",
     "text": [
      "Analysis is done ignoring \"\\n\".\n",
      "Analysis is done ignoring \"\\n\".\n",
      "Analysis is done ignoring \"\\n\".\n",
      "Analysis is done ignoring \"\\n\".\n"
     ]
    },
    {
     "name": "stdout",
     "output_type": "stream",
     "text": [
      "error\n"
     ]
    },
    {
     "name": "stderr",
     "output_type": "stream",
     "text": [
      "Analysis is done ignoring \"\\n\".\n"
     ]
    },
    {
     "name": "stdout",
     "output_type": "stream",
     "text": [
      "error\n"
     ]
    },
    {
     "name": "stderr",
     "output_type": "stream",
     "text": [
      "Analysis is done ignoring \"\\n\".\n",
      "Analysis is done ignoring \"\\n\".\n",
      "Analysis is done ignoring \"\\n\".\n",
      "Analysis is done ignoring \"\\n\".\n"
     ]
    },
    {
     "name": "stdout",
     "output_type": "stream",
     "text": [
      "error\n"
     ]
    },
    {
     "name": "stderr",
     "output_type": "stream",
     "text": [
      "Analysis is done ignoring \"\\n\".\n",
      "Analysis is done ignoring \"\\n\".\n"
     ]
    },
    {
     "name": "stdout",
     "output_type": "stream",
     "text": [
      "error\n"
     ]
    },
    {
     "name": "stderr",
     "output_type": "stream",
     "text": [
      "Analysis is done ignoring \"\\n\".\n"
     ]
    },
    {
     "name": "stdout",
     "output_type": "stream",
     "text": [
      "error\n"
     ]
    },
    {
     "name": "stderr",
     "output_type": "stream",
     "text": [
      "Analysis is done ignoring \"\\n\".\n"
     ]
    },
    {
     "name": "stdout",
     "output_type": "stream",
     "text": [
      "error\n"
     ]
    },
    {
     "name": "stderr",
     "output_type": "stream",
     "text": [
      "Analysis is done ignoring \"\\n\".\n",
      "Analysis is done ignoring \"\\n\".\n",
      "Analysis is done ignoring \"\\n\".\n",
      "Analysis is done ignoring \"\\n\".\n",
      "Analysis is done ignoring \"\\n\".\n",
      "Analysis is done ignoring \"\\n\".\n",
      "Analysis is done ignoring \"\\n\".\n"
     ]
    },
    {
     "name": "stdout",
     "output_type": "stream",
     "text": [
      "error\n"
     ]
    },
    {
     "name": "stderr",
     "output_type": "stream",
     "text": [
      "Analysis is done ignoring \"\\n\".\n",
      "Analysis is done ignoring \"\\n\".\n"
     ]
    },
    {
     "name": "stdout",
     "output_type": "stream",
     "text": [
      "error\n"
     ]
    },
    {
     "name": "stderr",
     "output_type": "stream",
     "text": [
      "Analysis is done ignoring \"\\n\".\n",
      "Analysis is done ignoring \"\\n\".\n",
      "Analysis is done ignoring \"\\n\".\n",
      "Analysis is done ignoring \"\\n\".\n",
      "Analysis is done ignoring \"\\n\".\n",
      "Analysis is done ignoring \"\\n\".\n"
     ]
    },
    {
     "name": "stdout",
     "output_type": "stream",
     "text": [
      "error\n"
     ]
    },
    {
     "name": "stderr",
     "output_type": "stream",
     "text": [
      "Analysis is done ignoring \"\\n\".\n"
     ]
    },
    {
     "name": "stdout",
     "output_type": "stream",
     "text": [
      "error\n"
     ]
    },
    {
     "name": "stderr",
     "output_type": "stream",
     "text": [
      "Analysis is done ignoring \"\\n\".\n"
     ]
    },
    {
     "name": "stdout",
     "output_type": "stream",
     "text": [
      "error\n"
     ]
    },
    {
     "name": "stderr",
     "output_type": "stream",
     "text": [
      "Analysis is done ignoring \"\\n\".\n"
     ]
    },
    {
     "name": "stdout",
     "output_type": "stream",
     "text": [
      "error\n"
     ]
    },
    {
     "name": "stderr",
     "output_type": "stream",
     "text": [
      "Analysis is done ignoring \"\\n\".\n",
      "Analysis is done ignoring \"\\n\".\n",
      "Analysis is done ignoring \"\\n\".\n",
      "Analysis is done ignoring \"\\n\".\n",
      "Analysis is done ignoring \"\\n\".\n",
      "Analysis is done ignoring \"\\n\".\n",
      "Analysis is done ignoring \"\\n\".\n",
      "Analysis is done ignoring \"\\n\".\n",
      "Analysis is done ignoring \"\\n\".\n"
     ]
    },
    {
     "name": "stdout",
     "output_type": "stream",
     "text": [
      "error\n"
     ]
    },
    {
     "name": "stderr",
     "output_type": "stream",
     "text": [
      "Analysis is done ignoring \"\\n\".\n",
      "Analysis is done ignoring \"\\n\".\n"
     ]
    },
    {
     "name": "stdout",
     "output_type": "stream",
     "text": [
      "error\n"
     ]
    },
    {
     "name": "stderr",
     "output_type": "stream",
     "text": [
      "Analysis is done ignoring \"\\n\".\n"
     ]
    },
    {
     "name": "stdout",
     "output_type": "stream",
     "text": [
      "error\n",
      "error\n",
      "error\n",
      "error\n",
      "error\n"
     ]
    },
    {
     "name": "stderr",
     "output_type": "stream",
     "text": [
      "Analysis is done ignoring \"\\n\".\n",
      "Analysis is done ignoring \"\\n\".\n"
     ]
    },
    {
     "name": "stdout",
     "output_type": "stream",
     "text": [
      "error\n",
      "error\n"
     ]
    },
    {
     "name": "stderr",
     "output_type": "stream",
     "text": [
      "Analysis is done ignoring \"\\n\".\n",
      "Analysis is done ignoring \"\\n\".\n",
      "Analysis is done ignoring \"\\n\".\n",
      "Analysis is done ignoring \"\\n\".\n",
      "Analysis is done ignoring \"\\n\".\n",
      "Analysis is done ignoring \"\\n\".\n",
      "Analysis is done ignoring \"\\n\".\n",
      "Analysis is done ignoring \"\\n\".\n",
      "Analysis is done ignoring \"\\n\".\n",
      "Analysis is done ignoring \"\\n\".\n",
      "Analysis is done ignoring \"\\n\".\n",
      "Analysis is done ignoring \"\\n\".\n",
      "Analysis is done ignoring \"\\n\".\n",
      "Analysis is done ignoring \"\\n\".\n",
      "Analysis is done ignoring \"\\n\".\n",
      "Analysis is done ignoring \"\\n\".\n",
      "Analysis is done ignoring \"\\n\".\n",
      "Analysis is done ignoring \"\\n\".\n"
     ]
    },
    {
     "name": "stdout",
     "output_type": "stream",
     "text": [
      "error\n"
     ]
    },
    {
     "name": "stderr",
     "output_type": "stream",
     "text": [
      "Analysis is done ignoring \"\\n\".\n",
      "Analysis is done ignoring \"\\n\".\n",
      "Analysis is done ignoring \"\\n\".\n",
      "Analysis is done ignoring \"\\n\".\n",
      "Analysis is done ignoring \"\\n\".\n",
      "Analysis is done ignoring \"\\n\".\n",
      "Analysis is done ignoring \"\\n\".\n",
      "Analysis is done ignoring \"\\n\".\n",
      "Analysis is done ignoring \"\\n\".\n",
      "Analysis is done ignoring \"\\n\".\n",
      "Analysis is done ignoring \"\\n\".\n",
      "Analysis is done ignoring \"\\n\".\n",
      "Analysis is done ignoring \"\\n\".\n"
     ]
    },
    {
     "name": "stdout",
     "output_type": "stream",
     "text": [
      "error\n"
     ]
    },
    {
     "name": "stderr",
     "output_type": "stream",
     "text": [
      "Analysis is done ignoring \"\\n\".\n",
      "Analysis is done ignoring \"\\n\".\n"
     ]
    },
    {
     "name": "stdout",
     "output_type": "stream",
     "text": [
      "error\n"
     ]
    },
    {
     "name": "stderr",
     "output_type": "stream",
     "text": [
      "Analysis is done ignoring \"\\n\".\n"
     ]
    },
    {
     "name": "stdout",
     "output_type": "stream",
     "text": [
      "error\n"
     ]
    },
    {
     "name": "stderr",
     "output_type": "stream",
     "text": [
      "Analysis is done ignoring \"\\n\".\n",
      "Analysis is done ignoring \"\\n\".\n",
      "Analysis is done ignoring \"\\n\".\n",
      "Analysis is done ignoring \"\\n\".\n",
      "Analysis is done ignoring \"\\n\".\n"
     ]
    },
    {
     "name": "stdout",
     "output_type": "stream",
     "text": [
      "error\n"
     ]
    },
    {
     "name": "stderr",
     "output_type": "stream",
     "text": [
      "Analysis is done ignoring \"\\n\".\n",
      "Analysis is done ignoring \"\\n\".\n",
      "Analysis is done ignoring \"\\n\".\n",
      "Analysis is done ignoring \"\\n\".\n",
      "Analysis is done ignoring \"\\n\".\n",
      "Analysis is done ignoring \"\\n\".\n",
      "Analysis is done ignoring \"\\n\".\n",
      "Analysis is done ignoring \"\\n\".\n",
      "Analysis is done ignoring \"\\n\".\n",
      "Analysis is done ignoring \"\\n\".\n",
      "Analysis is done ignoring \"\\n\".\n",
      "Analysis is done ignoring \"\\n\".\n",
      "Analysis is done ignoring \"\\n\".\n"
     ]
    },
    {
     "name": "stdout",
     "output_type": "stream",
     "text": [
      "error\n"
     ]
    },
    {
     "name": "stderr",
     "output_type": "stream",
     "text": [
      "Analysis is done ignoring \"\\n\".\n",
      "Analysis is done ignoring \"\\n\".\n",
      "Analysis is done ignoring \"\\n\".\n",
      "Analysis is done ignoring \"\\n\".\n",
      "Analysis is done ignoring \"\\n\".\n"
     ]
    },
    {
     "name": "stdout",
     "output_type": "stream",
     "text": [
      "error\n"
     ]
    },
    {
     "name": "stderr",
     "output_type": "stream",
     "text": [
      "Analysis is done ignoring \"\\n\".\n",
      "Analysis is done ignoring \"\\n\".\n",
      "Analysis is done ignoring \"\\n\".\n",
      "Analysis is done ignoring \"\\n\".\n"
     ]
    },
    {
     "name": "stdout",
     "output_type": "stream",
     "text": [
      "error\n"
     ]
    },
    {
     "name": "stderr",
     "output_type": "stream",
     "text": [
      "Analysis is done ignoring \"\\n\".\n",
      "Analysis is done ignoring \"\\n\".\n",
      "Analysis is done ignoring \"\\n\".\n",
      "Analysis is done ignoring \"\\n\".\n",
      "Analysis is done ignoring \"\\n\".\n",
      "Analysis is done ignoring \"\\n\".\n"
     ]
    },
    {
     "name": "stdout",
     "output_type": "stream",
     "text": [
      "error\n"
     ]
    },
    {
     "name": "stderr",
     "output_type": "stream",
     "text": [
      "Analysis is done ignoring \"\\n\".\n"
     ]
    },
    {
     "name": "stdout",
     "output_type": "stream",
     "text": [
      "error\n"
     ]
    },
    {
     "name": "stderr",
     "output_type": "stream",
     "text": [
      "Analysis is done ignoring \"\\n\".\n",
      "Analysis is done ignoring \"\\n\".\n",
      "Analysis is done ignoring \"\\n\".\n",
      "Analysis is done ignoring \"\\n\".\n",
      "Analysis is done ignoring \"\\n\".\n",
      "Analysis is done ignoring \"\\n\".\n"
     ]
    },
    {
     "name": "stdout",
     "output_type": "stream",
     "text": [
      "error\n"
     ]
    },
    {
     "name": "stderr",
     "output_type": "stream",
     "text": [
      "Analysis is done ignoring \"\\n\".\n"
     ]
    },
    {
     "name": "stdout",
     "output_type": "stream",
     "text": [
      "error\n"
     ]
    },
    {
     "name": "stderr",
     "output_type": "stream",
     "text": [
      "Analysis is done ignoring \"\\n\".\n",
      "Analysis is done ignoring \"\\n\".\n",
      "Analysis is done ignoring \"\\n\".\n",
      "Analysis is done ignoring \"\\n\".\n",
      "Analysis is done ignoring \"\\n\".\n",
      "Analysis is done ignoring \"\\n\".\n",
      "Analysis is done ignoring \"\\n\".\n",
      "Analysis is done ignoring \"\\n\".\n",
      "Analysis is done ignoring \"\\n\".\n",
      "Analysis is done ignoring \"\\n\".\n",
      "Analysis is done ignoring \"\\n\".\n",
      "Analysis is done ignoring \"\\n\".\n",
      "Analysis is done ignoring \"\\n\".\n",
      "Analysis is done ignoring \"\\n\".\n"
     ]
    },
    {
     "name": "stdout",
     "output_type": "stream",
     "text": [
      "error\n"
     ]
    },
    {
     "name": "stderr",
     "output_type": "stream",
     "text": [
      "Analysis is done ignoring \"\\n\".\n",
      "Analysis is done ignoring \"\\n\".\n",
      "Analysis is done ignoring \"\\n\".\n",
      "Analysis is done ignoring \"\\n\".\n",
      "Analysis is done ignoring \"\\n\".\n",
      "Analysis is done ignoring \"\\n\".\n",
      "Analysis is done ignoring \"\\n\".\n",
      "Analysis is done ignoring \"\\n\".\n",
      "Analysis is done ignoring \"\\n\".\n",
      "Analysis is done ignoring \"\\n\".\n",
      "Analysis is done ignoring \"\\n\".\n"
     ]
    },
    {
     "name": "stdout",
     "output_type": "stream",
     "text": [
      "error\n"
     ]
    },
    {
     "name": "stderr",
     "output_type": "stream",
     "text": [
      "Analysis is done ignoring \"\\n\".\n",
      "Analysis is done ignoring \"\\n\".\n",
      "Analysis is done ignoring \"\\n\".\n",
      "Analysis is done ignoring \"\\n\".\n",
      "Analysis is done ignoring \"\\n\".\n"
     ]
    },
    {
     "name": "stdout",
     "output_type": "stream",
     "text": [
      "error\n"
     ]
    },
    {
     "name": "stderr",
     "output_type": "stream",
     "text": [
      "Analysis is done ignoring \"\\n\".\n",
      "Analysis is done ignoring \"\\n\".\n",
      "Analysis is done ignoring \"\\n\".\n"
     ]
    },
    {
     "name": "stdout",
     "output_type": "stream",
     "text": [
      "error\n"
     ]
    },
    {
     "name": "stderr",
     "output_type": "stream",
     "text": [
      "Analysis is done ignoring \"\\n\".\n",
      "Analysis is done ignoring \"\\n\".\n",
      "Analysis is done ignoring \"\\n\".\n",
      "Analysis is done ignoring \"\\n\".\n",
      "Analysis is done ignoring \"\\n\".\n"
     ]
    },
    {
     "name": "stdout",
     "output_type": "stream",
     "text": [
      "error\n"
     ]
    },
    {
     "name": "stderr",
     "output_type": "stream",
     "text": [
      "Analysis is done ignoring \"\\n\".\n",
      "Analysis is done ignoring \"\\n\".\n",
      "Analysis is done ignoring \"\\n\".\n",
      "Analysis is done ignoring \"\\n\".\n",
      "Analysis is done ignoring \"\\n\".\n",
      "Analysis is done ignoring \"\\n\".\n",
      "Analysis is done ignoring \"\\n\".\n",
      "Analysis is done ignoring \"\\n\".\n",
      "Analysis is done ignoring \"\\n\".\n",
      "Analysis is done ignoring \"\\n\".\n",
      "Analysis is done ignoring \"\\n\".\n",
      "Analysis is done ignoring \"\\n\".\n",
      "Analysis is done ignoring \"\\n\".\n",
      "Analysis is done ignoring \"\\n\".\n",
      "Analysis is done ignoring \"\\n\".\n",
      "Analysis is done ignoring \"\\n\".\n"
     ]
    },
    {
     "name": "stdout",
     "output_type": "stream",
     "text": [
      "error\n",
      "error\n"
     ]
    },
    {
     "name": "stderr",
     "output_type": "stream",
     "text": [
      "Analysis is done ignoring \"\\n\".\n",
      "Analysis is done ignoring \"\\n\".\n",
      "Analysis is done ignoring \"\\n\".\n"
     ]
    },
    {
     "name": "stdout",
     "output_type": "stream",
     "text": [
      "error\n"
     ]
    },
    {
     "name": "stderr",
     "output_type": "stream",
     "text": [
      "Analysis is done ignoring \"\\n\".\n",
      "Analysis is done ignoring \"\\n\".\n",
      "Analysis is done ignoring \"\\n\".\n"
     ]
    },
    {
     "name": "stdout",
     "output_type": "stream",
     "text": [
      "error\n"
     ]
    },
    {
     "name": "stderr",
     "output_type": "stream",
     "text": [
      "Analysis is done ignoring \"\\n\".\n",
      "Analysis is done ignoring \"\\n\".\n"
     ]
    },
    {
     "name": "stdout",
     "output_type": "stream",
     "text": [
      "error\n"
     ]
    },
    {
     "name": "stderr",
     "output_type": "stream",
     "text": [
      "Analysis is done ignoring \"\\n\".\n",
      "Analysis is done ignoring \"\\n\".\n"
     ]
    },
    {
     "name": "stdout",
     "output_type": "stream",
     "text": [
      "error\n"
     ]
    },
    {
     "name": "stderr",
     "output_type": "stream",
     "text": [
      "Analysis is done ignoring \"\\n\".\n",
      "Analysis is done ignoring \"\\n\".\n",
      "Analysis is done ignoring \"\\n\".\n",
      "Analysis is done ignoring \"\\n\".\n",
      "Analysis is done ignoring \"\\n\".\n",
      "Analysis is done ignoring \"\\n\".\n",
      "Analysis is done ignoring \"\\n\".\n",
      "Analysis is done ignoring \"\\n\".\n",
      "Analysis is done ignoring \"\\n\".\n",
      "Analysis is done ignoring \"\\n\".\n"
     ]
    },
    {
     "name": "stdout",
     "output_type": "stream",
     "text": [
      "error\n"
     ]
    },
    {
     "name": "stderr",
     "output_type": "stream",
     "text": [
      "Analysis is done ignoring \"\\n\".\n",
      "Analysis is done ignoring \"\\n\".\n",
      "Analysis is done ignoring \"\\n\".\n",
      "Analysis is done ignoring \"\\n\".\n"
     ]
    },
    {
     "name": "stdout",
     "output_type": "stream",
     "text": [
      "error\n"
     ]
    },
    {
     "name": "stderr",
     "output_type": "stream",
     "text": [
      "Analysis is done ignoring \"\\n\".\n",
      "Analysis is done ignoring \"\\n\".\n",
      "Analysis is done ignoring \"\\n\".\n",
      "Analysis is done ignoring \"\\n\".\n",
      "Analysis is done ignoring \"\\n\".\n",
      "Analysis is done ignoring \"\\n\".\n",
      "Analysis is done ignoring \"\\n\".\n",
      "Analysis is done ignoring \"\\n\".\n",
      "Analysis is done ignoring \"\\n\".\n"
     ]
    },
    {
     "name": "stdout",
     "output_type": "stream",
     "text": [
      "error\n"
     ]
    },
    {
     "name": "stderr",
     "output_type": "stream",
     "text": [
      "Analysis is done ignoring \"\\n\".\n",
      "Analysis is done ignoring \"\\n\".\n",
      "Analysis is done ignoring \"\\n\".\n",
      "Analysis is done ignoring \"\\n\".\n",
      "Analysis is done ignoring \"\\n\".\n",
      "Analysis is done ignoring \"\\n\".\n",
      "Analysis is done ignoring \"\\n\".\n",
      "Analysis is done ignoring \"\\n\".\n"
     ]
    },
    {
     "name": "stdout",
     "output_type": "stream",
     "text": [
      "error\n"
     ]
    },
    {
     "name": "stderr",
     "output_type": "stream",
     "text": [
      "Analysis is done ignoring \"\\n\".\n",
      "Analysis is done ignoring \"\\n\".\n"
     ]
    },
    {
     "name": "stdout",
     "output_type": "stream",
     "text": [
      "error\n"
     ]
    },
    {
     "name": "stderr",
     "output_type": "stream",
     "text": [
      "Analysis is done ignoring \"\\n\".\n",
      "Analysis is done ignoring \"\\n\".\n",
      "Analysis is done ignoring \"\\n\".\n",
      "Analysis is done ignoring \"\\n\".\n",
      "Analysis is done ignoring \"\\n\".\n"
     ]
    },
    {
     "name": "stdout",
     "output_type": "stream",
     "text": [
      "error\n"
     ]
    },
    {
     "name": "stderr",
     "output_type": "stream",
     "text": [
      "Analysis is done ignoring \"\\n\".\n",
      "Analysis is done ignoring \"\\n\".\n",
      "Analysis is done ignoring \"\\n\".\n",
      "Analysis is done ignoring \"\\n\".\n",
      "Analysis is done ignoring \"\\n\".\n",
      "Analysis is done ignoring \"\\n\".\n"
     ]
    },
    {
     "name": "stdout",
     "output_type": "stream",
     "text": [
      "error\n"
     ]
    },
    {
     "name": "stderr",
     "output_type": "stream",
     "text": [
      "Analysis is done ignoring \"\\n\".\n"
     ]
    },
    {
     "name": "stdout",
     "output_type": "stream",
     "text": [
      "error\n"
     ]
    },
    {
     "name": "stderr",
     "output_type": "stream",
     "text": [
      "Analysis is done ignoring \"\\n\".\n",
      "Analysis is done ignoring \"\\n\".\n",
      "Analysis is done ignoring \"\\n\".\n",
      "Analysis is done ignoring \"\\n\".\n",
      "Analysis is done ignoring \"\\n\".\n"
     ]
    },
    {
     "name": "stdout",
     "output_type": "stream",
     "text": [
      "error\n"
     ]
    },
    {
     "name": "stderr",
     "output_type": "stream",
     "text": [
      "Analysis is done ignoring \"\\n\".\n",
      "Analysis is done ignoring \"\\n\".\n",
      "Analysis is done ignoring \"\\n\".\n",
      "Analysis is done ignoring \"\\n\".\n",
      "Analysis is done ignoring \"\\n\".\n",
      "Analysis is done ignoring \"\\n\".\n",
      "Analysis is done ignoring \"\\n\".\n",
      "Analysis is done ignoring \"\\n\".\n",
      "Analysis is done ignoring \"\\n\".\n",
      "Analysis is done ignoring \"\\n\".\n",
      "Analysis is done ignoring \"\\n\".\n",
      "Analysis is done ignoring \"\\n\".\n",
      "Analysis is done ignoring \"\\n\".\n",
      "Analysis is done ignoring \"\\n\".\n",
      "Analysis is done ignoring \"\\n\".\n",
      "Analysis is done ignoring \"\\n\".\n",
      "Analysis is done ignoring \"\\n\".\n"
     ]
    },
    {
     "name": "stdout",
     "output_type": "stream",
     "text": [
      "error\n"
     ]
    },
    {
     "name": "stderr",
     "output_type": "stream",
     "text": [
      "Analysis is done ignoring \"\\n\".\n",
      "Analysis is done ignoring \"\\n\".\n",
      "Analysis is done ignoring \"\\n\".\n",
      "Analysis is done ignoring \"\\n\".\n",
      "Analysis is done ignoring \"\\n\".\n",
      "Analysis is done ignoring \"\\n\".\n"
     ]
    },
    {
     "name": "stdout",
     "output_type": "stream",
     "text": [
      "error\n",
      "error\n"
     ]
    },
    {
     "name": "stderr",
     "output_type": "stream",
     "text": [
      "Analysis is done ignoring \"\\n\".\n"
     ]
    },
    {
     "name": "stdout",
     "output_type": "stream",
     "text": [
      "error\n"
     ]
    },
    {
     "name": "stderr",
     "output_type": "stream",
     "text": [
      "Analysis is done ignoring \"\\n\".\n"
     ]
    },
    {
     "name": "stdout",
     "output_type": "stream",
     "text": [
      "error\n"
     ]
    },
    {
     "name": "stderr",
     "output_type": "stream",
     "text": [
      "Analysis is done ignoring \"\\n\".\n",
      "Analysis is done ignoring \"\\n\".\n"
     ]
    },
    {
     "name": "stdout",
     "output_type": "stream",
     "text": [
      "error\n"
     ]
    },
    {
     "name": "stderr",
     "output_type": "stream",
     "text": [
      "Analysis is done ignoring \"\\n\".\n"
     ]
    },
    {
     "name": "stdout",
     "output_type": "stream",
     "text": [
      "error\n"
     ]
    },
    {
     "name": "stderr",
     "output_type": "stream",
     "text": [
      "Analysis is done ignoring \"\\n\".\n",
      "Analysis is done ignoring \"\\n\".\n"
     ]
    },
    {
     "name": "stdout",
     "output_type": "stream",
     "text": [
      "error\n"
     ]
    },
    {
     "name": "stderr",
     "output_type": "stream",
     "text": [
      "Analysis is done ignoring \"\\n\".\n"
     ]
    },
    {
     "name": "stdout",
     "output_type": "stream",
     "text": [
      "error\n"
     ]
    },
    {
     "name": "stderr",
     "output_type": "stream",
     "text": [
      "Analysis is done ignoring \"\\n\".\n",
      "Analysis is done ignoring \"\\n\".\n",
      "Analysis is done ignoring \"\\n\".\n",
      "Analysis is done ignoring \"\\n\".\n"
     ]
    },
    {
     "name": "stdout",
     "output_type": "stream",
     "text": [
      "error\n"
     ]
    },
    {
     "name": "stderr",
     "output_type": "stream",
     "text": [
      "Analysis is done ignoring \"\\n\".\n",
      "Analysis is done ignoring \"\\n\".\n"
     ]
    },
    {
     "name": "stdout",
     "output_type": "stream",
     "text": [
      "error\n"
     ]
    },
    {
     "name": "stderr",
     "output_type": "stream",
     "text": [
      "Analysis is done ignoring \"\\n\".\n",
      "Analysis is done ignoring \"\\n\".\n",
      "Analysis is done ignoring \"\\n\".\n",
      "Analysis is done ignoring \"\\n\".\n",
      "Analysis is done ignoring \"\\n\".\n",
      "Analysis is done ignoring \"\\n\".\n",
      "Analysis is done ignoring \"\\n\".\n",
      "Analysis is done ignoring \"\\n\".\n",
      "Analysis is done ignoring \"\\n\".\n",
      "Analysis is done ignoring \"\\n\".\n"
     ]
    },
    {
     "name": "stdout",
     "output_type": "stream",
     "text": [
      "error\n"
     ]
    },
    {
     "name": "stderr",
     "output_type": "stream",
     "text": [
      "Analysis is done ignoring \"\\n\".\n",
      "Analysis is done ignoring \"\\n\".\n"
     ]
    },
    {
     "name": "stdout",
     "output_type": "stream",
     "text": [
      "error\n"
     ]
    },
    {
     "name": "stderr",
     "output_type": "stream",
     "text": [
      "Analysis is done ignoring \"\\n\".\n"
     ]
    },
    {
     "name": "stdout",
     "output_type": "stream",
     "text": [
      "error\n",
      "error\n"
     ]
    },
    {
     "name": "stderr",
     "output_type": "stream",
     "text": [
      "Analysis is done ignoring \"\\n\".\n",
      "Analysis is done ignoring \"\\n\".\n",
      "Analysis is done ignoring \"\\n\".\n",
      "Analysis is done ignoring \"\\n\".\n",
      "Analysis is done ignoring \"\\n\".\n"
     ]
    },
    {
     "name": "stdout",
     "output_type": "stream",
     "text": [
      "error\n"
     ]
    },
    {
     "name": "stderr",
     "output_type": "stream",
     "text": [
      "Analysis is done ignoring \"\\n\".\n"
     ]
    },
    {
     "name": "stdout",
     "output_type": "stream",
     "text": [
      "error\n"
     ]
    },
    {
     "name": "stderr",
     "output_type": "stream",
     "text": [
      "Analysis is done ignoring \"\\n\".\n",
      "Analysis is done ignoring \"\\n\".\n",
      "Analysis is done ignoring \"\\n\".\n",
      "Analysis is done ignoring \"\\n\".\n",
      "Analysis is done ignoring \"\\n\".\n"
     ]
    },
    {
     "name": "stdout",
     "output_type": "stream",
     "text": [
      "error\n"
     ]
    },
    {
     "name": "stderr",
     "output_type": "stream",
     "text": [
      "Analysis is done ignoring \"\\n\".\n",
      "Analysis is done ignoring \"\\n\".\n",
      "Analysis is done ignoring \"\\n\".\n",
      "Analysis is done ignoring \"\\n\".\n",
      "Analysis is done ignoring \"\\n\".\n",
      "Analysis is done ignoring \"\\n\".\n"
     ]
    },
    {
     "name": "stdout",
     "output_type": "stream",
     "text": [
      "error\n"
     ]
    },
    {
     "name": "stderr",
     "output_type": "stream",
     "text": [
      "Analysis is done ignoring \"\\n\".\n"
     ]
    },
    {
     "name": "stdout",
     "output_type": "stream",
     "text": [
      "error\n"
     ]
    },
    {
     "name": "stderr",
     "output_type": "stream",
     "text": [
      "Analysis is done ignoring \"\\n\".\n"
     ]
    },
    {
     "name": "stdout",
     "output_type": "stream",
     "text": [
      "error\n"
     ]
    },
    {
     "name": "stderr",
     "output_type": "stream",
     "text": [
      "Analysis is done ignoring \"\\n\".\n"
     ]
    },
    {
     "name": "stdout",
     "output_type": "stream",
     "text": [
      "error\n"
     ]
    },
    {
     "name": "stderr",
     "output_type": "stream",
     "text": [
      "Analysis is done ignoring \"\\n\".\n"
     ]
    },
    {
     "name": "stdout",
     "output_type": "stream",
     "text": [
      "error\n"
     ]
    },
    {
     "name": "stderr",
     "output_type": "stream",
     "text": [
      "Analysis is done ignoring \"\\n\".\n"
     ]
    },
    {
     "name": "stdout",
     "output_type": "stream",
     "text": [
      "error\n"
     ]
    },
    {
     "name": "stderr",
     "output_type": "stream",
     "text": [
      "Analysis is done ignoring \"\\n\".\n",
      "Analysis is done ignoring \"\\n\".\n"
     ]
    },
    {
     "name": "stdout",
     "output_type": "stream",
     "text": [
      "error\n"
     ]
    },
    {
     "name": "stderr",
     "output_type": "stream",
     "text": [
      "Analysis is done ignoring \"\\n\".\n"
     ]
    },
    {
     "name": "stdout",
     "output_type": "stream",
     "text": [
      "error\n",
      "error\n"
     ]
    },
    {
     "name": "stderr",
     "output_type": "stream",
     "text": [
      "Analysis is done ignoring \"\\n\".\n",
      "Analysis is done ignoring \"\\n\".\n",
      "Analysis is done ignoring \"\\n\".\n",
      "Analysis is done ignoring \"\\n\".\n",
      "Analysis is done ignoring \"\\n\".\n"
     ]
    },
    {
     "name": "stdout",
     "output_type": "stream",
     "text": [
      "error\n"
     ]
    },
    {
     "name": "stderr",
     "output_type": "stream",
     "text": [
      "Analysis is done ignoring \"\\n\".\n",
      "Analysis is done ignoring \"\\n\".\n",
      "Analysis is done ignoring \"\\n\".\n",
      "Analysis is done ignoring \"\\n\".\n",
      "Analysis is done ignoring \"\\n\".\n",
      "Analysis is done ignoring \"\\n\".\n",
      "Analysis is done ignoring \"\\n\".\n",
      "Analysis is done ignoring \"\\n\".\n"
     ]
    },
    {
     "name": "stdout",
     "output_type": "stream",
     "text": [
      "error\n"
     ]
    },
    {
     "name": "stderr",
     "output_type": "stream",
     "text": [
      "Analysis is done ignoring \"\\n\".\n",
      "Analysis is done ignoring \"\\n\".\n",
      "Analysis is done ignoring \"\\n\".\n",
      "Analysis is done ignoring \"\\n\".\n",
      "Analysis is done ignoring \"\\n\".\n",
      "Analysis is done ignoring \"\\n\".\n",
      "Analysis is done ignoring \"\\n\".\n",
      "Analysis is done ignoring \"\\n\".\n",
      "Analysis is done ignoring \"\\n\".\n",
      "Analysis is done ignoring \"\\n\".\n",
      "Analysis is done ignoring \"\\n\".\n",
      "Analysis is done ignoring \"\\n\".\n",
      "Analysis is done ignoring \"\\n\".\n",
      "Analysis is done ignoring \"\\n\".\n",
      "Analysis is done ignoring \"\\n\".\n",
      "Analysis is done ignoring \"\\n\".\n",
      "Analysis is done ignoring \"\\n\".\n",
      "Analysis is done ignoring \"\\n\".\n",
      "Analysis is done ignoring \"\\n\".\n",
      "Analysis is done ignoring \"\\n\".\n",
      "Analysis is done ignoring \"\\n\".\n"
     ]
    },
    {
     "name": "stdout",
     "output_type": "stream",
     "text": [
      "error\n"
     ]
    },
    {
     "name": "stderr",
     "output_type": "stream",
     "text": [
      "Analysis is done ignoring \"\\n\".\n",
      "Analysis is done ignoring \"\\n\".\n",
      "Analysis is done ignoring \"\\n\".\n",
      "Analysis is done ignoring \"\\n\".\n",
      "Analysis is done ignoring \"\\n\".\n",
      "Analysis is done ignoring \"\\n\".\n",
      "Analysis is done ignoring \"\\n\".\n"
     ]
    },
    {
     "name": "stdout",
     "output_type": "stream",
     "text": [
      "error\n"
     ]
    },
    {
     "name": "stderr",
     "output_type": "stream",
     "text": [
      "Analysis is done ignoring \"\\n\".\n",
      "Analysis is done ignoring \"\\n\".\n",
      "Analysis is done ignoring \"\\n\".\n",
      "Analysis is done ignoring \"\\n\".\n",
      "Analysis is done ignoring \"\\n\".\n",
      "Analysis is done ignoring \"\\n\".\n",
      "Analysis is done ignoring \"\\n\".\n",
      "Analysis is done ignoring \"\\n\".\n",
      "Analysis is done ignoring \"\\n\".\n",
      "Analysis is done ignoring \"\\n\".\n",
      "Analysis is done ignoring \"\\n\".\n",
      "Analysis is done ignoring \"\\n\".\n",
      "Analysis is done ignoring \"\\n\".\n",
      "Analysis is done ignoring \"\\n\".\n"
     ]
    },
    {
     "name": "stdout",
     "output_type": "stream",
     "text": [
      "error\n"
     ]
    },
    {
     "name": "stderr",
     "output_type": "stream",
     "text": [
      "Analysis is done ignoring \"\\n\".\n",
      "Analysis is done ignoring \"\\n\".\n",
      "Analysis is done ignoring \"\\n\".\n"
     ]
    },
    {
     "name": "stdout",
     "output_type": "stream",
     "text": [
      "error\n"
     ]
    },
    {
     "name": "stderr",
     "output_type": "stream",
     "text": [
      "Analysis is done ignoring \"\\n\".\n",
      "Analysis is done ignoring \"\\n\".\n",
      "Analysis is done ignoring \"\\n\".\n"
     ]
    },
    {
     "name": "stdout",
     "output_type": "stream",
     "text": [
      "error\n"
     ]
    },
    {
     "name": "stderr",
     "output_type": "stream",
     "text": [
      "Analysis is done ignoring \"\\n\".\n",
      "Analysis is done ignoring \"\\n\".\n",
      "Analysis is done ignoring \"\\n\".\n",
      "Analysis is done ignoring \"\\n\".\n",
      "Analysis is done ignoring \"\\n\".\n",
      "Analysis is done ignoring \"\\n\".\n",
      "Analysis is done ignoring \"\\n\".\n"
     ]
    },
    {
     "name": "stdout",
     "output_type": "stream",
     "text": [
      "error\n"
     ]
    },
    {
     "name": "stderr",
     "output_type": "stream",
     "text": [
      "Analysis is done ignoring \"\\n\".\n",
      "Analysis is done ignoring \"\\n\".\n",
      "Analysis is done ignoring \"\\n\".\n",
      "Analysis is done ignoring \"\\n\".\n",
      "Analysis is done ignoring \"\\n\".\n",
      "Analysis is done ignoring \"\\n\".\n",
      "Analysis is done ignoring \"\\n\".\n",
      "Analysis is done ignoring \"\\n\".\n",
      "Analysis is done ignoring \"\\n\".\n",
      "Analysis is done ignoring \"\\n\".\n",
      "Analysis is done ignoring \"\\n\".\n",
      "Analysis is done ignoring \"\\n\".\n",
      "Analysis is done ignoring \"\\n\".\n",
      "Analysis is done ignoring \"\\n\".\n",
      "Analysis is done ignoring \"\\n\".\n",
      "Analysis is done ignoring \"\\n\".\n"
     ]
    },
    {
     "name": "stdout",
     "output_type": "stream",
     "text": [
      "error\n"
     ]
    },
    {
     "name": "stderr",
     "output_type": "stream",
     "text": [
      "Analysis is done ignoring \"\\n\".\n",
      "Analysis is done ignoring \"\\n\".\n",
      "Analysis is done ignoring \"\\n\".\n",
      "Analysis is done ignoring \"\\n\".\n"
     ]
    },
    {
     "name": "stdout",
     "output_type": "stream",
     "text": [
      "error\n"
     ]
    },
    {
     "name": "stderr",
     "output_type": "stream",
     "text": [
      "Analysis is done ignoring \"\\n\".\n",
      "Analysis is done ignoring \"\\n\".\n",
      "Analysis is done ignoring \"\\n\".\n",
      "Analysis is done ignoring \"\\n\".\n",
      "Analysis is done ignoring \"\\n\".\n",
      "Analysis is done ignoring \"\\n\".\n",
      "Analysis is done ignoring \"\\n\".\n",
      "Analysis is done ignoring \"\\n\".\n",
      "Analysis is done ignoring \"\\n\".\n",
      "Analysis is done ignoring \"\\n\".\n",
      "Analysis is done ignoring \"\\n\".\n",
      "Analysis is done ignoring \"\\n\".\n",
      "Analysis is done ignoring \"\\n\".\n",
      "Analysis is done ignoring \"\\n\".\n",
      "Analysis is done ignoring \"\\n\".\n",
      "Analysis is done ignoring \"\\n\".\n",
      "Analysis is done ignoring \"\\n\".\n",
      "Analysis is done ignoring \"\\n\".\n",
      "Analysis is done ignoring \"\\n\".\n",
      "Analysis is done ignoring \"\\n\".\n",
      "Analysis is done ignoring \"\\n\".\n",
      "Analysis is done ignoring \"\\n\".\n",
      "Analysis is done ignoring \"\\n\".\n"
     ]
    },
    {
     "name": "stdout",
     "output_type": "stream",
     "text": [
      "error\n"
     ]
    },
    {
     "name": "stderr",
     "output_type": "stream",
     "text": [
      "Analysis is done ignoring \"\\n\".\n",
      "Analysis is done ignoring \"\\n\".\n",
      "Analysis is done ignoring \"\\n\".\n",
      "Analysis is done ignoring \"\\n\".\n",
      "Analysis is done ignoring \"\\n\".\n",
      "Analysis is done ignoring \"\\n\".\n",
      "Analysis is done ignoring \"\\n\".\n",
      "Analysis is done ignoring \"\\n\".\n",
      "Analysis is done ignoring \"\\n\".\n",
      "Analysis is done ignoring \"\\n\".\n",
      "Analysis is done ignoring \"\\n\".\n",
      "Analysis is done ignoring \"\\n\".\n",
      "Analysis is done ignoring \"\\n\".\n",
      "Analysis is done ignoring \"\\n\".\n",
      "Analysis is done ignoring \"\\n\".\n",
      "Analysis is done ignoring \"\\n\".\n",
      "Analysis is done ignoring \"\\n\".\n",
      "Analysis is done ignoring \"\\n\".\n",
      "Analysis is done ignoring \"\\n\".\n",
      "Analysis is done ignoring \"\\n\".\n",
      "Analysis is done ignoring \"\\n\".\n"
     ]
    },
    {
     "name": "stdout",
     "output_type": "stream",
     "text": [
      "error\n"
     ]
    },
    {
     "name": "stderr",
     "output_type": "stream",
     "text": [
      "Analysis is done ignoring \"\\n\".\n",
      "Analysis is done ignoring \"\\n\".\n",
      "Analysis is done ignoring \"\\n\".\n",
      "Analysis is done ignoring \"\\n\".\n",
      "Analysis is done ignoring \"\\n\".\n",
      "Analysis is done ignoring \"\\n\".\n",
      "Analysis is done ignoring \"\\n\".\n",
      "Analysis is done ignoring \"\\n\".\n",
      "Analysis is done ignoring \"\\n\".\n",
      "Analysis is done ignoring \"\\n\".\n",
      "Analysis is done ignoring \"\\n\".\n",
      "Analysis is done ignoring \"\\n\".\n",
      "Analysis is done ignoring \"\\n\".\n",
      "Analysis is done ignoring \"\\n\".\n",
      "Analysis is done ignoring \"\\n\".\n",
      "Analysis is done ignoring \"\\n\".\n",
      "Analysis is done ignoring \"\\n\".\n",
      "Analysis is done ignoring \"\\n\".\n",
      "Analysis is done ignoring \"\\n\".\n",
      "Analysis is done ignoring \"\\n\".\n",
      "Analysis is done ignoring \"\\n\".\n",
      "Analysis is done ignoring \"\\n\".\n"
     ]
    },
    {
     "name": "stdout",
     "output_type": "stream",
     "text": [
      "error\n"
     ]
    },
    {
     "name": "stderr",
     "output_type": "stream",
     "text": [
      "Analysis is done ignoring \"\\n\".\n",
      "Analysis is done ignoring \"\\n\".\n",
      "Analysis is done ignoring \"\\n\".\n",
      "Analysis is done ignoring \"\\n\".\n"
     ]
    },
    {
     "name": "stdout",
     "output_type": "stream",
     "text": [
      "error\n"
     ]
    },
    {
     "name": "stderr",
     "output_type": "stream",
     "text": [
      "Analysis is done ignoring \"\\n\".\n",
      "Analysis is done ignoring \"\\n\".\n",
      "Analysis is done ignoring \"\\n\".\n",
      "Analysis is done ignoring \"\\n\".\n",
      "Analysis is done ignoring \"\\n\".\n",
      "Analysis is done ignoring \"\\n\".\n",
      "Analysis is done ignoring \"\\n\".\n",
      "Analysis is done ignoring \"\\n\".\n",
      "Analysis is done ignoring \"\\n\".\n",
      "Analysis is done ignoring \"\\n\".\n",
      "Analysis is done ignoring \"\\n\".\n",
      "Analysis is done ignoring \"\\n\".\n"
     ]
    },
    {
     "name": "stdout",
     "output_type": "stream",
     "text": [
      "error\n"
     ]
    },
    {
     "name": "stderr",
     "output_type": "stream",
     "text": [
      "Analysis is done ignoring \"\\n\".\n",
      "Analysis is done ignoring \"\\n\".\n",
      "Analysis is done ignoring \"\\n\".\n",
      "Analysis is done ignoring \"\\n\".\n",
      "Analysis is done ignoring \"\\n\".\n",
      "Analysis is done ignoring \"\\n\".\n"
     ]
    },
    {
     "name": "stdout",
     "output_type": "stream",
     "text": [
      "error\n"
     ]
    },
    {
     "name": "stderr",
     "output_type": "stream",
     "text": [
      "Analysis is done ignoring \"\\n\".\n",
      "Analysis is done ignoring \"\\n\".\n",
      "Analysis is done ignoring \"\\n\".\n",
      "Analysis is done ignoring \"\\n\".\n",
      "Analysis is done ignoring \"\\n\".\n",
      "Analysis is done ignoring \"\\n\".\n",
      "Analysis is done ignoring \"\\n\".\n",
      "Analysis is done ignoring \"\\n\".\n"
     ]
    },
    {
     "name": "stdout",
     "output_type": "stream",
     "text": [
      "error\n"
     ]
    },
    {
     "name": "stderr",
     "output_type": "stream",
     "text": [
      "Analysis is done ignoring \"\\n\".\n",
      "Analysis is done ignoring \"\\n\".\n",
      "Analysis is done ignoring \"\\n\".\n",
      "Analysis is done ignoring \"\\n\".\n",
      "Analysis is done ignoring \"\\n\".\n",
      "Analysis is done ignoring \"\\n\".\n",
      "Analysis is done ignoring \"\\n\".\n",
      "Analysis is done ignoring \"\\n\".\n",
      "Analysis is done ignoring \"\\n\".\n",
      "Analysis is done ignoring \"\\n\".\n",
      "Analysis is done ignoring \"\\n\".\n",
      "Analysis is done ignoring \"\\n\".\n",
      "Analysis is done ignoring \"\\n\".\n",
      "Analysis is done ignoring \"\\n\".\n",
      "Analysis is done ignoring \"\\n\".\n",
      "Analysis is done ignoring \"\\n\".\n",
      "Analysis is done ignoring \"\\n\".\n",
      "Analysis is done ignoring \"\\n\".\n",
      "Analysis is done ignoring \"\\n\".\n",
      "Analysis is done ignoring \"\\n\".\n",
      "Analysis is done ignoring \"\\n\".\n",
      "Analysis is done ignoring \"\\n\".\n",
      "Analysis is done ignoring \"\\n\".\n",
      "Analysis is done ignoring \"\\n\".\n"
     ]
    },
    {
     "name": "stdout",
     "output_type": "stream",
     "text": [
      "error\n"
     ]
    },
    {
     "name": "stderr",
     "output_type": "stream",
     "text": [
      "Analysis is done ignoring \"\\n\".\n",
      "Analysis is done ignoring \"\\n\".\n",
      "Analysis is done ignoring \"\\n\".\n",
      "Analysis is done ignoring \"\\n\".\n",
      "Analysis is done ignoring \"\\n\".\n",
      "Analysis is done ignoring \"\\n\".\n",
      "Analysis is done ignoring \"\\n\".\n",
      "Analysis is done ignoring \"\\n\".\n",
      "Analysis is done ignoring \"\\n\".\n",
      "Analysis is done ignoring \"\\n\".\n",
      "Analysis is done ignoring \"\\n\".\n",
      "Analysis is done ignoring \"\\n\".\n",
      "Analysis is done ignoring \"\\n\".\n",
      "Analysis is done ignoring \"\\n\".\n",
      "Analysis is done ignoring \"\\n\".\n",
      "Analysis is done ignoring \"\\n\".\n",
      "Analysis is done ignoring \"\\n\".\n",
      "Analysis is done ignoring \"\\n\".\n",
      "Analysis is done ignoring \"\\n\".\n",
      "Analysis is done ignoring \"\\n\".\n",
      "Analysis is done ignoring \"\\n\".\n",
      "Analysis is done ignoring \"\\n\".\n",
      "Analysis is done ignoring \"\\n\".\n",
      "Analysis is done ignoring \"\\n\".\n"
     ]
    },
    {
     "name": "stdout",
     "output_type": "stream",
     "text": [
      "error\n"
     ]
    },
    {
     "name": "stderr",
     "output_type": "stream",
     "text": [
      "Analysis is done ignoring \"\\n\".\n",
      "Analysis is done ignoring \"\\n\".\n",
      "Analysis is done ignoring \"\\n\".\n",
      "Analysis is done ignoring \"\\n\".\n"
     ]
    },
    {
     "name": "stdout",
     "output_type": "stream",
     "text": [
      "error\n"
     ]
    },
    {
     "name": "stderr",
     "output_type": "stream",
     "text": [
      "Analysis is done ignoring \"\\n\".\n",
      "Analysis is done ignoring \"\\n\".\n",
      "Analysis is done ignoring \"\\n\".\n",
      "Analysis is done ignoring \"\\n\".\n",
      "Analysis is done ignoring \"\\n\".\n",
      "Analysis is done ignoring \"\\n\".\n",
      "Analysis is done ignoring \"\\n\".\n",
      "Analysis is done ignoring \"\\n\".\n",
      "Analysis is done ignoring \"\\n\".\n"
     ]
    },
    {
     "name": "stdout",
     "output_type": "stream",
     "text": [
      "error\n"
     ]
    },
    {
     "name": "stderr",
     "output_type": "stream",
     "text": [
      "Analysis is done ignoring \"\\n\".\n"
     ]
    },
    {
     "name": "stdout",
     "output_type": "stream",
     "text": [
      "error\n"
     ]
    },
    {
     "name": "stderr",
     "output_type": "stream",
     "text": [
      "Analysis is done ignoring \"\\n\".\n",
      "Analysis is done ignoring \"\\n\".\n",
      "Analysis is done ignoring \"\\n\".\n",
      "Analysis is done ignoring \"\\n\".\n",
      "Analysis is done ignoring \"\\n\".\n",
      "Analysis is done ignoring \"\\n\".\n",
      "Analysis is done ignoring \"\\n\".\n",
      "Analysis is done ignoring \"\\n\".\n",
      "Analysis is done ignoring \"\\n\".\n",
      "Analysis is done ignoring \"\\n\".\n",
      "Analysis is done ignoring \"\\n\".\n"
     ]
    },
    {
     "name": "stdout",
     "output_type": "stream",
     "text": [
      "error\n"
     ]
    },
    {
     "name": "stderr",
     "output_type": "stream",
     "text": [
      "Analysis is done ignoring \"\\n\".\n",
      "Analysis is done ignoring \"\\n\".\n",
      "Analysis is done ignoring \"\\n\".\n",
      "Analysis is done ignoring \"\\n\".\n",
      "Analysis is done ignoring \"\\n\".\n",
      "Analysis is done ignoring \"\\n\".\n",
      "Analysis is done ignoring \"\\n\".\n",
      "Analysis is done ignoring \"\\n\".\n"
     ]
    },
    {
     "name": "stdout",
     "output_type": "stream",
     "text": [
      "error\n"
     ]
    },
    {
     "name": "stderr",
     "output_type": "stream",
     "text": [
      "Analysis is done ignoring \"\\n\".\n",
      "Analysis is done ignoring \"\\n\".\n",
      "Analysis is done ignoring \"\\n\".\n",
      "Analysis is done ignoring \"\\n\".\n",
      "Analysis is done ignoring \"\\n\".\n",
      "Analysis is done ignoring \"\\n\".\n",
      "Analysis is done ignoring \"\\n\".\n",
      "Analysis is done ignoring \"\\n\".\n",
      "Analysis is done ignoring \"\\n\".\n",
      "Analysis is done ignoring \"\\n\".\n",
      "Analysis is done ignoring \"\\n\".\n",
      "Analysis is done ignoring \"\\n\".\n",
      "Analysis is done ignoring \"\\n\".\n"
     ]
    },
    {
     "name": "stdout",
     "output_type": "stream",
     "text": [
      "error\n"
     ]
    },
    {
     "name": "stderr",
     "output_type": "stream",
     "text": [
      "Analysis is done ignoring \"\\n\".\n",
      "Analysis is done ignoring \"\\n\".\n",
      "Analysis is done ignoring \"\\n\".\n",
      "Analysis is done ignoring \"\\n\".\n",
      "Analysis is done ignoring \"\\n\".\n",
      "Analysis is done ignoring \"\\n\".\n",
      "Analysis is done ignoring \"\\n\".\n",
      "Analysis is done ignoring \"\\n\".\n",
      "Analysis is done ignoring \"\\n\".\n",
      "Analysis is done ignoring \"\\n\".\n",
      "Analysis is done ignoring \"\\n\".\n",
      "Analysis is done ignoring \"\\n\".\n",
      "Analysis is done ignoring \"\\n\".\n",
      "Analysis is done ignoring \"\\n\".\n",
      "Analysis is done ignoring \"\\n\".\n",
      "Analysis is done ignoring \"\\n\".\n",
      "Analysis is done ignoring \"\\n\".\n",
      "Analysis is done ignoring \"\\n\".\n",
      "Analysis is done ignoring \"\\n\".\n",
      "Analysis is done ignoring \"\\n\".\n",
      "Analysis is done ignoring \"\\n\".\n",
      "Analysis is done ignoring \"\\n\".\n",
      "Analysis is done ignoring \"\\n\".\n",
      "Analysis is done ignoring \"\\n\".\n",
      "Analysis is done ignoring \"\\n\".\n",
      "Analysis is done ignoring \"\\n\".\n",
      "Analysis is done ignoring \"\\n\".\n"
     ]
    },
    {
     "name": "stdout",
     "output_type": "stream",
     "text": [
      "error\n"
     ]
    },
    {
     "name": "stderr",
     "output_type": "stream",
     "text": [
      "Analysis is done ignoring \"\\n\".\n",
      "Analysis is done ignoring \"\\n\".\n",
      "Analysis is done ignoring \"\\n\".\n",
      "Analysis is done ignoring \"\\n\".\n",
      "Analysis is done ignoring \"\\n\".\n",
      "Analysis is done ignoring \"\\n\".\n",
      "Analysis is done ignoring \"\\n\".\n"
     ]
    },
    {
     "name": "stdout",
     "output_type": "stream",
     "text": [
      "error\n"
     ]
    },
    {
     "name": "stderr",
     "output_type": "stream",
     "text": [
      "Analysis is done ignoring \"\\n\".\n",
      "Analysis is done ignoring \"\\n\".\n",
      "Analysis is done ignoring \"\\n\".\n",
      "Analysis is done ignoring \"\\n\".\n",
      "Analysis is done ignoring \"\\n\".\n",
      "Analysis is done ignoring \"\\n\".\n"
     ]
    },
    {
     "name": "stdout",
     "output_type": "stream",
     "text": [
      "error\n"
     ]
    },
    {
     "name": "stderr",
     "output_type": "stream",
     "text": [
      "Analysis is done ignoring \"\\n\".\n",
      "Analysis is done ignoring \"\\n\".\n",
      "Analysis is done ignoring \"\\n\".\n",
      "Analysis is done ignoring \"\\n\".\n",
      "Analysis is done ignoring \"\\n\".\n",
      "Analysis is done ignoring \"\\n\".\n",
      "Analysis is done ignoring \"\\n\".\n",
      "Analysis is done ignoring \"\\n\".\n",
      "Analysis is done ignoring \"\\n\".\n",
      "Analysis is done ignoring \"\\n\".\n",
      "Analysis is done ignoring \"\\n\".\n",
      "Analysis is done ignoring \"\\n\".\n",
      "Analysis is done ignoring \"\\n\".\n",
      "Analysis is done ignoring \"\\n\".\n",
      "Analysis is done ignoring \"\\n\".\n",
      "Analysis is done ignoring \"\\n\".\n",
      "Analysis is done ignoring \"\\n\".\n",
      "Analysis is done ignoring \"\\n\".\n",
      "Analysis is done ignoring \"\\n\".\n",
      "Analysis is done ignoring \"\\n\".\n"
     ]
    },
    {
     "name": "stdout",
     "output_type": "stream",
     "text": [
      "error\n"
     ]
    },
    {
     "name": "stderr",
     "output_type": "stream",
     "text": [
      "Analysis is done ignoring \"\\n\".\n",
      "Analysis is done ignoring \"\\n\".\n"
     ]
    },
    {
     "name": "stdout",
     "output_type": "stream",
     "text": [
      "error\n"
     ]
    },
    {
     "name": "stderr",
     "output_type": "stream",
     "text": [
      "Analysis is done ignoring \"\\n\".\n",
      "Analysis is done ignoring \"\\n\".\n",
      "Analysis is done ignoring \"\\n\".\n",
      "Analysis is done ignoring \"\\n\".\n",
      "Analysis is done ignoring \"\\n\".\n",
      "Analysis is done ignoring \"\\n\".\n",
      "Analysis is done ignoring \"\\n\".\n",
      "Analysis is done ignoring \"\\n\".\n",
      "Analysis is done ignoring \"\\n\".\n",
      "Analysis is done ignoring \"\\n\".\n",
      "Analysis is done ignoring \"\\n\".\n"
     ]
    },
    {
     "name": "stdout",
     "output_type": "stream",
     "text": [
      "error\n"
     ]
    },
    {
     "name": "stderr",
     "output_type": "stream",
     "text": [
      "Analysis is done ignoring \"\\n\".\n",
      "Analysis is done ignoring \"\\n\".\n",
      "Analysis is done ignoring \"\\n\".\n",
      "Analysis is done ignoring \"\\n\".\n",
      "Analysis is done ignoring \"\\n\".\n",
      "Analysis is done ignoring \"\\n\".\n",
      "Analysis is done ignoring \"\\n\".\n",
      "Analysis is done ignoring \"\\n\".\n",
      "Analysis is done ignoring \"\\n\".\n",
      "Analysis is done ignoring \"\\n\".\n",
      "Analysis is done ignoring \"\\n\".\n",
      "Analysis is done ignoring \"\\n\".\n",
      "Analysis is done ignoring \"\\n\".\n",
      "Analysis is done ignoring \"\\n\".\n",
      "Analysis is done ignoring \"\\n\".\n",
      "Analysis is done ignoring \"\\n\".\n",
      "Analysis is done ignoring \"\\n\".\n",
      "Analysis is done ignoring \"\\n\".\n",
      "Analysis is done ignoring \"\\n\".\n",
      "Analysis is done ignoring \"\\n\".\n",
      "Analysis is done ignoring \"\\n\".\n",
      "Analysis is done ignoring \"\\n\".\n",
      "Analysis is done ignoring \"\\n\".\n",
      "Analysis is done ignoring \"\\n\".\n",
      "Analysis is done ignoring \"\\n\".\n",
      "Analysis is done ignoring \"\\n\".\n",
      "Analysis is done ignoring \"\\n\".\n",
      "Analysis is done ignoring \"\\n\".\n",
      "Analysis is done ignoring \"\\n\".\n",
      "Analysis is done ignoring \"\\n\".\n",
      "Analysis is done ignoring \"\\n\".\n",
      "Analysis is done ignoring \"\\n\".\n",
      "Analysis is done ignoring \"\\n\".\n",
      "Analysis is done ignoring \"\\n\".\n",
      "Analysis is done ignoring \"\\n\".\n",
      "Analysis is done ignoring \"\\n\".\n",
      "Analysis is done ignoring \"\\n\".\n",
      "Analysis is done ignoring \"\\n\".\n",
      "Analysis is done ignoring \"\\n\".\n",
      "Analysis is done ignoring \"\\n\".\n",
      "Analysis is done ignoring \"\\n\".\n"
     ]
    },
    {
     "name": "stdout",
     "output_type": "stream",
     "text": [
      "error\n"
     ]
    },
    {
     "name": "stderr",
     "output_type": "stream",
     "text": [
      "Analysis is done ignoring \"\\n\".\n",
      "Analysis is done ignoring \"\\n\".\n",
      "Analysis is done ignoring \"\\n\".\n",
      "Analysis is done ignoring \"\\n\".\n",
      "Analysis is done ignoring \"\\n\".\n",
      "Analysis is done ignoring \"\\n\".\n",
      "Analysis is done ignoring \"\\n\".\n",
      "Analysis is done ignoring \"\\n\".\n",
      "Analysis is done ignoring \"\\n\".\n",
      "Analysis is done ignoring \"\\n\".\n",
      "Analysis is done ignoring \"\\n\".\n",
      "Analysis is done ignoring \"\\n\".\n",
      "Analysis is done ignoring \"\\n\".\n",
      "Analysis is done ignoring \"\\n\".\n",
      "Analysis is done ignoring \"\\n\".\n",
      "Analysis is done ignoring \"\\n\".\n",
      "Analysis is done ignoring \"\\n\".\n",
      "Analysis is done ignoring \"\\n\".\n",
      "Analysis is done ignoring \"\\n\".\n",
      "Analysis is done ignoring \"\\n\".\n",
      "Analysis is done ignoring \"\\n\".\n",
      "Analysis is done ignoring \"\\n\".\n",
      "Analysis is done ignoring \"\\n\".\n"
     ]
    },
    {
     "name": "stdout",
     "output_type": "stream",
     "text": [
      "error\n"
     ]
    },
    {
     "name": "stderr",
     "output_type": "stream",
     "text": [
      "Analysis is done ignoring \"\\n\".\n",
      "Analysis is done ignoring \"\\n\".\n",
      "Analysis is done ignoring \"\\n\".\n",
      "Analysis is done ignoring \"\\n\".\n",
      "Analysis is done ignoring \"\\n\".\n",
      "Analysis is done ignoring \"\\n\".\n",
      "Analysis is done ignoring \"\\n\".\n"
     ]
    },
    {
     "name": "stdout",
     "output_type": "stream",
     "text": [
      "error\n"
     ]
    },
    {
     "name": "stderr",
     "output_type": "stream",
     "text": [
      "Analysis is done ignoring \"\\n\".\n",
      "Analysis is done ignoring \"\\n\".\n",
      "Analysis is done ignoring \"\\n\".\n",
      "Analysis is done ignoring \"\\n\".\n",
      "Analysis is done ignoring \"\\n\".\n",
      "Analysis is done ignoring \"\\n\".\n"
     ]
    },
    {
     "name": "stdout",
     "output_type": "stream",
     "text": [
      "error\n"
     ]
    },
    {
     "name": "stderr",
     "output_type": "stream",
     "text": [
      "Analysis is done ignoring \"\\n\".\n",
      "Analysis is done ignoring \"\\n\".\n",
      "Analysis is done ignoring \"\\n\".\n",
      "Analysis is done ignoring \"\\n\".\n",
      "Analysis is done ignoring \"\\n\".\n",
      "Analysis is done ignoring \"\\n\".\n",
      "Analysis is done ignoring \"\\n\".\n",
      "Analysis is done ignoring \"\\n\".\n",
      "Analysis is done ignoring \"\\n\".\n"
     ]
    },
    {
     "name": "stdout",
     "output_type": "stream",
     "text": [
      "error\n"
     ]
    },
    {
     "name": "stderr",
     "output_type": "stream",
     "text": [
      "Analysis is done ignoring \"\\n\".\n",
      "Analysis is done ignoring \"\\n\".\n",
      "Analysis is done ignoring \"\\n\".\n",
      "Analysis is done ignoring \"\\n\".\n",
      "Analysis is done ignoring \"\\n\".\n",
      "Analysis is done ignoring \"\\n\".\n",
      "Analysis is done ignoring \"\\n\".\n",
      "Analysis is done ignoring \"\\n\".\n",
      "Analysis is done ignoring \"\\n\".\n",
      "Analysis is done ignoring \"\\n\".\n",
      "Analysis is done ignoring \"\\n\".\n",
      "Analysis is done ignoring \"\\n\".\n",
      "Analysis is done ignoring \"\\n\".\n",
      "Analysis is done ignoring \"\\n\".\n",
      "Analysis is done ignoring \"\\n\".\n",
      "Analysis is done ignoring \"\\n\".\n",
      "Analysis is done ignoring \"\\n\".\n",
      "Analysis is done ignoring \"\\n\".\n",
      "Analysis is done ignoring \"\\n\".\n",
      "Analysis is done ignoring \"\\n\".\n",
      "Analysis is done ignoring \"\\n\".\n",
      "Analysis is done ignoring \"\\n\".\n",
      "Analysis is done ignoring \"\\n\".\n",
      "Analysis is done ignoring \"\\n\".\n",
      "Analysis is done ignoring \"\\n\".\n",
      "Analysis is done ignoring \"\\n\".\n",
      "Analysis is done ignoring \"\\n\".\n",
      "Analysis is done ignoring \"\\n\".\n",
      "Analysis is done ignoring \"\\n\".\n",
      "Analysis is done ignoring \"\\n\".\n",
      "Analysis is done ignoring \"\\n\".\n",
      "Analysis is done ignoring \"\\n\".\n",
      "Analysis is done ignoring \"\\n\".\n",
      "Analysis is done ignoring \"\\n\".\n",
      "Analysis is done ignoring \"\\n\".\n",
      "Analysis is done ignoring \"\\n\".\n",
      "Analysis is done ignoring \"\\n\".\n",
      "Analysis is done ignoring \"\\n\".\n",
      "Analysis is done ignoring \"\\n\".\n",
      "Analysis is done ignoring \"\\n\".\n",
      "Analysis is done ignoring \"\\n\".\n",
      "Analysis is done ignoring \"\\n\".\n",
      "Analysis is done ignoring \"\\n\".\n",
      "Analysis is done ignoring \"\\n\".\n",
      "Analysis is done ignoring \"\\n\".\n",
      "Analysis is done ignoring \"\\n\".\n",
      "Analysis is done ignoring \"\\n\".\n",
      "Analysis is done ignoring \"\\n\".\n",
      "Analysis is done ignoring \"\\n\".\n",
      "Analysis is done ignoring \"\\n\".\n",
      "Analysis is done ignoring \"\\n\".\n"
     ]
    },
    {
     "name": "stdout",
     "output_type": "stream",
     "text": [
      "error\n"
     ]
    },
    {
     "name": "stderr",
     "output_type": "stream",
     "text": [
      "Analysis is done ignoring \"\\n\".\n",
      "Analysis is done ignoring \"\\n\".\n",
      "Analysis is done ignoring \"\\n\".\n",
      "Analysis is done ignoring \"\\n\".\n",
      "Analysis is done ignoring \"\\n\".\n",
      "Analysis is done ignoring \"\\n\".\n",
      "Analysis is done ignoring \"\\n\".\n",
      "Analysis is done ignoring \"\\n\".\n",
      "Analysis is done ignoring \"\\n\".\n",
      "Analysis is done ignoring \"\\n\".\n",
      "Analysis is done ignoring \"\\n\".\n",
      "Analysis is done ignoring \"\\n\".\n",
      "Analysis is done ignoring \"\\n\".\n",
      "Analysis is done ignoring \"\\n\".\n",
      "Analysis is done ignoring \"\\n\".\n",
      "Analysis is done ignoring \"\\n\".\n",
      "Analysis is done ignoring \"\\n\".\n",
      "Analysis is done ignoring \"\\n\".\n",
      "Analysis is done ignoring \"\\n\".\n",
      "Analysis is done ignoring \"\\n\".\n",
      "Analysis is done ignoring \"\\n\".\n",
      "Analysis is done ignoring \"\\n\".\n"
     ]
    },
    {
     "name": "stdout",
     "output_type": "stream",
     "text": [
      "error\n"
     ]
    },
    {
     "name": "stderr",
     "output_type": "stream",
     "text": [
      "Analysis is done ignoring \"\\n\".\n",
      "Analysis is done ignoring \"\\n\".\n",
      "Analysis is done ignoring \"\\n\".\n",
      "Analysis is done ignoring \"\\n\".\n",
      "Analysis is done ignoring \"\\n\".\n"
     ]
    },
    {
     "name": "stdout",
     "output_type": "stream",
     "text": [
      "error\n"
     ]
    },
    {
     "name": "stderr",
     "output_type": "stream",
     "text": [
      "Analysis is done ignoring \"\\n\".\n",
      "Analysis is done ignoring \"\\n\".\n",
      "Analysis is done ignoring \"\\n\".\n",
      "Analysis is done ignoring \"\\n\".\n",
      "Analysis is done ignoring \"\\n\".\n",
      "Analysis is done ignoring \"\\n\".\n",
      "Analysis is done ignoring \"\\n\".\n",
      "Analysis is done ignoring \"\\n\".\n",
      "Analysis is done ignoring \"\\n\".\n",
      "Analysis is done ignoring \"\\n\".\n",
      "Analysis is done ignoring \"\\n\".\n",
      "Analysis is done ignoring \"\\n\".\n",
      "Analysis is done ignoring \"\\n\".\n",
      "Analysis is done ignoring \"\\n\".\n",
      "Analysis is done ignoring \"\\n\".\n",
      "Analysis is done ignoring \"\\n\".\n",
      "Analysis is done ignoring \"\\n\".\n",
      "Analysis is done ignoring \"\\n\".\n",
      "Analysis is done ignoring \"\\n\".\n",
      "Analysis is done ignoring \"\\n\".\n",
      "Analysis is done ignoring \"\\n\".\n",
      "Analysis is done ignoring \"\\n\".\n",
      "Analysis is done ignoring \"\\n\".\n",
      "Analysis is done ignoring \"\\n\".\n",
      "Analysis is done ignoring \"\\n\".\n",
      "Analysis is done ignoring \"\\n\".\n",
      "Analysis is done ignoring \"\\n\".\n",
      "Analysis is done ignoring \"\\n\".\n",
      "Analysis is done ignoring \"\\n\".\n",
      "Analysis is done ignoring \"\\n\".\n",
      "Analysis is done ignoring \"\\n\".\n",
      "Analysis is done ignoring \"\\n\".\n",
      "Analysis is done ignoring \"\\n\".\n",
      "Analysis is done ignoring \"\\n\".\n",
      "Analysis is done ignoring \"\\n\".\n",
      "Analysis is done ignoring \"\\n\".\n",
      "Analysis is done ignoring \"\\n\".\n",
      "Analysis is done ignoring \"\\n\".\n",
      "Analysis is done ignoring \"\\n\".\n",
      "Analysis is done ignoring \"\\n\".\n",
      "Analysis is done ignoring \"\\n\".\n",
      "Analysis is done ignoring \"\\n\".\n",
      "Analysis is done ignoring \"\\n\".\n",
      "Analysis is done ignoring \"\\n\".\n",
      "Analysis is done ignoring \"\\n\".\n",
      "Analysis is done ignoring \"\\n\".\n",
      "Analysis is done ignoring \"\\n\".\n",
      "Analysis is done ignoring \"\\n\".\n",
      "Analysis is done ignoring \"\\n\".\n",
      "Analysis is done ignoring \"\\n\".\n",
      "Analysis is done ignoring \"\\n\".\n",
      "Analysis is done ignoring \"\\n\".\n",
      "Analysis is done ignoring \"\\n\".\n",
      "Analysis is done ignoring \"\\n\".\n",
      "Analysis is done ignoring \"\\n\".\n",
      "Analysis is done ignoring \"\\n\".\n",
      "Analysis is done ignoring \"\\n\".\n",
      "Analysis is done ignoring \"\\n\".\n",
      "Analysis is done ignoring \"\\n\".\n",
      "Analysis is done ignoring \"\\n\".\n",
      "Analysis is done ignoring \"\\n\".\n",
      "Analysis is done ignoring \"\\n\".\n",
      "Analysis is done ignoring \"\\n\".\n",
      "Analysis is done ignoring \"\\n\".\n",
      "Analysis is done ignoring \"\\n\".\n",
      "Analysis is done ignoring \"\\n\".\n",
      "Analysis is done ignoring \"\\n\".\n",
      "Analysis is done ignoring \"\\n\".\n",
      "Analysis is done ignoring \"\\n\".\n",
      "Analysis is done ignoring \"\\n\".\n",
      "Analysis is done ignoring \"\\n\".\n",
      "Analysis is done ignoring \"\\n\".\n",
      "Analysis is done ignoring \"\\n\".\n",
      "Analysis is done ignoring \"\\n\".\n",
      "Analysis is done ignoring \"\\n\".\n",
      "Analysis is done ignoring \"\\n\".\n",
      "Analysis is done ignoring \"\\n\".\n",
      "Analysis is done ignoring \"\\n\".\n",
      "Analysis is done ignoring \"\\n\".\n",
      "Analysis is done ignoring \"\\n\".\n",
      "Analysis is done ignoring \"\\n\".\n",
      "Analysis is done ignoring \"\\n\".\n"
     ]
    },
    {
     "name": "stdout",
     "output_type": "stream",
     "text": [
      "error\n"
     ]
    },
    {
     "name": "stderr",
     "output_type": "stream",
     "text": [
      "Analysis is done ignoring \"\\n\".\n",
      "Analysis is done ignoring \"\\n\".\n",
      "Analysis is done ignoring \"\\n\".\n",
      "Analysis is done ignoring \"\\n\".\n",
      "Analysis is done ignoring \"\\n\".\n",
      "Analysis is done ignoring \"\\n\".\n",
      "Analysis is done ignoring \"\\n\".\n",
      "Analysis is done ignoring \"\\n\".\n",
      "Analysis is done ignoring \"\\n\".\n",
      "Analysis is done ignoring \"\\n\".\n",
      "Analysis is done ignoring \"\\n\".\n",
      "Analysis is done ignoring \"\\n\".\n"
     ]
    },
    {
     "name": "stdout",
     "output_type": "stream",
     "text": [
      "error\n"
     ]
    },
    {
     "name": "stderr",
     "output_type": "stream",
     "text": [
      "Analysis is done ignoring \"\\n\".\n",
      "Analysis is done ignoring \"\\n\".\n",
      "Analysis is done ignoring \"\\n\".\n",
      "Analysis is done ignoring \"\\n\".\n",
      "Analysis is done ignoring \"\\n\".\n",
      "Analysis is done ignoring \"\\n\".\n",
      "Analysis is done ignoring \"\\n\".\n",
      "Analysis is done ignoring \"\\n\".\n",
      "Analysis is done ignoring \"\\n\".\n",
      "Analysis is done ignoring \"\\n\".\n",
      "Analysis is done ignoring \"\\n\".\n"
     ]
    },
    {
     "name": "stdout",
     "output_type": "stream",
     "text": [
      "error\n"
     ]
    },
    {
     "name": "stderr",
     "output_type": "stream",
     "text": [
      "Analysis is done ignoring \"\\n\".\n",
      "Analysis is done ignoring \"\\n\".\n",
      "Analysis is done ignoring \"\\n\".\n",
      "Analysis is done ignoring \"\\n\".\n",
      "Analysis is done ignoring \"\\n\".\n",
      "Analysis is done ignoring \"\\n\".\n",
      "Analysis is done ignoring \"\\n\".\n"
     ]
    },
    {
     "name": "stdout",
     "output_type": "stream",
     "text": [
      "error\n"
     ]
    },
    {
     "name": "stderr",
     "output_type": "stream",
     "text": [
      "Analysis is done ignoring \"\\n\".\n",
      "Analysis is done ignoring \"\\n\".\n",
      "Analysis is done ignoring \"\\n\".\n"
     ]
    },
    {
     "name": "stdout",
     "output_type": "stream",
     "text": [
      "error\n"
     ]
    },
    {
     "name": "stderr",
     "output_type": "stream",
     "text": [
      "Analysis is done ignoring \"\\n\".\n",
      "Analysis is done ignoring \"\\n\".\n",
      "Analysis is done ignoring \"\\n\".\n",
      "Analysis is done ignoring \"\\n\".\n",
      "Analysis is done ignoring \"\\n\".\n",
      "Analysis is done ignoring \"\\n\".\n",
      "Analysis is done ignoring \"\\n\".\n",
      "Analysis is done ignoring \"\\n\".\n",
      "Analysis is done ignoring \"\\n\".\n",
      "Analysis is done ignoring \"\\n\".\n",
      "Analysis is done ignoring \"\\n\".\n",
      "Analysis is done ignoring \"\\n\".\n",
      "Analysis is done ignoring \"\\n\".\n",
      "Analysis is done ignoring \"\\n\".\n",
      "Analysis is done ignoring \"\\n\".\n",
      "Analysis is done ignoring \"\\n\".\n",
      "Analysis is done ignoring \"\\n\".\n",
      "Analysis is done ignoring \"\\n\".\n",
      "Analysis is done ignoring \"\\n\".\n",
      "Analysis is done ignoring \"\\n\".\n",
      "Analysis is done ignoring \"\\n\".\n",
      "Analysis is done ignoring \"\\n\".\n",
      "Analysis is done ignoring \"\\n\".\n",
      "Analysis is done ignoring \"\\n\".\n",
      "Analysis is done ignoring \"\\n\".\n",
      "Analysis is done ignoring \"\\n\".\n",
      "Analysis is done ignoring \"\\n\".\n",
      "Analysis is done ignoring \"\\n\".\n",
      "Analysis is done ignoring \"\\n\".\n",
      "Analysis is done ignoring \"\\n\".\n",
      "Analysis is done ignoring \"\\n\".\n",
      "Analysis is done ignoring \"\\n\".\n",
      "Analysis is done ignoring \"\\n\".\n",
      "Analysis is done ignoring \"\\n\".\n",
      "Analysis is done ignoring \"\\n\".\n",
      "Analysis is done ignoring \"\\n\".\n",
      "Analysis is done ignoring \"\\n\".\n",
      "Analysis is done ignoring \"\\n\".\n",
      "Analysis is done ignoring \"\\n\".\n",
      "Analysis is done ignoring \"\\n\".\n",
      "Analysis is done ignoring \"\\n\".\n",
      "Analysis is done ignoring \"\\n\".\n",
      "Analysis is done ignoring \"\\n\".\n",
      "Analysis is done ignoring \"\\n\".\n",
      "Analysis is done ignoring \"\\n\".\n",
      "Analysis is done ignoring \"\\n\".\n",
      "Analysis is done ignoring \"\\n\".\n",
      "Analysis is done ignoring \"\\n\".\n",
      "Analysis is done ignoring \"\\n\".\n",
      "Analysis is done ignoring \"\\n\".\n",
      "Analysis is done ignoring \"\\n\".\n",
      "Analysis is done ignoring \"\\n\".\n",
      "Analysis is done ignoring \"\\n\".\n",
      "Analysis is done ignoring \"\\n\".\n",
      "Analysis is done ignoring \"\\n\".\n",
      "Analysis is done ignoring \"\\n\".\n",
      "Analysis is done ignoring \"\\n\".\n",
      "Analysis is done ignoring \"\\n\".\n",
      "Analysis is done ignoring \"\\n\".\n",
      "Analysis is done ignoring \"\\n\".\n",
      "Analysis is done ignoring \"\\n\".\n",
      "Analysis is done ignoring \"\\n\".\n",
      "Analysis is done ignoring \"\\n\".\n",
      "Analysis is done ignoring \"\\n\".\n",
      "Analysis is done ignoring \"\\n\".\n",
      "Analysis is done ignoring \"\\n\".\n",
      "Analysis is done ignoring \"\\n\".\n",
      "Analysis is done ignoring \"\\n\".\n",
      "Analysis is done ignoring \"\\n\".\n",
      "Analysis is done ignoring \"\\n\".\n",
      "Analysis is done ignoring \"\\n\".\n",
      "Analysis is done ignoring \"\\n\".\n",
      "Analysis is done ignoring \"\\n\".\n",
      "Analysis is done ignoring \"\\n\".\n",
      "Analysis is done ignoring \"\\n\".\n",
      "Analysis is done ignoring \"\\n\".\n",
      "Analysis is done ignoring \"\\n\".\n",
      "Analysis is done ignoring \"\\n\".\n",
      "Analysis is done ignoring \"\\n\".\n",
      "Analysis is done ignoring \"\\n\".\n",
      "Analysis is done ignoring \"\\n\".\n",
      "Analysis is done ignoring \"\\n\".\n",
      "Analysis is done ignoring \"\\n\".\n",
      "Analysis is done ignoring \"\\n\".\n",
      "Analysis is done ignoring \"\\n\".\n",
      "Analysis is done ignoring \"\\n\".\n",
      "Analysis is done ignoring \"\\n\".\n",
      "Analysis is done ignoring \"\\n\".\n",
      "Analysis is done ignoring \"\\n\".\n",
      "Analysis is done ignoring \"\\n\".\n",
      "Analysis is done ignoring \"\\n\".\n",
      "Analysis is done ignoring \"\\n\".\n",
      "Analysis is done ignoring \"\\n\".\n",
      "Analysis is done ignoring \"\\n\".\n",
      "Analysis is done ignoring \"\\n\".\n",
      "Analysis is done ignoring \"\\n\".\n",
      "Analysis is done ignoring \"\\n\".\n",
      "Analysis is done ignoring \"\\n\".\n",
      "Analysis is done ignoring \"\\n\".\n",
      "Analysis is done ignoring \"\\n\".\n",
      "Analysis is done ignoring \"\\n\".\n",
      "Analysis is done ignoring \"\\n\".\n",
      "Analysis is done ignoring \"\\n\".\n",
      "Analysis is done ignoring \"\\n\".\n"
     ]
    },
    {
     "name": "stdout",
     "output_type": "stream",
     "text": [
      "error\n"
     ]
    },
    {
     "name": "stderr",
     "output_type": "stream",
     "text": [
      "Analysis is done ignoring \"\\n\".\n",
      "Analysis is done ignoring \"\\n\".\n"
     ]
    },
    {
     "name": "stdout",
     "output_type": "stream",
     "text": [
      "error\n",
      "error\n"
     ]
    },
    {
     "name": "stderr",
     "output_type": "stream",
     "text": [
      "Analysis is done ignoring \"\\n\".\n",
      "Analysis is done ignoring \"\\n\".\n",
      "Analysis is done ignoring \"\\n\".\n",
      "Analysis is done ignoring \"\\n\".\n",
      "Analysis is done ignoring \"\\n\".\n",
      "Analysis is done ignoring \"\\n\".\n",
      "Analysis is done ignoring \"\\n\".\n",
      "Analysis is done ignoring \"\\n\".\n",
      "Analysis is done ignoring \"\\n\".\n",
      "Analysis is done ignoring \"\\n\".\n",
      "Analysis is done ignoring \"\\n\".\n",
      "Analysis is done ignoring \"\\n\".\n",
      "Analysis is done ignoring \"\\n\".\n"
     ]
    },
    {
     "name": "stdout",
     "output_type": "stream",
     "text": [
      "error\n"
     ]
    },
    {
     "name": "stderr",
     "output_type": "stream",
     "text": [
      "Analysis is done ignoring \"\\n\".\n",
      "Analysis is done ignoring \"\\n\".\n",
      "Analysis is done ignoring \"\\n\".\n",
      "Analysis is done ignoring \"\\n\".\n",
      "Analysis is done ignoring \"\\n\".\n",
      "Analysis is done ignoring \"\\n\".\n",
      "Analysis is done ignoring \"\\n\".\n",
      "Analysis is done ignoring \"\\n\".\n",
      "Analysis is done ignoring \"\\n\".\n",
      "Analysis is done ignoring \"\\n\".\n",
      "Analysis is done ignoring \"\\n\".\n",
      "Analysis is done ignoring \"\\n\".\n",
      "Analysis is done ignoring \"\\n\".\n",
      "Analysis is done ignoring \"\\n\".\n",
      "Analysis is done ignoring \"\\n\".\n",
      "Analysis is done ignoring \"\\n\".\n",
      "Analysis is done ignoring \"\\n\".\n",
      "Analysis is done ignoring \"\\n\".\n",
      "Analysis is done ignoring \"\\n\".\n",
      "Analysis is done ignoring \"\\n\".\n",
      "Analysis is done ignoring \"\\n\".\n",
      "Analysis is done ignoring \"\\n\".\n",
      "Analysis is done ignoring \"\\n\".\n"
     ]
    },
    {
     "name": "stdout",
     "output_type": "stream",
     "text": [
      "error\n"
     ]
    },
    {
     "name": "stderr",
     "output_type": "stream",
     "text": [
      "Analysis is done ignoring \"\\n\".\n",
      "Analysis is done ignoring \"\\n\".\n",
      "Analysis is done ignoring \"\\n\".\n",
      "Analysis is done ignoring \"\\n\".\n",
      "Analysis is done ignoring \"\\n\".\n",
      "Analysis is done ignoring \"\\n\".\n",
      "Analysis is done ignoring \"\\n\".\n",
      "Analysis is done ignoring \"\\n\".\n",
      "Analysis is done ignoring \"\\n\".\n",
      "Analysis is done ignoring \"\\n\".\n"
     ]
    },
    {
     "name": "stdout",
     "output_type": "stream",
     "text": [
      "error\n"
     ]
    },
    {
     "name": "stderr",
     "output_type": "stream",
     "text": [
      "Analysis is done ignoring \"\\n\".\n",
      "Analysis is done ignoring \"\\n\".\n",
      "Analysis is done ignoring \"\\n\".\n",
      "Analysis is done ignoring \"\\n\".\n",
      "Analysis is done ignoring \"\\n\".\n",
      "Analysis is done ignoring \"\\n\".\n"
     ]
    },
    {
     "name": "stdout",
     "output_type": "stream",
     "text": [
      "error\n"
     ]
    },
    {
     "name": "stderr",
     "output_type": "stream",
     "text": [
      "Analysis is done ignoring \"\\n\".\n",
      "Analysis is done ignoring \"\\n\".\n",
      "Analysis is done ignoring \"\\n\".\n",
      "Analysis is done ignoring \"\\n\".\n",
      "Analysis is done ignoring \"\\n\".\n",
      "Analysis is done ignoring \"\\n\".\n",
      "Analysis is done ignoring \"\\n\".\n",
      "Analysis is done ignoring \"\\n\".\n",
      "Analysis is done ignoring \"\\n\".\n",
      "Analysis is done ignoring \"\\n\".\n",
      "Analysis is done ignoring \"\\n\".\n",
      "Analysis is done ignoring \"\\n\".\n",
      "Analysis is done ignoring \"\\n\".\n",
      "Analysis is done ignoring \"\\n\".\n",
      "Analysis is done ignoring \"\\n\".\n",
      "Analysis is done ignoring \"\\n\".\n",
      "Analysis is done ignoring \"\\n\".\n",
      "Analysis is done ignoring \"\\n\".\n",
      "Analysis is done ignoring \"\\n\".\n",
      "Analysis is done ignoring \"\\n\".\n",
      "Analysis is done ignoring \"\\n\".\n",
      "Analysis is done ignoring \"\\n\".\n"
     ]
    },
    {
     "name": "stdout",
     "output_type": "stream",
     "text": [
      "error\n"
     ]
    },
    {
     "name": "stderr",
     "output_type": "stream",
     "text": [
      "Analysis is done ignoring \"\\n\".\n",
      "Analysis is done ignoring \"\\n\".\n",
      "Analysis is done ignoring \"\\n\".\n",
      "Analysis is done ignoring \"\\n\".\n",
      "Analysis is done ignoring \"\\n\".\n"
     ]
    },
    {
     "name": "stdout",
     "output_type": "stream",
     "text": [
      "error\n"
     ]
    },
    {
     "name": "stderr",
     "output_type": "stream",
     "text": [
      "Analysis is done ignoring \"\\n\".\n",
      "Analysis is done ignoring \"\\n\".\n",
      "Analysis is done ignoring \"\\n\".\n",
      "Analysis is done ignoring \"\\n\".\n",
      "Analysis is done ignoring \"\\n\".\n",
      "Analysis is done ignoring \"\\n\".\n",
      "Analysis is done ignoring \"\\n\".\n",
      "Analysis is done ignoring \"\\n\".\n",
      "Analysis is done ignoring \"\\n\".\n",
      "Analysis is done ignoring \"\\n\".\n",
      "Analysis is done ignoring \"\\n\".\n",
      "Analysis is done ignoring \"\\n\".\n",
      "Analysis is done ignoring \"\\n\".\n",
      "Analysis is done ignoring \"\\n\".\n",
      "Analysis is done ignoring \"\\n\".\n",
      "Analysis is done ignoring \"\\n\".\n",
      "Analysis is done ignoring \"\\n\".\n",
      "Analysis is done ignoring \"\\n\".\n",
      "Analysis is done ignoring \"\\n\".\n",
      "Analysis is done ignoring \"\\n\".\n",
      "Analysis is done ignoring \"\\n\".\n",
      "Analysis is done ignoring \"\\n\".\n",
      "Analysis is done ignoring \"\\n\".\n"
     ]
    },
    {
     "name": "stdout",
     "output_type": "stream",
     "text": [
      "error\n"
     ]
    },
    {
     "name": "stderr",
     "output_type": "stream",
     "text": [
      "Analysis is done ignoring \"\\n\".\n",
      "Analysis is done ignoring \"\\n\".\n",
      "Analysis is done ignoring \"\\n\".\n",
      "Analysis is done ignoring \"\\n\".\n",
      "Analysis is done ignoring \"\\n\".\n",
      "Analysis is done ignoring \"\\n\".\n",
      "Analysis is done ignoring \"\\n\".\n",
      "Analysis is done ignoring \"\\n\".\n",
      "Analysis is done ignoring \"\\n\".\n",
      "Analysis is done ignoring \"\\n\".\n",
      "Analysis is done ignoring \"\\n\".\n",
      "Analysis is done ignoring \"\\n\".\n",
      "Analysis is done ignoring \"\\n\".\n",
      "Analysis is done ignoring \"\\n\".\n",
      "Analysis is done ignoring \"\\n\".\n",
      "Analysis is done ignoring \"\\n\".\n",
      "Analysis is done ignoring \"\\n\".\n"
     ]
    },
    {
     "name": "stdout",
     "output_type": "stream",
     "text": [
      "error\n"
     ]
    },
    {
     "name": "stderr",
     "output_type": "stream",
     "text": [
      "Analysis is done ignoring \"\\n\".\n",
      "Analysis is done ignoring \"\\n\".\n",
      "Analysis is done ignoring \"\\n\".\n",
      "Analysis is done ignoring \"\\n\".\n",
      "Analysis is done ignoring \"\\n\".\n",
      "Analysis is done ignoring \"\\n\".\n",
      "Analysis is done ignoring \"\\n\".\n",
      "Analysis is done ignoring \"\\n\".\n",
      "Analysis is done ignoring \"\\n\".\n",
      "Analysis is done ignoring \"\\n\".\n"
     ]
    },
    {
     "name": "stdout",
     "output_type": "stream",
     "text": [
      "error\n"
     ]
    },
    {
     "name": "stderr",
     "output_type": "stream",
     "text": [
      "Analysis is done ignoring \"\\n\".\n",
      "Analysis is done ignoring \"\\n\".\n",
      "Analysis is done ignoring \"\\n\".\n",
      "Analysis is done ignoring \"\\n\".\n",
      "Analysis is done ignoring \"\\n\".\n",
      "Analysis is done ignoring \"\\n\".\n",
      "Analysis is done ignoring \"\\n\".\n",
      "Analysis is done ignoring \"\\n\".\n",
      "Analysis is done ignoring \"\\n\".\n",
      "Analysis is done ignoring \"\\n\".\n",
      "Analysis is done ignoring \"\\n\".\n",
      "Analysis is done ignoring \"\\n\".\n",
      "Analysis is done ignoring \"\\n\".\n",
      "Analysis is done ignoring \"\\n\".\n",
      "Analysis is done ignoring \"\\n\".\n",
      "Analysis is done ignoring \"\\n\".\n",
      "Analysis is done ignoring \"\\n\".\n",
      "Analysis is done ignoring \"\\n\".\n",
      "Analysis is done ignoring \"\\n\".\n",
      "Analysis is done ignoring \"\\n\".\n",
      "Analysis is done ignoring \"\\n\".\n",
      "Analysis is done ignoring \"\\n\".\n"
     ]
    },
    {
     "name": "stdout",
     "output_type": "stream",
     "text": [
      "error\n"
     ]
    },
    {
     "name": "stderr",
     "output_type": "stream",
     "text": [
      "Analysis is done ignoring \"\\n\".\n",
      "Analysis is done ignoring \"\\n\".\n",
      "Analysis is done ignoring \"\\n\".\n",
      "Analysis is done ignoring \"\\n\".\n",
      "Analysis is done ignoring \"\\n\".\n",
      "Analysis is done ignoring \"\\n\".\n",
      "Analysis is done ignoring \"\\n\".\n",
      "Analysis is done ignoring \"\\n\".\n",
      "Analysis is done ignoring \"\\n\".\n"
     ]
    },
    {
     "name": "stdout",
     "output_type": "stream",
     "text": [
      "error\n"
     ]
    },
    {
     "name": "stderr",
     "output_type": "stream",
     "text": [
      "Analysis is done ignoring \"\\n\".\n"
     ]
    },
    {
     "name": "stdout",
     "output_type": "stream",
     "text": [
      "error\n",
      "error\n",
      "error\n"
     ]
    },
    {
     "name": "stderr",
     "output_type": "stream",
     "text": [
      "Analysis is done ignoring \"\\n\".\n",
      "Analysis is done ignoring \"\\n\".\n",
      "Analysis is done ignoring \"\\n\".\n",
      "Analysis is done ignoring \"\\n\".\n",
      "Analysis is done ignoring \"\\n\".\n",
      "Analysis is done ignoring \"\\n\".\n",
      "Analysis is done ignoring \"\\n\".\n",
      "Analysis is done ignoring \"\\n\".\n",
      "Analysis is done ignoring \"\\n\".\n",
      "Analysis is done ignoring \"\\n\".\n",
      "Analysis is done ignoring \"\\n\".\n",
      "Analysis is done ignoring \"\\n\".\n",
      "Analysis is done ignoring \"\\n\".\n",
      "Analysis is done ignoring \"\\n\".\n"
     ]
    },
    {
     "name": "stdout",
     "output_type": "stream",
     "text": [
      "error\n"
     ]
    },
    {
     "name": "stderr",
     "output_type": "stream",
     "text": [
      "Analysis is done ignoring \"\\n\".\n",
      "Analysis is done ignoring \"\\n\".\n",
      "Analysis is done ignoring \"\\n\".\n",
      "Analysis is done ignoring \"\\n\".\n",
      "Analysis is done ignoring \"\\n\".\n",
      "Analysis is done ignoring \"\\n\".\n",
      "Analysis is done ignoring \"\\n\".\n",
      "Analysis is done ignoring \"\\n\".\n",
      "Analysis is done ignoring \"\\n\".\n",
      "Analysis is done ignoring \"\\n\".\n"
     ]
    },
    {
     "name": "stdout",
     "output_type": "stream",
     "text": [
      "error\n"
     ]
    },
    {
     "name": "stderr",
     "output_type": "stream",
     "text": [
      "Analysis is done ignoring \"\\n\".\n",
      "Analysis is done ignoring \"\\n\".\n",
      "Analysis is done ignoring \"\\n\".\n",
      "Analysis is done ignoring \"\\n\".\n"
     ]
    },
    {
     "name": "stdout",
     "output_type": "stream",
     "text": [
      "error\n"
     ]
    },
    {
     "name": "stderr",
     "output_type": "stream",
     "text": [
      "Analysis is done ignoring \"\\n\".\n",
      "Analysis is done ignoring \"\\n\".\n",
      "Analysis is done ignoring \"\\n\".\n",
      "Analysis is done ignoring \"\\n\".\n",
      "Analysis is done ignoring \"\\n\".\n",
      "Analysis is done ignoring \"\\n\".\n",
      "Analysis is done ignoring \"\\n\".\n",
      "Analysis is done ignoring \"\\n\".\n",
      "Analysis is done ignoring \"\\n\".\n",
      "Analysis is done ignoring \"\\n\".\n",
      "Analysis is done ignoring \"\\n\".\n",
      "Analysis is done ignoring \"\\n\".\n"
     ]
    },
    {
     "name": "stdout",
     "output_type": "stream",
     "text": [
      "error\n"
     ]
    },
    {
     "name": "stderr",
     "output_type": "stream",
     "text": [
      "Analysis is done ignoring \"\\n\".\n",
      "Analysis is done ignoring \"\\n\".\n",
      "Analysis is done ignoring \"\\n\".\n",
      "Analysis is done ignoring \"\\n\".\n",
      "Analysis is done ignoring \"\\n\".\n",
      "Analysis is done ignoring \"\\n\".\n",
      "Analysis is done ignoring \"\\n\".\n",
      "Analysis is done ignoring \"\\n\".\n"
     ]
    },
    {
     "name": "stdout",
     "output_type": "stream",
     "text": [
      "error\n"
     ]
    },
    {
     "name": "stderr",
     "output_type": "stream",
     "text": [
      "Analysis is done ignoring \"\\n\".\n",
      "Analysis is done ignoring \"\\n\".\n",
      "Analysis is done ignoring \"\\n\".\n",
      "Analysis is done ignoring \"\\n\".\n",
      "Analysis is done ignoring \"\\n\".\n",
      "Analysis is done ignoring \"\\n\".\n",
      "Analysis is done ignoring \"\\n\".\n",
      "Analysis is done ignoring \"\\n\".\n",
      "Analysis is done ignoring \"\\n\".\n",
      "Analysis is done ignoring \"\\n\".\n"
     ]
    },
    {
     "name": "stdout",
     "output_type": "stream",
     "text": [
      "error\n"
     ]
    },
    {
     "name": "stderr",
     "output_type": "stream",
     "text": [
      "Analysis is done ignoring \"\\n\".\n",
      "Analysis is done ignoring \"\\n\".\n",
      "Analysis is done ignoring \"\\n\".\n"
     ]
    },
    {
     "name": "stdout",
     "output_type": "stream",
     "text": [
      "error\n"
     ]
    },
    {
     "name": "stderr",
     "output_type": "stream",
     "text": [
      "Analysis is done ignoring \"\\n\".\n",
      "Analysis is done ignoring \"\\n\".\n",
      "Analysis is done ignoring \"\\n\".\n",
      "Analysis is done ignoring \"\\n\".\n",
      "Analysis is done ignoring \"\\n\".\n",
      "Analysis is done ignoring \"\\n\".\n",
      "Analysis is done ignoring \"\\n\".\n",
      "Analysis is done ignoring \"\\n\".\n",
      "Analysis is done ignoring \"\\n\".\n",
      "Analysis is done ignoring \"\\n\".\n",
      "Analysis is done ignoring \"\\n\".\n",
      "Analysis is done ignoring \"\\n\".\n",
      "Analysis is done ignoring \"\\n\".\n",
      "Analysis is done ignoring \"\\n\".\n",
      "Analysis is done ignoring \"\\n\".\n",
      "Analysis is done ignoring \"\\n\".\n"
     ]
    },
    {
     "name": "stdout",
     "output_type": "stream",
     "text": [
      "error\n"
     ]
    },
    {
     "name": "stderr",
     "output_type": "stream",
     "text": [
      "Analysis is done ignoring \"\\n\".\n",
      "Analysis is done ignoring \"\\n\".\n"
     ]
    },
    {
     "name": "stdout",
     "output_type": "stream",
     "text": [
      "error\n"
     ]
    },
    {
     "name": "stderr",
     "output_type": "stream",
     "text": [
      "Analysis is done ignoring \"\\n\".\n",
      "Analysis is done ignoring \"\\n\".\n",
      "Analysis is done ignoring \"\\n\".\n",
      "Analysis is done ignoring \"\\n\".\n",
      "Analysis is done ignoring \"\\n\".\n",
      "Analysis is done ignoring \"\\n\".\n",
      "Analysis is done ignoring \"\\n\".\n",
      "Analysis is done ignoring \"\\n\".\n",
      "Analysis is done ignoring \"\\n\".\n",
      "Analysis is done ignoring \"\\n\".\n",
      "Analysis is done ignoring \"\\n\".\n",
      "Analysis is done ignoring \"\\n\".\n",
      "Analysis is done ignoring \"\\n\".\n",
      "Analysis is done ignoring \"\\n\".\n",
      "Analysis is done ignoring \"\\n\".\n",
      "Analysis is done ignoring \"\\n\".\n",
      "Analysis is done ignoring \"\\n\".\n",
      "Analysis is done ignoring \"\\n\".\n",
      "Analysis is done ignoring \"\\n\".\n",
      "Analysis is done ignoring \"\\n\".\n",
      "Analysis is done ignoring \"\\n\".\n",
      "Analysis is done ignoring \"\\n\".\n"
     ]
    },
    {
     "name": "stdout",
     "output_type": "stream",
     "text": [
      "error\n"
     ]
    },
    {
     "name": "stderr",
     "output_type": "stream",
     "text": [
      "Analysis is done ignoring \"\\n\".\n",
      "Analysis is done ignoring \"\\n\".\n",
      "Analysis is done ignoring \"\\n\".\n",
      "Analysis is done ignoring \"\\n\".\n",
      "Analysis is done ignoring \"\\n\".\n",
      "Analysis is done ignoring \"\\n\".\n",
      "Analysis is done ignoring \"\\n\".\n",
      "Analysis is done ignoring \"\\n\".\n",
      "Analysis is done ignoring \"\\n\".\n",
      "Analysis is done ignoring \"\\n\".\n"
     ]
    },
    {
     "name": "stdout",
     "output_type": "stream",
     "text": [
      "error\n",
      "error\n",
      "error\n"
     ]
    },
    {
     "name": "stderr",
     "output_type": "stream",
     "text": [
      "Analysis is done ignoring \"\\n\".\n"
     ]
    },
    {
     "name": "stdout",
     "output_type": "stream",
     "text": [
      "error\n"
     ]
    },
    {
     "name": "stderr",
     "output_type": "stream",
     "text": [
      "Analysis is done ignoring \"\\n\".\n",
      "Analysis is done ignoring \"\\n\".\n",
      "Analysis is done ignoring \"\\n\".\n",
      "Analysis is done ignoring \"\\n\".\n",
      "Analysis is done ignoring \"\\n\".\n",
      "Analysis is done ignoring \"\\n\".\n",
      "Analysis is done ignoring \"\\n\".\n",
      "Analysis is done ignoring \"\\n\".\n",
      "Analysis is done ignoring \"\\n\".\n",
      "Analysis is done ignoring \"\\n\".\n",
      "Analysis is done ignoring \"\\n\".\n",
      "Analysis is done ignoring \"\\n\".\n",
      "Analysis is done ignoring \"\\n\".\n",
      "Analysis is done ignoring \"\\n\".\n",
      "Analysis is done ignoring \"\\n\".\n",
      "Analysis is done ignoring \"\\n\".\n"
     ]
    },
    {
     "name": "stdout",
     "output_type": "stream",
     "text": [
      "error\n"
     ]
    },
    {
     "name": "stderr",
     "output_type": "stream",
     "text": [
      "Analysis is done ignoring \"\\n\".\n",
      "Analysis is done ignoring \"\\n\".\n"
     ]
    },
    {
     "name": "stdout",
     "output_type": "stream",
     "text": [
      "error\n"
     ]
    },
    {
     "name": "stderr",
     "output_type": "stream",
     "text": [
      "Analysis is done ignoring \"\\n\".\n",
      "Analysis is done ignoring \"\\n\".\n",
      "Analysis is done ignoring \"\\n\".\n",
      "Analysis is done ignoring \"\\n\".\n",
      "Analysis is done ignoring \"\\n\".\n",
      "Analysis is done ignoring \"\\n\".\n",
      "Analysis is done ignoring \"\\n\".\n",
      "Analysis is done ignoring \"\\n\".\n",
      "Analysis is done ignoring \"\\n\".\n",
      "Analysis is done ignoring \"\\n\".\n",
      "Analysis is done ignoring \"\\n\".\n",
      "Analysis is done ignoring \"\\n\".\n",
      "Analysis is done ignoring \"\\n\".\n",
      "Analysis is done ignoring \"\\n\".\n",
      "Analysis is done ignoring \"\\n\".\n",
      "Analysis is done ignoring \"\\n\".\n",
      "Analysis is done ignoring \"\\n\".\n",
      "Analysis is done ignoring \"\\n\".\n",
      "Analysis is done ignoring \"\\n\".\n",
      "Analysis is done ignoring \"\\n\".\n",
      "Analysis is done ignoring \"\\n\".\n",
      "Analysis is done ignoring \"\\n\".\n",
      "Analysis is done ignoring \"\\n\".\n",
      "Analysis is done ignoring \"\\n\".\n",
      "Analysis is done ignoring \"\\n\".\n",
      "Analysis is done ignoring \"\\n\".\n",
      "Analysis is done ignoring \"\\n\".\n",
      "Analysis is done ignoring \"\\n\".\n",
      "Analysis is done ignoring \"\\n\".\n",
      "Analysis is done ignoring \"\\n\".\n",
      "Analysis is done ignoring \"\\n\".\n",
      "Analysis is done ignoring \"\\n\".\n",
      "Analysis is done ignoring \"\\n\".\n"
     ]
    },
    {
     "name": "stdout",
     "output_type": "stream",
     "text": [
      "error\n"
     ]
    },
    {
     "name": "stderr",
     "output_type": "stream",
     "text": [
      "Analysis is done ignoring \"\\n\".\n",
      "Analysis is done ignoring \"\\n\".\n"
     ]
    },
    {
     "name": "stdout",
     "output_type": "stream",
     "text": [
      "error\n"
     ]
    },
    {
     "name": "stderr",
     "output_type": "stream",
     "text": [
      "Analysis is done ignoring \"\\n\".\n",
      "Analysis is done ignoring \"\\n\".\n",
      "Analysis is done ignoring \"\\n\".\n"
     ]
    },
    {
     "name": "stdout",
     "output_type": "stream",
     "text": [
      "error\n"
     ]
    },
    {
     "name": "stderr",
     "output_type": "stream",
     "text": [
      "Analysis is done ignoring \"\\n\".\n",
      "Analysis is done ignoring \"\\n\".\n",
      "Analysis is done ignoring \"\\n\".\n",
      "Analysis is done ignoring \"\\n\".\n",
      "Analysis is done ignoring \"\\n\".\n",
      "Analysis is done ignoring \"\\n\".\n",
      "Analysis is done ignoring \"\\n\".\n",
      "Analysis is done ignoring \"\\n\".\n",
      "Analysis is done ignoring \"\\n\".\n"
     ]
    },
    {
     "name": "stdout",
     "output_type": "stream",
     "text": [
      "error\n"
     ]
    },
    {
     "name": "stderr",
     "output_type": "stream",
     "text": [
      "Analysis is done ignoring \"\\n\".\n",
      "Analysis is done ignoring \"\\n\".\n",
      "Analysis is done ignoring \"\\n\".\n",
      "Analysis is done ignoring \"\\n\".\n",
      "Analysis is done ignoring \"\\n\".\n",
      "Analysis is done ignoring \"\\n\".\n",
      "Analysis is done ignoring \"\\n\".\n",
      "Analysis is done ignoring \"\\n\".\n"
     ]
    },
    {
     "name": "stdout",
     "output_type": "stream",
     "text": [
      "error\n"
     ]
    },
    {
     "name": "stderr",
     "output_type": "stream",
     "text": [
      "Analysis is done ignoring \"\\n\".\n",
      "Analysis is done ignoring \"\\n\".\n"
     ]
    },
    {
     "name": "stdout",
     "output_type": "stream",
     "text": [
      "error\n"
     ]
    },
    {
     "name": "stderr",
     "output_type": "stream",
     "text": [
      "Analysis is done ignoring \"\\n\".\n",
      "Analysis is done ignoring \"\\n\".\n"
     ]
    },
    {
     "name": "stdout",
     "output_type": "stream",
     "text": [
      "error\n"
     ]
    },
    {
     "name": "stderr",
     "output_type": "stream",
     "text": [
      "Analysis is done ignoring \"\\n\".\n",
      "Analysis is done ignoring \"\\n\".\n",
      "Analysis is done ignoring \"\\n\".\n",
      "Analysis is done ignoring \"\\n\".\n"
     ]
    },
    {
     "name": "stdout",
     "output_type": "stream",
     "text": [
      "error\n"
     ]
    },
    {
     "name": "stderr",
     "output_type": "stream",
     "text": [
      "Analysis is done ignoring \"\\n\".\n",
      "Analysis is done ignoring \"\\n\".\n"
     ]
    },
    {
     "name": "stdout",
     "output_type": "stream",
     "text": [
      "error\n"
     ]
    },
    {
     "name": "stderr",
     "output_type": "stream",
     "text": [
      "Analysis is done ignoring \"\\n\".\n",
      "Analysis is done ignoring \"\\n\".\n",
      "Analysis is done ignoring \"\\n\".\n",
      "Analysis is done ignoring \"\\n\".\n",
      "Analysis is done ignoring \"\\n\".\n",
      "Analysis is done ignoring \"\\n\".\n"
     ]
    },
    {
     "name": "stdout",
     "output_type": "stream",
     "text": [
      "error\n"
     ]
    },
    {
     "name": "stderr",
     "output_type": "stream",
     "text": [
      "Analysis is done ignoring \"\\n\".\n",
      "Analysis is done ignoring \"\\n\".\n",
      "Analysis is done ignoring \"\\n\".\n"
     ]
    },
    {
     "name": "stdout",
     "output_type": "stream",
     "text": [
      "error\n"
     ]
    },
    {
     "name": "stderr",
     "output_type": "stream",
     "text": [
      "Analysis is done ignoring \"\\n\".\n",
      "Analysis is done ignoring \"\\n\".\n",
      "Analysis is done ignoring \"\\n\".\n",
      "Analysis is done ignoring \"\\n\".\n",
      "Analysis is done ignoring \"\\n\".\n"
     ]
    },
    {
     "name": "stdout",
     "output_type": "stream",
     "text": [
      "error\n",
      "error\n"
     ]
    },
    {
     "name": "stderr",
     "output_type": "stream",
     "text": [
      "Analysis is done ignoring \"\\n\".\n",
      "Analysis is done ignoring \"\\n\".\n",
      "Analysis is done ignoring \"\\n\".\n",
      "Analysis is done ignoring \"\\n\".\n",
      "Analysis is done ignoring \"\\n\".\n"
     ]
    },
    {
     "name": "stdout",
     "output_type": "stream",
     "text": [
      "error\n"
     ]
    },
    {
     "name": "stderr",
     "output_type": "stream",
     "text": [
      "Analysis is done ignoring \"\\n\".\n",
      "Analysis is done ignoring \"\\n\".\n",
      "Analysis is done ignoring \"\\n\".\n",
      "Analysis is done ignoring \"\\n\".\n",
      "Analysis is done ignoring \"\\n\".\n",
      "Analysis is done ignoring \"\\n\".\n",
      "Analysis is done ignoring \"\\n\".\n",
      "Analysis is done ignoring \"\\n\".\n",
      "Analysis is done ignoring \"\\n\".\n",
      "Analysis is done ignoring \"\\n\".\n",
      "Analysis is done ignoring \"\\n\".\n",
      "Analysis is done ignoring \"\\n\".\n",
      "Analysis is done ignoring \"\\n\".\n",
      "Analysis is done ignoring \"\\n\".\n",
      "Analysis is done ignoring \"\\n\".\n",
      "Analysis is done ignoring \"\\n\".\n",
      "Analysis is done ignoring \"\\n\".\n",
      "Analysis is done ignoring \"\\n\".\n",
      "Analysis is done ignoring \"\\n\".\n",
      "Analysis is done ignoring \"\\n\".\n",
      "Analysis is done ignoring \"\\n\".\n",
      "Analysis is done ignoring \"\\n\".\n",
      "Analysis is done ignoring \"\\n\".\n",
      "Analysis is done ignoring \"\\n\".\n",
      "Analysis is done ignoring \"\\n\".\n",
      "Analysis is done ignoring \"\\n\".\n",
      "Analysis is done ignoring \"\\n\".\n",
      "Analysis is done ignoring \"\\n\".\n",
      "Analysis is done ignoring \"\\n\".\n",
      "Analysis is done ignoring \"\\n\".\n",
      "Analysis is done ignoring \"\\n\".\n",
      "Analysis is done ignoring \"\\n\".\n",
      "Analysis is done ignoring \"\\n\".\n",
      "Analysis is done ignoring \"\\n\".\n"
     ]
    },
    {
     "name": "stdout",
     "output_type": "stream",
     "text": [
      "error\n"
     ]
    },
    {
     "name": "stderr",
     "output_type": "stream",
     "text": [
      "Analysis is done ignoring \"\\n\".\n",
      "Analysis is done ignoring \"\\n\".\n",
      "Analysis is done ignoring \"\\n\".\n",
      "Analysis is done ignoring \"\\n\".\n",
      "Analysis is done ignoring \"\\n\".\n",
      "Analysis is done ignoring \"\\n\".\n",
      "Analysis is done ignoring \"\\n\".\n",
      "Analysis is done ignoring \"\\n\".\n",
      "Analysis is done ignoring \"\\n\".\n",
      "Analysis is done ignoring \"\\n\".\n"
     ]
    },
    {
     "name": "stdout",
     "output_type": "stream",
     "text": [
      "error\n"
     ]
    },
    {
     "name": "stderr",
     "output_type": "stream",
     "text": [
      "Analysis is done ignoring \"\\n\".\n",
      "Analysis is done ignoring \"\\n\".\n",
      "Analysis is done ignoring \"\\n\".\n",
      "Analysis is done ignoring \"\\n\".\n",
      "Analysis is done ignoring \"\\n\".\n",
      "Analysis is done ignoring \"\\n\".\n",
      "Analysis is done ignoring \"\\n\".\n",
      "Analysis is done ignoring \"\\n\".\n",
      "Analysis is done ignoring \"\\n\".\n"
     ]
    },
    {
     "name": "stdout",
     "output_type": "stream",
     "text": [
      "error\n"
     ]
    },
    {
     "name": "stderr",
     "output_type": "stream",
     "text": [
      "Analysis is done ignoring \"\\n\".\n",
      "Analysis is done ignoring \"\\n\".\n",
      "Analysis is done ignoring \"\\n\".\n",
      "Analysis is done ignoring \"\\n\".\n",
      "Analysis is done ignoring \"\\n\".\n",
      "Analysis is done ignoring \"\\n\".\n",
      "Analysis is done ignoring \"\\n\".\n",
      "Analysis is done ignoring \"\\n\".\n",
      "Analysis is done ignoring \"\\n\".\n",
      "Analysis is done ignoring \"\\n\".\n",
      "Analysis is done ignoring \"\\n\".\n",
      "Analysis is done ignoring \"\\n\".\n",
      "Analysis is done ignoring \"\\n\".\n",
      "Analysis is done ignoring \"\\n\".\n",
      "Analysis is done ignoring \"\\n\".\n",
      "Analysis is done ignoring \"\\n\".\n",
      "Analysis is done ignoring \"\\n\".\n",
      "Analysis is done ignoring \"\\n\".\n",
      "Analysis is done ignoring \"\\n\".\n",
      "Analysis is done ignoring \"\\n\".\n",
      "Analysis is done ignoring \"\\n\".\n",
      "Analysis is done ignoring \"\\n\".\n",
      "Analysis is done ignoring \"\\n\".\n",
      "Analysis is done ignoring \"\\n\".\n",
      "Analysis is done ignoring \"\\n\".\n",
      "Analysis is done ignoring \"\\n\".\n",
      "Analysis is done ignoring \"\\n\".\n"
     ]
    },
    {
     "name": "stdout",
     "output_type": "stream",
     "text": [
      "error\n"
     ]
    },
    {
     "name": "stderr",
     "output_type": "stream",
     "text": [
      "Analysis is done ignoring \"\\n\".\n",
      "Analysis is done ignoring \"\\n\".\n",
      "Analysis is done ignoring \"\\n\".\n",
      "Analysis is done ignoring \"\\n\".\n",
      "Analysis is done ignoring \"\\n\".\n",
      "Analysis is done ignoring \"\\n\".\n",
      "Analysis is done ignoring \"\\n\".\n",
      "Analysis is done ignoring \"\\n\".\n",
      "Analysis is done ignoring \"\\n\".\n",
      "Analysis is done ignoring \"\\n\".\n",
      "Analysis is done ignoring \"\\n\".\n",
      "Analysis is done ignoring \"\\n\".\n",
      "Analysis is done ignoring \"\\n\".\n",
      "Analysis is done ignoring \"\\n\".\n",
      "Analysis is done ignoring \"\\n\".\n",
      "Analysis is done ignoring \"\\n\".\n",
      "Analysis is done ignoring \"\\n\".\n"
     ]
    },
    {
     "name": "stdout",
     "output_type": "stream",
     "text": [
      "error\n"
     ]
    },
    {
     "name": "stderr",
     "output_type": "stream",
     "text": [
      "Analysis is done ignoring \"\\n\".\n",
      "Analysis is done ignoring \"\\n\".\n",
      "Analysis is done ignoring \"\\n\".\n",
      "Analysis is done ignoring \"\\n\".\n",
      "Analysis is done ignoring \"\\n\".\n",
      "Analysis is done ignoring \"\\n\".\n",
      "Analysis is done ignoring \"\\n\".\n",
      "Analysis is done ignoring \"\\n\".\n",
      "Analysis is done ignoring \"\\n\".\n",
      "Analysis is done ignoring \"\\n\".\n",
      "Analysis is done ignoring \"\\n\".\n"
     ]
    },
    {
     "name": "stdout",
     "output_type": "stream",
     "text": [
      "error\n"
     ]
    },
    {
     "name": "stderr",
     "output_type": "stream",
     "text": [
      "Analysis is done ignoring \"\\n\".\n",
      "Analysis is done ignoring \"\\n\".\n"
     ]
    },
    {
     "name": "stdout",
     "output_type": "stream",
     "text": [
      "error\n"
     ]
    },
    {
     "name": "stderr",
     "output_type": "stream",
     "text": [
      "Analysis is done ignoring \"\\n\".\n",
      "Analysis is done ignoring \"\\n\".\n",
      "Analysis is done ignoring \"\\n\".\n",
      "Analysis is done ignoring \"\\n\".\n",
      "Analysis is done ignoring \"\\n\".\n",
      "Analysis is done ignoring \"\\n\".\n",
      "Analysis is done ignoring \"\\n\".\n",
      "Analysis is done ignoring \"\\n\".\n",
      "Analysis is done ignoring \"\\n\".\n",
      "Analysis is done ignoring \"\\n\".\n",
      "Analysis is done ignoring \"\\n\".\n",
      "Analysis is done ignoring \"\\n\".\n",
      "Analysis is done ignoring \"\\n\".\n",
      "Analysis is done ignoring \"\\n\".\n",
      "Analysis is done ignoring \"\\n\".\n",
      "Analysis is done ignoring \"\\n\".\n",
      "Analysis is done ignoring \"\\n\".\n",
      "Analysis is done ignoring \"\\n\".\n",
      "Analysis is done ignoring \"\\n\".\n",
      "Analysis is done ignoring \"\\n\".\n"
     ]
    },
    {
     "name": "stdout",
     "output_type": "stream",
     "text": [
      "error\n"
     ]
    },
    {
     "name": "stderr",
     "output_type": "stream",
     "text": [
      "Analysis is done ignoring \"\\n\".\n",
      "Analysis is done ignoring \"\\n\".\n",
      "Analysis is done ignoring \"\\n\".\n",
      "Analysis is done ignoring \"\\n\".\n"
     ]
    },
    {
     "name": "stdout",
     "output_type": "stream",
     "text": [
      "\n"
     ]
    }
   ],
   "source": [
    "r.seed(0)\n",
    "group_cos_list = []\n",
    "for i in tqdm(range(1,13)):\n",
    "    for j in range(i,13):\n",
    "        idx_i = gender_data['label']==i\n",
    "        idx_j = gender_data['label']==j\n",
    "        M = 100\n",
    "        cnt=0\n",
    "        while(cnt<M):\n",
    "            text_i = r.choices(list(gender_data[idx_i][\"text\"]))[0]\n",
    "            text_j = r.choices(list(gender_data[idx_j][\"text\"]))[0]\n",
    "            try:\n",
    "                token_i = Tokenizer.tokenize(text_i)\n",
    "                token_j = Tokenizer.tokenize(text_j)\n",
    "            except:\n",
    "                print(\"error\")\n",
    "                continue\n",
    "            with torch.no_grad():\n",
    "                vector_i, _ = model(token_i)\n",
    "                vector_j, _ = model(token_j)\n",
    "            sim = cos_sim(vector_i.mean(axis=1)[0], vector_j.mean(axis=1)[0])\n",
    "            group_cos_list.append([sim, i, j])\n",
    "            cnt += 1"
   ]
  },
  {
   "cell_type": "code",
   "execution_count": 16,
   "metadata": {},
   "outputs": [
    {
     "name": "stderr",
     "output_type": "stream",
     "text": [
      "/opt/anaconda3/lib/python3.7/site-packages/ipykernel_launcher.py:10: MatplotlibDeprecationWarning: Adding an axes using the same arguments as a previous axes currently reuses the earlier instance.  In a future version, a new instance will always be created and returned.  Meanwhile, this warning can be suppressed, and the future behavior ensured, by passing a unique label to each axes instance.\n",
      "  # Remove the CWD from sys.path while we load stuff.\n",
      "/opt/anaconda3/lib/python3.7/site-packages/ipykernel_launcher.py:12: MatplotlibDeprecationWarning: \n",
      "The 'normed' kwarg was deprecated in Matplotlib 2.1 and will be removed in 3.1. Use 'density' instead.\n",
      "  if sys.path[0] == '':\n"
     ]
    },
    {
     "name": "stdout",
     "output_type": "stream",
     "text": [
      "[[0.74881639 0.75235294 0.7439667  0.75198022 0.73485942 0.7343169\n",
      "  0.72698741 0.72057008 0.72982297 0.72652204 0.7220113  0.71788982]\n",
      " [0.75235294 0.74777722 0.75212287 0.76302478 0.76101098 0.74613394\n",
      "  0.72173528 0.73314344 0.74322728 0.73386976 0.73606764 0.72609866]\n",
      " [0.7439667  0.75212287 0.75846976 0.74744166 0.75528071 0.75367511\n",
      "  0.73909525 0.73724052 0.73472181 0.73804998 0.7340577  0.72610166]\n",
      " [0.75198022 0.76302478 0.74744166 0.76193717 0.74755916 0.74970421\n",
      "  0.72247525 0.74038481 0.73852644 0.73756373 0.73212147 0.71499385]\n",
      " [0.73485942 0.76101098 0.75528071 0.74755916 0.75711559 0.74469206\n",
      "  0.725528   0.72448058 0.75048182 0.75212156 0.75053206 0.72245447]\n",
      " [0.7343169  0.74613394 0.75367511 0.74970421 0.74469206 0.7301313\n",
      "  0.72651468 0.73074348 0.7256725  0.72855554 0.71843638 0.72440432]\n",
      " [0.72698741 0.72173528 0.73909525 0.72247525 0.725528   0.72651468\n",
      "  0.73372847 0.70342558 0.72190735 0.72547791 0.69611963 0.70541614]\n",
      " [0.72057008 0.73314344 0.73724052 0.74038481 0.72448058 0.73074348\n",
      "  0.70342558 0.72077094 0.71989948 0.72217678 0.71640246 0.70647633]\n",
      " [0.72982297 0.74322728 0.73472181 0.73852644 0.75048182 0.7256725\n",
      "  0.72190735 0.71989948 0.74332584 0.72603811 0.72623665 0.70082377]\n",
      " [0.72652204 0.73386976 0.73804998 0.73756373 0.75212156 0.72855554\n",
      "  0.72547791 0.72217678 0.72603811 0.74850132 0.7185903  0.71566978]\n",
      " [0.7220113  0.73606764 0.7340577  0.73212147 0.75053206 0.71843638\n",
      "  0.69611963 0.71640246 0.72623665 0.7185903  0.7152979  0.71824208]\n",
      " [0.71788982 0.72609866 0.72610166 0.71499385 0.72245447 0.72440432\n",
      "  0.70541614 0.70647633 0.70082377 0.71566978 0.71824208 0.70910473]]\n"
     ]
    },
    {
     "data": {
      "image/png": "[encoded data removed]",
      "text/plain": [
       "<Figure size 1800x1800 with 78 Axes>"
      ]
     },
     "metadata": {
      "needs_background": "light"
     },
     "output_type": "display_data"
    }
   ],
   "source": [
    "fig = plt.figure(figsize=(25, 25))\n",
    "plt.subplots_adjust(hspace=0.3,wspace=0.3)\n",
    "gs = gridspec.GridSpec(12, 12)\n",
    "g = np.array(group_cos_list)\n",
    "mat = np.zeros((12,12))\n",
    "\n",
    "for i in range(12):\n",
    "    for j in range(i,12):\n",
    "        ax = fig.add_subplot(gs[i,j])\n",
    "        plt.subplot(gs[i,j])\n",
    "        idx = (g.T[1]==(i+1))*(g.T[2]==(j+1))\n",
    "        ax.hist(g.T[0][idx], bins=20, normed=True)\n",
    "        mat[i][j] = np.mean(g.T[0][idx])\n",
    "        mat[j][i] = mat[i][j]\n",
    "\n",
    "fig.suptitle('Histogram for BERT', fontsize=30)\n",
    "print(mat)"
   ]
  },
  {
   "cell_type": "code",
   "execution_count": 17,
   "metadata": {},
   "outputs": [
    {
     "data": {
      "image/png": "[encoded data removed]",
      "text/plain": [
       "<Figure size 1080x864 with 2 Axes>"
      ]
     },
     "metadata": {
      "needs_background": "light"
     },
     "output_type": "display_data"
    }
   ],
   "source": [
    "import seaborn as sns\n",
    "plt.figure(figsize=(15, 12))\n",
    "sns.heatmap(mat, annot=True, fmt=\"f\", cmap='hot')\n",
    "plt.xticks(np.array(range(12))+0.5, np.array(range(1,13)))\n",
    "plt.yticks(np.array(range(12))+0.5, np.array(range(1,13)))\n",
    "plt.ylim(mat.shape[0],0)\n",
    "plt.title('Heatmap of Cosine similarity with BERT', fontsize=20)\n",
    "plt.savefig(\"heat_BERT.eps\")"
   ]
  },
  {
   "cell_type": "code",
   "execution_count": 18,
   "metadata": {},
   "outputs": [
    {
     "data": {
      "text/plain": [
       "Text(0.5, 1, 'Heatmap of Estimated Hawkes rate $\\\\hat{\\\\rho}$')"
      ]
     },
     "execution_count": 18,
     "metadata": {},
     "output_type": "execute_result"
    },
    {
     "data": {
      "image/png": "[encoded data removed]",
      "text/plain": [
       "<Figure size 1080x864 with 2 Axes>"
      ]
     },
     "metadata": {
      "needs_background": "light"
     },
     "output_type": "display_data"
    }
   ],
   "source": [
    "est_pass = '2ndQMLE_res_gender_over400_12.csv' # estimated rho\n",
    "est = pd.read_csv(est_pass)['0']\n",
    "dim=12\n",
    "est_mu = np.array(est[:dim])\n",
    "est_alpha = np.array(est[dim:(dim+dim**2)]).reshape((dim, dim))\n",
    "est_beta = np.array(est[(dim+dim**2):]).reshape((dim, dim))\n",
    "est_rho = est_alpha/est_beta\n",
    "\n",
    "plt.figure(figsize=(15, 12))\n",
    "sns.heatmap(est_rho, annot=True, fmt=\"f\", cmap='hot')\n",
    "plt.xticks(np.array(range(12))+0.5, np.array(range(1,13)))\n",
    "plt.yticks(np.array(range(12))+0.5, np.array(range(1,13)))\n",
    "plt.ylim(est_rho.shape[0],0)\n",
    "plt.xlabel('j', fontsize=15)\n",
    "plt.ylabel('i', fontsize=15)\n",
    "plt.title('Heatmap of Estimated Hawkes rate' + r' $\\hat{\\rho}$', fontsize=20)"
   ]
  },
  {
   "cell_type": "markdown",
   "metadata": {},
   "source": [
    "## Calculating Spearman's rank correlation coefficient\n",
    "\n",
    "\\begin{align*}\n",
    "Spearman(X, Y) = 1 - \\frac{6\\sum_{i=1}^ND^2}{N(N^2-1)}\n",
    "\\end{align*}\n",
    "\n",
    "$D=$ The difference in rank between the corresponding X and Y values\n",
    "\n",
    "$N=$ Number of pairs of values"
   ]
  },
  {
   "cell_type": "code",
   "execution_count": 21,
   "metadata": {},
   "outputs": [
    {
     "data": {
      "text/plain": [
       "SpearmanrResult(correlation=0.4687916236268972, pvalue=3.1039122510041176e-09)"
      ]
     },
     "execution_count": 21,
     "metadata": {},
     "output_type": "execute_result"
    }
   ],
   "source": [
    "from scipy.stats import spearmanr\n",
    "spearmanr(mat.flatten(),sym_rho.flatten())"
   ]
  },
  {
   "cell_type": "code",
   "execution_count": 24,
   "metadata": {},
   "outputs": [
    {
     "data": {
      "text/plain": [
       "SpearmanrResult(correlation=0.427768491666327, pvalue=8.903391444249504e-08)"
      ]
     },
     "execution_count": 24,
     "metadata": {},
     "output_type": "execute_result"
    }
   ],
   "source": [
    "spearmanr(mat.flatten(),est_rho.flatten())"
   ]
  }
 ],
 "metadata": {
  "kernelspec": {
   "display_name": "Python 3",
   "language": "python",
   "name": "python3"
  },
  "language_info": {
   "codemirror_mode": {
    "name": "ipython",
    "version": 3
   },
   "file_extension": ".py",
   "mimetype": "text/x-python",
   "name": "python",
   "nbconvert_exporter": "python",
   "pygments_lexer": "ipython3",
   "version": "3.7.4"
  },
  "latex_envs": {
   "LaTeX_envs_menu_present": true,
   "autoclose": false,
   "autocomplete": true,
   "bibliofile": "biblio.bib",
   "cite_by": "apalike",
   "current_citInitial": 1,
   "eqLabelWithNumbers": true,
   "eqNumInitial": 1,
   "hotkeys": {
    "equation": "Ctrl-E",
    "itemize": "Ctrl-I"
   },
   "labels_anchors": false,
   "latex_user_defs": false,
   "report_style_numbering": false,
   "user_envs_cfg": false
  }
 },
 "nbformat": 4,
 "nbformat_minor": 2
}
