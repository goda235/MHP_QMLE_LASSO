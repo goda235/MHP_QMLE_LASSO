{
 "cells": [
  {
   "cell_type": "markdown",
   "metadata": {},
   "source": [
    "# 3-dim Sparse multivariate Hawkes simulation (asymptotic normal)"
   ]
  },
  {
   "cell_type": "markdown",
   "metadata": {},
   "source": [
    "# Setting\n",
    "Load the necessary libraries"
   ]
  },
  {
   "cell_type": "code",
   "execution_count": 1,
   "metadata": {},
   "outputs": [],
   "source": [
    "import random as r\n",
    "import matplotlib.pyplot as plt\n",
    "import matplotlib.gridspec as gridspec\n",
    "import numpy as np\n",
    "import numpy.linalg as LA\n",
    "import pandas as pd\n",
    "from scipy import optimize\n",
    "from scipy.stats import norm\n",
    "from tqdm.notebook import tqdm\n",
    "import itertools"
   ]
  },
  {
   "cell_type": "markdown",
   "metadata": {},
   "source": [
    "Define a simulator."
   ]
  },
  {
   "cell_type": "code",
   "execution_count": 2,
   "metadata": {
    "code_folding": [
     3,
     13,
     49
    ]
   },
   "outputs": [],
   "source": [
    "## Define the function X\n",
    "## X_new = exp{-beta*s} * X_old\n",
    "## s : time interarrival, X : each old intensity component\n",
    "def X_gene(s, X, params):\n",
    "    beta = params[2]\n",
    "    X = np.exp((-s)*beta) * X\n",
    "    return X\n",
    "\n",
    "############################################################################\n",
    "############################################################################\n",
    "\n",
    "## Simulate Hawkes time series\n",
    "\n",
    "def simulate_mlt_hawkes(params, t_max):\n",
    "    mu = params[0]\n",
    "    alpha = params[1]\n",
    "    beta = params[2]\n",
    "    x = params[3]\n",
    "    dim = len(mu)\n",
    "\n",
    "    # each jump times (t_{i,0} = 0 for all i)\n",
    "    arrivals = np.array([[0,1]])\n",
    "    for i in range(1,dim):\n",
    "        arrivals = np.append(arrivals, np.array([[0,i+1]]), axis=0)\n",
    "\n",
    "    s = 0 # time interarrival\n",
    "    t = 0 # jump time\n",
    "\n",
    "    ### Case: a first jump\n",
    "    # Calculate now intensity at t = 0\n",
    "    # and consider the 1-dim P.P. with intensity lambda_bar\n",
    "    lambda_bar = np.sum(mu + x)\n",
    "    s = -np.log(r.random())/lambda_bar\n",
    "    t = t + s\n",
    "    if t>t_max:\n",
    "        for i in range(dim):\n",
    "            arrivals = np.append(arrivals, np.array([[t_max,i+1]]), axis=0)\n",
    "        return arrivals\n",
    "\n",
    "    # Define X for calculating now intensity\n",
    "    rho = ((alpha/beta).T/np.sum(alpha/beta, axis=1)).T\n",
    "    X = (rho.T*x).T\n",
    "    X = X_gene(s, X, params)\n",
    "    # calculate now intensity at t = s-\n",
    "    intensity = mu + np.sum(X, axis=1)\n",
    "\n",
    "    ## Searching for which dimension a jump is occuring in\n",
    "    D = r.random()\n",
    "    cum_lambda = np.sum(intensity)\n",
    "    if D*lambda_bar<cum_lambda:\n",
    "        # Searching for the first k such that D*lambda <= cum_lambda_k\n",
    "        k = 1\n",
    "        cum_lambda_k = np.sum(intensity[:k])\n",
    "        while D*lambda_bar>cum_lambda_k:\n",
    "            k += 1\n",
    "            cum_lambda_k = np.sum(intensity[:k])\n",
    "        arrivals = np.append(arrivals, np.array([[t,k]]), axis=0)\n",
    "    else:# there are no jumps\n",
    "        k = 0\n",
    "\n",
    "    ### Case: other jumps\n",
    "    while t < t_max:\n",
    "        # Calculate now intensity at t = t+\n",
    "        # and consider the 1-dim P.P. with intensity lambda_bar\n",
    "        if k!=0:\n",
    "            X[:,k-1] = X[:,k-1] + alpha[:,k-1]\n",
    "\n",
    "        lambda_bar = np.sum(mu + np.sum(X, axis=1))\n",
    "        s = -np.log(r.random())/lambda_bar\n",
    "        t = t + s\n",
    "\n",
    "        if t > t_max:\n",
    "            for i in range(dim):\n",
    "                arrivals = np.append(arrivals, np.array([[t_max,i+1]]), axis=0)\n",
    "            return arrivals\n",
    "\n",
    "        # calculate now intensity at t = t + s-\n",
    "        X = X_gene(s, X, params)\n",
    "        intensity = mu + np.sum(X, axis=1)\n",
    "\n",
    "        ## Searching for which dimension a jump is occuring in\n",
    "        D = r.random()\n",
    "        cum_lambda = np.sum(intensity)\n",
    "        if D*lambda_bar<cum_lambda:\n",
    "            # Searching for the first k such that D*lambda <= cum_lambda_k\n",
    "            k = 1\n",
    "            cum_lambda_k = np.sum(intensity[:k])\n",
    "            while D*lambda_bar>cum_lambda_k:\n",
    "                k += 1\n",
    "                cum_lambda_k = np.sum(intensity[:k])\n",
    "            arrivals = np.append(arrivals, np.array([[t,k]]), axis=0)\n",
    "        else:# there are no jumps\n",
    "            k = 0\n",
    "\n",
    "    for i in range(dim):\n",
    "        arrivals = np.append(arrivals, np.array([[t_max,i+1]]), axis=0)\n",
    "\n",
    "    return arrivals"
   ]
  },
  {
   "cell_type": "markdown",
   "metadata": {},
   "source": [
    "Defines a function to compute the intensity."
   ]
  },
  {
   "cell_type": "code",
   "execution_count": 3,
   "metadata": {
    "code_folding": [
     2
    ]
   },
   "outputs": [],
   "source": [
    "##　Generate Path of intensity\n",
    "\n",
    "def intensity(params, arrivals, delta):\n",
    "    mu = params[0]\n",
    "    alpha = params[1]\n",
    "    beta = params[2]\n",
    "    x = params[3]\n",
    "    dim = len(mu)\n",
    "\n",
    "    # Intensity seq\n",
    "    intensity = np.array([[(mu+x)[0], 0, 1]]) # [intensity, time, dim]\n",
    "    if dim > 1:\n",
    "        for i in range(1,dim):\n",
    "            intensity = np.append(intensity, [[(mu+x)[i], 0, i+1]], axis=0)\n",
    "\n",
    "    # 最初のintervalはXを所与の初期値から計算する\n",
    "    rho = ((alpha/beta).T/np.sum(alpha/beta, axis=1)).T\n",
    "    X = (rho.T*x).T\n",
    "\n",
    "    # 最初と最後は打点がdim個だけ被っているため，取り除いて考える\n",
    "    for i in range(dim-1, len(arrivals)-(dim-1)-1):\n",
    "        # intervalを間隔deltaで刻む\n",
    "        t_seq = np.arange(arrivals[i][0], arrivals[i+1][0], delta)\n",
    "\n",
    "        # intensityを計算\n",
    "        for k in range(len(t_seq)):\n",
    "            X_now = X_gene(t_seq[k]-arrivals[i][0], X, params)\n",
    "            intensity = np.append(intensity,\n",
    "                            np.array([\n",
    "                                mu + np.sum(X_now, axis=1),\n",
    "                                np.repeat(t_seq[k], dim),\n",
    "                                range(1,dim+1)\n",
    "                                ]).T,\n",
    "                            axis=0)\n",
    "        # seqで間引かれるため，最後の点は別途計算\n",
    "        X = X_gene(arrivals[i+1][0]-arrivals[i][0], X, params)\n",
    "        intensity = np.append(intensity,\n",
    "                        np.array([\n",
    "                            mu + np.sum(X_now, axis=1),\n",
    "                            np.repeat(arrivals[i+1][0], dim),\n",
    "                            range(1,dim+1)\n",
    "                        ]).T,\n",
    "                        axis=0)\n",
    "\n",
    "        # Xの更新\n",
    "        X[:,int(arrivals[i][1]-1)] = X[:,int(arrivals[i][1]-1)] + alpha[:,int(arrivals[i][1]-1)]\n",
    "\n",
    "    return(intensity)"
   ]
  },
  {
   "cell_type": "markdown",
   "metadata": {},
   "source": [
    "Defines a function that plots the simulation results."
   ]
  },
  {
   "cell_type": "code",
   "execution_count": 4,
   "metadata": {
    "code_folding": [
     2
    ]
   },
   "outputs": [],
   "source": [
    "# Simulate and Plot\n",
    "\n",
    "def Hawkes_plot(arrivals, params, t_max, delta):\n",
    "    mu = params[0]\n",
    "    alpha = params[1]\n",
    "    beta = params[2]\n",
    "\n",
    "    # plot用の画面分割\n",
    "    dim = len(params[0])\n",
    "    fig = plt.figure(figsize=(20, 8))\n",
    "    plt.subplots_adjust(hspace=0,wspace=0.3)\n",
    "    gs = gridspec.GridSpec(2,dim)\n",
    "\n",
    "    # Simulation p.p.\n",
    "    t = arrivals\n",
    "\n",
    "    # Simulation intensity\n",
    "    l = intensity(params, t, delta)\n",
    "\n",
    "    for i in range(dim):\n",
    "        #print(\"dimension\", end=\": \")\n",
    "        #print(i+1)\n",
    "\n",
    "        time = t[t.T[:][1]==i+1]\n",
    "        time = time.T[:][0]\n",
    "        #print(\"t\", end=\"= \")\n",
    "        #print(time)\n",
    "\n",
    "        N = np.append(np.array(range(len(time)-1)), len(time)-2)\n",
    "        #print(\"N_t\", end=\"= \")\n",
    "        #print(N)\n",
    "\n",
    "        ax = fig.add_subplot(gs[0,i])\n",
    "        plt.subplot(gs[0,i])\n",
    "        ax.plot(time, N,  color='red', drawstyle='steps-post')\n",
    "        plt.ylabel(\"$N^{%d}_t$\" %(i+1), fontsize=15)\n",
    "        ax.grid()\n",
    "\n",
    "        lambda_i = l[l.T[:][2]==i+1]\n",
    "        time = lambda_i.T[:][1]\n",
    "        lambda_i = lambda_i.T[:][0]\n",
    "\n",
    "        ax = fig.add_subplot(gs[1,i])\n",
    "        plt.subplot(gs[1,i])\n",
    "        ax.plot(time, lambda_i,  color='blue')\n",
    "        ax.axhline(mu[i], ls = \"-.\", color = \"magenta\")\n",
    "        plt.ylabel(\"$\\lambda^{%d}_t$\" %(i+1), fontsize=15)\n",
    "        plt.xlabel(\"$t$\", fontsize=15)\n",
    "        ax.grid()\n",
    "\n",
    "    fig.suptitle('Exp Hawkes Simulation', fontsize=20)"
   ]
  },
  {
   "cell_type": "markdown",
   "metadata": {},
   "source": [
    "Defines a quasi log-likelihood process. (The return value is minus.)"
   ]
  },
  {
   "cell_type": "code",
   "execution_count": 5,
   "metadata": {
    "code_folding": [
     0,
     9,
     40
    ]
   },
   "outputs": [],
   "source": [
    "def kernel(t, s, i, j, params):\n",
    "    dim = int((np.sqrt(8*len(params)+1)-1)/4)\n",
    "    beta = np.array(params[(dim+dim**2):]).reshape((dim, dim))\n",
    "    kernel = np.exp(-beta[i][j]*(t - s))\n",
    "    return kernel\n",
    "\n",
    "## Log-Likelihoodを-1倍したもの\n",
    "## 試しにmuについてepsilpn(T)=1.e-10/t_amxだけ加える\n",
    "## param：一次元配列\n",
    "def loglik(params, arrivals):\n",
    "    dim = int((np.sqrt(8*len(params)+1)-1)/4)\n",
    "    mu = np.array(params[:dim])\n",
    "    alpha = np.array(params[dim:(dim+dim**2)]).reshape((dim, dim))\n",
    "    beta = np.array(params[(dim+dim**2):]).reshape((dim, dim))\n",
    "    t_max = arrivals[-1][0]\n",
    "    \n",
    "    ep = 1/t_max**2\n",
    "    mu = mu + ep \n",
    "\n",
    "    loglik = []\n",
    "    time = []\n",
    "\n",
    "    # dim iのジャンプ時刻(0とt_maxは除く)\n",
    "    for i in range(dim):\n",
    "        time.append((arrivals[arrivals.T[:][1] == i+1]).T[:][0][1:])\n",
    "\n",
    "    # loglik_iを計算していく\n",
    "    for i in range(dim):\n",
    "        Ai = 0 # log( intensity^i_{t[i][z]} ) = log( mu[i] + sum_{j=1 ...,dim} sum_{k : t[i][z] > t[j][k]} alpha[i][j]*exp(-beta[i][j]*(t[i][z]-t[j][k])) )\n",
    "        Bi = 0 # sum_{k=0,...,t[j][-1]} (alpha[i][j]/beta[i][j])*(exp(-beta[i][j]*(t_max-t[j][k])) -1)\n",
    "        for z in range(len(time[i]))[:-1]:\n",
    "            intensity = mu[i]\n",
    "            for j in range(dim):\n",
    "                intensity += alpha[i][j]*np.sum(kernel(time[i][z], time[j][time[j][:]<time[i][z]] ,i ,j, params))\n",
    "            Ai += np.log(intensity)\n",
    "        for j in range(dim):\n",
    "            Bi += (-1)*(alpha[i][j]/beta[i][j])*np.sum(kernel(t_max, time[j][:-1] ,i , j, params)-1)\n",
    "        loglik.append( Ai - ( mu[i]*t_max + Bi ))\n",
    "    return ((-1)*np.sum(loglik))\n",
    "\n",
    "def Lasso_loglik(params, arrivals, gamma=0.5):\n",
    "    dim = int((np.sqrt(8*len(params)+1)-1)/4)\n",
    "    mu = np.array(params[:dim])\n",
    "    alpha = np.array(params[dim:(dim+dim**2)]).reshape((dim, dim))\n",
    "    beta = np.array(params[(dim+dim**2):]).reshape((dim, dim))\n",
    "    t_max = arrivals[-1][0]\n",
    "    \n",
    "    ep = 1/t_max**2\n",
    "    mu = mu + ep \n",
    "\n",
    "    loglik = []\n",
    "    time = []\n",
    "\n",
    "    # dim iのジャンプ時刻(0とt_maxは除く)\n",
    "    for i in range(dim):\n",
    "        time.append((arrivals[arrivals.T[:][1] == i+1]).T[:][0][1:])\n",
    "\n",
    "    # loglik_iを計算していく\n",
    "    for i in range(dim):\n",
    "        Ai = 0 # log( intensity^i_{t[i][z]} ) = log( mu[i] + sum_{j=1 ...,dim} sum_{k : t[i][z] > t[j][k]} alpha[i][j]*exp(-beta[i][j]*(t[i][z]-t[j][k])) )\n",
    "        Bi = 0 # sum_{k=0,...,t[j][-1]} (alpha[i][j]/beta[i][j])*(exp(-beta[i][j]*(t_max-t[j][k])) -1)\n",
    "\n",
    "        for z in range(len(time[i]))[:-1]:\n",
    "            intensity = mu[i]\n",
    "            for j in range(dim):\n",
    "                intensity += alpha[i][j]*np.sum(kernel(time[i][z], time[j][time[j][:]<time[i][z]] ,i ,j, params))\n",
    "            Ai += np.log(intensity)\n",
    "            \n",
    "        for j in range(dim):\n",
    "            Bi += (-1)*(alpha[i][j]/beta[i][j])*np.sum(kernel(t_max, time[j][:-1] ,i , j, params)-1)\n",
    "\n",
    "        loglik.append( Ai - ( mu[i]*t_max + Bi ))\n",
    "        \n",
    "    return ((-1)*np.sum(loglik) + gamma*np.sqrt(t_max)*np.sum(np.array(params[:(dim+dim**2)])))"
   ]
  },
  {
   "cell_type": "markdown",
   "metadata": {},
   "source": [
    "Defines a function that displays the estimation results in an easy-to-read format."
   ]
  },
  {
   "cell_type": "code",
   "execution_count": 6,
   "metadata": {
    "code_folding": [
     0,
     9
    ]
   },
   "outputs": [],
   "source": [
    "def result_show(res, round=3, result_show = True):\n",
    "    np.set_printoptions(suppress=True)\n",
    "    mle = np.round(res.x, round)\n",
    "    dim = int((np.sqrt(8*len(mle)+1)-1)/4)\n",
    "\n",
    "    mu = np.array(mle[:dim])\n",
    "    alpha = np.array(mle[dim:(dim+dim**2)]).reshape((dim, dim))\n",
    "    beta = np.array(mle[(dim+dim**2):]).reshape((dim, dim))\n",
    "\n",
    "    if(result_show):\n",
    "        print(\"mu: \")\n",
    "        print(mu)\n",
    "\n",
    "        print(\"alpha: \")\n",
    "        print(alpha)\n",
    "\n",
    "        print(\"beta: \")\n",
    "        print(beta)\n",
    "\n",
    "        print(\"alpha/beta: \")\n",
    "        print(alpha/beta)\n",
    "\n",
    "    x = np.repeat(0, dim)\n",
    "\n",
    "    mle_orig = list([mu, alpha, beta, x])\n",
    "\n",
    "    return mle_orig"
   ]
  },
  {
   "cell_type": "markdown",
   "metadata": {},
   "source": [
    "# SImulation"
   ]
  },
  {
   "cell_type": "code",
   "execution_count": 7,
   "metadata": {},
   "outputs": [
    {
     "name": "stdout",
     "output_type": "stream",
     "text": [
      "Spectral radius: 0.8400968443520824\n"
     ]
    }
   ],
   "source": [
    "## Parameters\n",
    "mu = np.array([0.1, 0., 0.1])\n",
    "alpha = np.array([\n",
    "    [0., 0.2, 0.2],\n",
    "    [0.4, 0.2, 0.],\n",
    "    [0., 0., 0.3],\n",
    "    ])\n",
    "beta = np.array([\n",
    "    [1., 0.4, 0.4],\n",
    "    [0.7, 0.4, 1.],\n",
    "    [1., 1., 0.5],\n",
    "    ])\n",
    "x = np.array([0, 0, 0])\n",
    "\n",
    "params_org = list([mu, alpha, beta, x])\n",
    "\n",
    "## alpha/betaのスペクトル半径，1以下でないと発散\n",
    "print(\"Spectral radius\", end=\": \")\n",
    "print(max(abs(LA.eig(alpha/beta)[0])))\n",
    "\n",
    "## End time\n",
    "t_max = 100\n",
    "\n",
    "## Define delta for plot the intensity\n",
    "n = 1000\n",
    "delta = t_max/n"
   ]
  },
  {
   "cell_type": "code",
   "execution_count": 8,
   "metadata": {},
   "outputs": [
    {
     "name": "stderr",
     "output_type": "stream",
     "text": [
      "/opt/anaconda3/lib/python3.7/site-packages/ipykernel_launcher.py:34: MatplotlibDeprecationWarning: Adding an axes using the same arguments as a previous axes currently reuses the earlier instance.  In a future version, a new instance will always be created and returned.  Meanwhile, this warning can be suppressed, and the future behavior ensured, by passing a unique label to each axes instance.\n",
      "/opt/anaconda3/lib/python3.7/site-packages/ipykernel_launcher.py:44: MatplotlibDeprecationWarning: Adding an axes using the same arguments as a previous axes currently reuses the earlier instance.  In a future version, a new instance will always be created and returned.  Meanwhile, this warning can be suppressed, and the future behavior ensured, by passing a unique label to each axes instance.\n"
     ]
    },
    {
     "data": {
      "image/png": "[encoded data removed]",
      "text/plain": [
       "<Figure size 1440x576 with 6 Axes>"
      ]
     },
     "metadata": {
      "needs_background": "light"
     },
     "output_type": "display_data"
    }
   ],
   "source": [
    "## Simulate!\n",
    "r.seed(0)\n",
    "arrivals = simulate_mlt_hawkes(params_org, t_max)\n",
    "Hawkes_plot(arrivals, params_org, t_max, delta)\n",
    "plt.savefig(\"3-dim_simulation.eps\")"
   ]
  },
  {
   "cell_type": "markdown",
   "metadata": {},
   "source": [
    "# Monte Carlo Simulation"
   ]
  },
  {
   "cell_type": "code",
   "execution_count": 9,
   "metadata": {
    "code_folding": []
   },
   "outputs": [
    {
     "name": "stdout",
     "output_type": "stream",
     "text": [
      "Spectral radius: 0.8400968443520824\n"
     ]
    }
   ],
   "source": [
    "## Parameters\n",
    "mu = np.array([0.1, 0., 0.1])\n",
    "alpha = np.array([\n",
    "    [0., 0.2, 0.2],\n",
    "    [0.4, 0.2, 0.],\n",
    "    [0., 0., 0.3],\n",
    "    ])\n",
    "beta = np.array([\n",
    "    [1., 0.4, 0.4],\n",
    "    [0.7, 0.4, 1.],\n",
    "    [1., 1., 0.5],\n",
    "    ])\n",
    "x = np.array([0, 0, 0])\n",
    "\n",
    "params_org = list([mu, alpha, beta, x])\n",
    "\n",
    "## alpha/betaのスペクトル半径，1以下でないと発散\n",
    "print(\"Spectral radius\", end=\": \")\n",
    "print(max(abs(LA.eig(alpha/beta)[0])))\n",
    "\n",
    "## End time\n",
    "t_max = 1000"
   ]
  },
  {
   "cell_type": "code",
   "execution_count": 10,
   "metadata": {
    "code_folding": []
   },
   "outputs": [],
   "source": [
    "## optimの設定 : optimを使うためには１次元配列で渡さなくてはならない．悲しみ．\n",
    "params = mu.reshape(1, -1).tolist()[0]\n",
    "params[len(params):len(params)] = alpha.reshape(1, -1).tolist()[0]\n",
    "params[len(params):len(params)] = beta.reshape(1, -1).tolist()[0]\n",
    "dim = int((np.sqrt(8*len(params)+1)-1)/4)\n",
    "params_num = dim+2*dim**2\n",
    "pd.DataFrame(params).to_csv(\"true_params_for_3d_simu.csv\")"
   ]
  },
  {
   "cell_type": "code",
   "execution_count": 11,
   "metadata": {},
   "outputs": [],
   "source": [
    "#探索範囲\n",
    "low_bd = [0]*(dim)\n",
    "low_bd[len(low_bd):len(low_bd)] = [0]*(dim**2)\n",
    "low_bd[len(low_bd):len(low_bd)] = [1.e-5]*(dim**2)\n",
    "up_bd = [1.e+4]*params_num\n",
    "bounds = optimize.Bounds(low_bd, up_bd)\n",
    "#推定回数\n",
    "M = 300"
   ]
  },
  {
   "cell_type": "markdown",
   "metadata": {},
   "source": [
    "## Create Sample Data"
   ]
  },
  {
   "cell_type": "code",
   "execution_count": 12,
   "metadata": {},
   "outputs": [
    {
     "data": {
      "application/vnd.jupyter.widget-view+json": {
       "model_id": "1b7165fd27694fd099b3c30c2b01efd5",
       "version_major": 2,
       "version_minor": 0
      },
      "text/plain": [
       "HBox(children=(IntProgress(value=0, max=300), HTML(value='')))"
      ]
     },
     "metadata": {},
     "output_type": "display_data"
    },
    {
     "name": "stdout",
     "output_type": "stream",
     "text": [
      "\n"
     ]
    }
   ],
   "source": [
    "r.seed(0)\n",
    "arrivals = []\n",
    "for i in tqdm(range(M)):\n",
    "    arrivals.append(simulate_mlt_hawkes(params_org, t_max))"
   ]
  },
  {
   "cell_type": "markdown",
   "metadata": {},
   "source": [
    "## QMLE"
   ]
  },
  {
   "cell_type": "code",
   "execution_count": 13,
   "metadata": {
    "code_folding": [],
    "scrolled": true
   },
   "outputs": [
    {
     "data": {
      "application/vnd.jupyter.widget-view+json": {
       "model_id": "02361ce4e4974937a7feaa9700b8da72",
       "version_major": 2,
       "version_minor": 0
      },
      "text/plain": [
       "HBox(children=(IntProgress(value=0, max=300), HTML(value='')))"
      ]
     },
     "metadata": {},
     "output_type": "display_data"
    },
    {
     "name": "stdout",
     "output_type": "stream",
     "text": [
      "\n"
     ]
    }
   ],
   "source": [
    "## MLEをM個格納する入れ物\n",
    "mu_list_QMLE = []\n",
    "alpha_list_QMLE = []\n",
    "beta_list_QMLE = []\n",
    "\n",
    "## MLEをM回計算\n",
    "for i in tqdm(range(M)):\n",
    "    res = optimize.minimize(fun=loglik, x0=np.array(params), args=arrivals[i], method='L-BFGS-B', bounds=bounds)\n",
    "    mle = result_show(res, round=8, result_show = False)\n",
    "    mu_list_QMLE.append((np.sqrt(t_max)*(mle[0]-mu)).tolist())\n",
    "    alpha_list_QMLE.append((np.sqrt(t_max)*(mle[1]-alpha)).tolist())\n",
    "    beta_list_QMLE.append((np.sqrt(t_max)*(mle[2]-beta)).tolist())"
   ]
  },
  {
   "cell_type": "markdown",
   "metadata": {},
   "source": [
    "Histogram."
   ]
  },
  {
   "cell_type": "code",
   "execution_count": 14,
   "metadata": {
    "code_folding": []
   },
   "outputs": [
    {
     "name": "stderr",
     "output_type": "stream",
     "text": [
      "/opt/anaconda3/lib/python3.7/site-packages/ipykernel_launcher.py:7: MatplotlibDeprecationWarning: Adding an axes using the same arguments as a previous axes currently reuses the earlier instance.  In a future version, a new instance will always be created and returned.  Meanwhile, this warning can be suppressed, and the future behavior ensured, by passing a unique label to each axes instance.\n",
      "  import sys\n",
      "/opt/anaconda3/lib/python3.7/site-packages/ipykernel_launcher.py:17: MatplotlibDeprecationWarning: Adding an axes using the same arguments as a previous axes currently reuses the earlier instance.  In a future version, a new instance will always be created and returned.  Meanwhile, this warning can be suppressed, and the future behavior ensured, by passing a unique label to each axes instance.\n",
      "/opt/anaconda3/lib/python3.7/site-packages/ipykernel_launcher.py:27: MatplotlibDeprecationWarning: Adding an axes using the same arguments as a previous axes currently reuses the earlier instance.  In a future version, a new instance will always be created and returned.  Meanwhile, this warning can be suppressed, and the future behavior ensured, by passing a unique label to each axes instance.\n"
     ]
    },
    {
     "data": {
      "image/png": "[encoded data removed]",
      "text/plain": [
       "<Figure size 1800x720 with 21 Axes>"
      ]
     },
     "metadata": {
      "needs_background": "light"
     },
     "output_type": "display_data"
    }
   ],
   "source": [
    "fig = plt.figure(figsize=(25, 10))\n",
    "plt.subplots_adjust(hspace=0.3,wspace=0.2)\n",
    "gs = gridspec.GridSpec(dim, 1+2*dim)\n",
    "\n",
    "for i in range(dim):\n",
    "    ax = fig.add_subplot(gs[i,0])\n",
    "    plt.subplot(gs[i,0])\n",
    "    a = np.array([x[i] for x in mu_list_QMLE])\n",
    "    sd = np.sqrt(np.var(a[a!=0]))\n",
    "    ax.hist(a[a!=0],range=(-3, 3), bins=30, density=True, color=\"green\")\n",
    "    plt.xlabel(r'$ \\mu_{%d} $' %(i+1), fontsize=15)\n",
    "    ax.grid()\n",
    "\n",
    "for i in range(dim):\n",
    "    for j in range(dim):\n",
    "        ax = fig.add_subplot(gs[i,j+1])\n",
    "        plt.subplot(gs[i,j+1])\n",
    "        a = np.array([x[i][j] for x in alpha_list_QMLE])\n",
    "        sd = np.sqrt(np.var(a))\n",
    "        ax.hist(a[a!=0], range=(-10, 10), bins=30, density=True, color=\"red\")\n",
    "        plt.xlabel(r'$ \\alpha_{%d%d} $' %((i+1), (j+1)), fontsize=15)\n",
    "        ax.grid()\n",
    "        \n",
    "for i in range(dim):\n",
    "    for j in range(dim):            \n",
    "        ax = fig.add_subplot(gs[i,j+1+dim])\n",
    "        plt.subplot(gs[i,j+1+dim])\n",
    "        a = np.array([x[i][j] for x in beta_list_QMLE])\n",
    "        sd = np.sqrt(np.var(a))\n",
    "        ax.hist(a, range=(-15, 15), bins=30, density=True, color=\"blue\")\n",
    "        plt.xlabel(r'$ \\beta_{%d%d} $' %((i+1), (j+1)), fontsize=15)\n",
    "        ax.grid()\n",
    "        \n",
    "\n",
    "fig.suptitle('Asymptotic distribution of Hawkes QMLE, $T=%d$, $MC=%d$' %(t_max, M), fontsize=25)\n",
    "plt.savefig(\"asymp_QMLE_T={}.eps\".format(t_max))\n",
    "plt.show()"
   ]
  },
  {
   "cell_type": "markdown",
   "metadata": {},
   "source": [
    "Number of parameters estimated to be zero."
   ]
  },
  {
   "cell_type": "code",
   "execution_count": 15,
   "metadata": {},
   "outputs": [
    {
     "name": "stdout",
     "output_type": "stream",
     "text": [
      "mu_{1}: 0\n",
      "mu_{2}: 270\n",
      "mu_{3}: 0\n",
      "alpha_{11}: 176\n",
      "alpha_{12}: 0\n",
      "alpha_{13}: 0\n",
      "alpha_{21}: 0\n",
      "alpha_{22}: 0\n",
      "alpha_{23}: 227\n",
      "alpha_{31}: 189\n",
      "alpha_{32}: 189\n",
      "alpha_{33}: 0\n"
     ]
    }
   ],
   "source": [
    "for i in range(dim):\n",
    "    cnt = 0\n",
    "    for n in range(M):\n",
    "        if (mu_list_QMLE[n][i]/np.sqrt(t_max) + mu[i] ==0):\n",
    "            cnt = cnt +1        \n",
    "    print(r'mu_{%d}' %(i+1), end=\": \")\n",
    "    print(cnt)\n",
    "\n",
    "for i in range(dim):\n",
    "    for j in range(dim):\n",
    "        cnt = 0\n",
    "        for n in range(M):\n",
    "            if (alpha_list_QMLE[n][i][j]/np.sqrt(t_max) + alpha[i][j] ==0):\n",
    "                cnt = cnt +1\n",
    "        print(r'alpha_{%d%d}' %((i+1), (j+1)), end=\": \")\n",
    "        print(cnt)"
   ]
  },
  {
   "cell_type": "markdown",
   "metadata": {},
   "source": [
    "## LASSO, LASSO + QMLE"
   ]
  },
  {
   "cell_type": "code",
   "execution_count": 16,
   "metadata": {
    "code_folding": [
     1,
     37,
     53
    ]
   },
   "outputs": [],
   "source": [
    "# given paramをstrで与えておく\n",
    "def param_gene(params):\n",
    "    mu = params[0]\n",
    "    alpha = params[1]\n",
    "    beta = params[2]\n",
    "    dim = len(mu)\n",
    "\n",
    "    given=[[],[],[]]\n",
    "    mu_id = []\n",
    "    alpha_id =[]\n",
    "    beta_id = []\n",
    "    \n",
    "    for i in range(dim):\n",
    "        if type(mu[i]) == str:\n",
    "            given[0].append([i+1, float(mu[i])])\n",
    "            mu_id.append(i)\n",
    "            \n",
    "    for i in range(dim):\n",
    "        for j in range(dim):\n",
    "            if type(alpha[i][j]) == str:\n",
    "                given[1].append([i+1, j+1, float(alpha[i][j])])\n",
    "                alpha_id.append(i*dim+j)\n",
    "            if type(beta[i][j]) == str:\n",
    "                given[2].append([i+1, j+1, float(beta[i][j])])\n",
    "                beta_id.append(i*dim+j)\n",
    "\n",
    "    mu = np.delete(mu, mu_id)\n",
    "    alpha = list(map(lambda a: float(a), itertools.chain.from_iterable(alpha)))\n",
    "    alpha = np.delete(alpha, alpha_id)\n",
    "    beta = list(map(lambda b: float(b), itertools.chain.from_iterable(beta)))\n",
    "    beta = np.delete(beta, beta_id)\n",
    "   \n",
    "    cparams = mu\n",
    "    cparams = np.append(cparams, alpha)\n",
    "    cparams = np.append(cparams, beta)\n",
    "    return cparams, given\n",
    "\n",
    "def re_params(cparams, given, dim):\n",
    "    for i in range(3):\n",
    "        if given[i]==[]:\n",
    "            continue\n",
    "        for cns in sorted(given[i]):\n",
    "            if i==0:\n",
    "                cparams = np.insert(cparams, cns[0]-1, cns[-1])\n",
    "            elif i==1:\n",
    "                cparams = np.insert(cparams, dim+dim*(cns[0]-1)+(cns[1]-1), cns[-1])\n",
    "            else:\n",
    "                cparams = np.insert(cparams, dim+dim**2+dim*(cns[0]-1)+(cns[1]-1), cns[-1])\n",
    "    return cparams\n",
    "\n",
    "# given = [[[1,2]],[[1,2,0.1]],[[1,2,1], [2,2,0.5]]]\n",
    "# mu_1=2, alpha_{12}=0.1, beta_{12}=1, beta_{22}=0.5\n",
    "# arg = [arrivals, dim, given]\n",
    "def cloglik(cparams, arg):\n",
    "    arrivals = arg[0]\n",
    "    dim = arg[1]\n",
    "    given = arg[2]\n",
    "    cparams = re_params(cparams, given, dim)\n",
    "    return loglik(cparams, arrivals)"
   ]
  },
  {
   "cell_type": "code",
   "execution_count": null,
   "metadata": {},
   "outputs": [
    {
     "data": {
      "application/vnd.jupyter.widget-view+json": {
       "model_id": "b5437f6410d345e6b2b50b3b50f4ad45",
       "version_major": 2,
       "version_minor": 0
      },
      "text/plain": [
       "HBox(children=(IntProgress(value=0, max=300), HTML(value='')))"
      ]
     },
     "metadata": {},
     "output_type": "display_data"
    }
   ],
   "source": [
    "dim = 3\n",
    "mu_list_LASSO = []\n",
    "alpha_list_LASSO = []\n",
    "beta_list_LASSO = []\n",
    "mu_list_LASSO_QMLE = []\n",
    "alpha_list_LASSO_QMLE = []\n",
    "beta_list_LASSO_QMLE = []\n",
    "\n",
    "#探索範囲\n",
    "low_bd = [0]*(dim)\n",
    "low_bd[len(low_bd):len(low_bd)] = [0]*(dim**2)\n",
    "low_bd[len(low_bd):len(low_bd)] = [1.e-5]*(dim**2)\n",
    "up_bd = [1.e+4]*params_num\n",
    "bounds = optimize.Bounds(low_bd, up_bd)\n",
    "#推定回数\n",
    "M = 300\n",
    "\n",
    "for n in tqdm(range(M)):\n",
    "    # LASSO\n",
    "    res = optimize.minimize(fun=Lasso_loglik, x0=np.array(params), args=arrivals[n], method='L-BFGS-B', bounds=bounds)\n",
    "    LASSO = result_show(res, round=8, result_show = False)\n",
    "    mu_list_LASSO.append((np.sqrt(t_max)*(LASSO[0]-mu)).tolist())\n",
    "    alpha_list_LASSO.append((np.sqrt(t_max)*(LASSO[1]-alpha)).tolist())\n",
    "    beta_list_LASSO.append((np.sqrt(t_max)*(LASSO[2]-beta)).tolist())\n",
    "    \n",
    "    # LASSO + QMLE\n",
    "    new_mu = LASSO[0].tolist()\n",
    "    new_alpha = LASSO[1].tolist()\n",
    "    new_beta = LASSO[2].tolist()\n",
    "    for i in range(dim):\n",
    "        if new_mu[i]==0.:\n",
    "            new_mu[i]='0.'\n",
    "    for i in range(dim):\n",
    "        for j in range(dim):\n",
    "            if new_alpha[i][j]==0.:\n",
    "                new_alpha[i][j]='0.'\n",
    "                new_beta[i][j]='1.'\n",
    "    new_params = [new_mu, new_alpha, new_beta]\n",
    "    cparams, given = param_gene(new_params)\n",
    "    \n",
    "    #探索範囲\n",
    "    new_params_num = len(cparams)\n",
    "    new_beta_num = dim**2-len(given[2])\n",
    "    low_bd_new = [0]*(new_params_num-new_beta_num)\n",
    "    low_bd_new[len(low_bd_new):len(low_bd_new)] = [1.e-5]*(new_beta_num)\n",
    "    up_bd_new = [1.e+4]*new_params_num\n",
    "    bounds_new = optimize.Bounds(low_bd_new, up_bd_new)\n",
    "    \n",
    "    res_LASSO_QMLE = optimize.minimize(fun=cloglik, x0=np.array(cparams, dtype=float), args=[arrivals[n], dim, given], method='L-BFGS-B', bounds=bounds_new)\n",
    "    p = re_params(res_LASSO_QMLE.x, given, dim)\n",
    "    mu_list_LASSO_QMLE.append((np.sqrt(t_max)*(np.array(p[:dim])-mu)).tolist())\n",
    "    alpha_list_LASSO_QMLE.append((np.sqrt(t_max)*(np.array(p[dim:(dim+dim**2)]).reshape((dim, dim))-alpha)).tolist())\n",
    "    beta_list_LASSO_QMLE.append((np.sqrt(t_max)*(np.array(p[(dim+dim**2):]).reshape((dim, dim))-beta)).tolist())"
   ]
  },
  {
   "cell_type": "markdown",
   "metadata": {},
   "source": [
    "### Results for LASSO"
   ]
  },
  {
   "cell_type": "code",
   "execution_count": null,
   "metadata": {},
   "outputs": [],
   "source": [
    "for i in range(dim):\n",
    "    cnt = 0\n",
    "    for n in range(M):\n",
    "        if (mu_list_LASSO[n][i]/np.sqrt(t_max) + mu[i] ==0):\n",
    "            cnt = cnt +1        \n",
    "    print(r'mu_{%d}' %(i+1), end=\": \")\n",
    "    print(cnt)\n",
    "\n",
    "for i in range(dim):\n",
    "    for j in range(dim):\n",
    "        cnt = 0\n",
    "        for n in range(M):\n",
    "            if (alpha_list_LASSO[n][i][j]/np.sqrt(t_max) + alpha[i][j] ==0):\n",
    "                cnt = cnt +1\n",
    "        print(r'alpha_{%d%d}' %((i+1), (j+1)), end=\": \")\n",
    "        print(cnt)"
   ]
  },
  {
   "cell_type": "code",
   "execution_count": null,
   "metadata": {},
   "outputs": [],
   "source": [
    "fig = plt.figure(figsize=(25, 10))\n",
    "plt.subplots_adjust(hspace=0.3,wspace=0.2)\n",
    "gs = gridspec.GridSpec(dim, 1+2*dim)\n",
    "\n",
    "for i in range(dim):\n",
    "    ax = fig.add_subplot(gs[i,0])\n",
    "    plt.subplot(gs[i,0])\n",
    "    a = np.array([x[i] for x in mu_list_LASSO])\n",
    "    ax.hist(a[a!=0], range=(-3, 3), bins=35, normed=True, rwidth=1, color=\"green\")\n",
    "    plt.xlabel(r'$ \\mu_{%d} $' %(i+1))\n",
    "    ax.grid()\n",
    "\n",
    "for i in range(dim):\n",
    "    for j in range(dim):\n",
    "        ax = fig.add_subplot(gs[i,j+1])\n",
    "        plt.subplot(gs[i,j+1])\n",
    "        a = np.array([x[i][j] for x in alpha_list_LASSO])\n",
    "        ax.hist(a[a!=0], range=(-10, 10), bins=35, normed=True, rwidth=1, color=\"red\")\n",
    "        plt.xlabel(r'$ \\alpha_{%d%d} $' %((i+1), (j+1)))\n",
    "        ax.grid()\n",
    "        \n",
    "for i in range(dim):\n",
    "    for j in range(dim):            \n",
    "        ax = fig.add_subplot(gs[i,j+1+dim])\n",
    "        plt.subplot(gs[i,j+1+dim])\n",
    "        a = np.array([x[i][j] for x in beta_list_LASSO])\n",
    "        ax.hist(a, range=(-15, 15), bins=35, normed=True, rwidth=1, color=\"blue\")\n",
    "        plt.xlabel(r'$ \\beta_{%d%d} $' %((i+1), (j+1)))\n",
    "        ax.grid()\n",
    "\n",
    "fig.suptitle('Asymptotic distribution of Hawkes LASSO, $T=%d$, $MC=%d$' %(t_max, M), fontsize=25)\n",
    "plt.savefig(\"asymp_LASSO_T={}.eps\".format(t_max))\n",
    "plt.show()"
   ]
  },
  {
   "cell_type": "markdown",
   "metadata": {},
   "source": [
    "### Results for LASSO+QMLE"
   ]
  },
  {
   "cell_type": "code",
   "execution_count": null,
   "metadata": {},
   "outputs": [],
   "source": [
    "for i in range(dim):\n",
    "    cnt = 0\n",
    "    for n in range(M):\n",
    "        if (mu_list_LASSO_QMLE[n][i]/np.sqrt(t_max) + mu[i] ==0):\n",
    "            cnt = cnt +1        \n",
    "    print(r'mu_{%d}' %(i+1), end=\": \")\n",
    "    print(cnt)\n",
    "\n",
    "for i in range(dim):\n",
    "    for j in range(dim):\n",
    "        cnt = 0\n",
    "        for n in range(M):\n",
    "            if (alpha_list_LASSO_QMLE[n][i][j]/np.sqrt(t_max) + alpha[i][j] ==0):\n",
    "                cnt = cnt +1\n",
    "        print(r'alpha_{%d%d}' %((i+1), (j+1)), end=\": \")\n",
    "        print(cnt)"
   ]
  },
  {
   "cell_type": "code",
   "execution_count": null,
   "metadata": {},
   "outputs": [],
   "source": [
    "fig = plt.figure(figsize=(25, 10))\n",
    "plt.subplots_adjust(hspace=0.3,wspace=0.2)\n",
    "gs = gridspec.GridSpec(dim, 1+2*dim)\n",
    "\n",
    "for i in range(dim):\n",
    "    ax = fig.add_subplot(gs[i,0])\n",
    "    plt.subplot(gs[i,0])\n",
    "    a = np.array([x[i] for x in mu_list_LASSO_QMLE])\n",
    "    sd = np.sqrt(np.var(a[a!=0]))\n",
    "    if np.sum(a!=0)>0: ax.hist(a[a!=0], range=(-sd*5, sd*5), bins=35, normed=True, rwidth=1, color=\"green\")\n",
    "    plt.xlabel(r'$ \\mu_{%d} $' %(i+1))\n",
    "    ax.grid()\n",
    "\n",
    "for i in range(dim):\n",
    "    for j in range(dim):\n",
    "        ax = fig.add_subplot(gs[i,j+1])\n",
    "        plt.subplot(gs[i,j+1])\n",
    "        a = np.array([x[i][j] for x in alpha_list_LASSO_QMLE])\n",
    "        if np.sum(a!=0)>0: ax.hist(a[a!=0], range=(-10, 10), bins=35, normed=True, rwidth=1, color=\"red\")\n",
    "        plt.xlabel(r'$ \\alpha_{%d%d} $' %((i+1), (j+1)))\n",
    "        ax.grid()\n",
    "        \n",
    "for i in range(dim):\n",
    "    for j in range(dim):            \n",
    "        ax = fig.add_subplot(gs[i,j+1+dim])\n",
    "        plt.subplot(gs[i,j+1+dim])\n",
    "        a = np.array([x[i][j] for x in beta_list_LASSO_QMLE])\n",
    "        ax.hist(a, range=(-15, 15), bins=35, normed=True, rwidth=1, color=\"blue\")\n",
    "        plt.xlabel(r'$ \\beta_{%d%d} $' %((i+1), (j+1)))\n",
    "        ax.grid()\n",
    "        \n",
    "\n",
    "fig.suptitle('Asymptotic distribution of Hawkes LASSO + QMLE, $T=%d$, $MC=%d$' %(t_max, M), fontsize=25)\n",
    "plt.savefig(\"asymp_QMLE_2nd_T={}.eps\".format(t_max))\n",
    "plt.show()"
   ]
  },
  {
   "cell_type": "markdown",
   "metadata": {},
   "source": [
    "## LASSO with large β"
   ]
  },
  {
   "cell_type": "code",
   "execution_count": null,
   "metadata": {},
   "outputs": [],
   "source": [
    "dim = 3\n",
    "mu_list_LASSO_2 = []\n",
    "alpha_list_LASSO_2 = []\n",
    "beta_list_LASSO_2 = []\n",
    "\n",
    "## Parameters\n",
    "beta_2 = np.array([\n",
    "    [100., 0.4, 0.4],\n",
    "    [0.7, 0.4, 100.],\n",
    "    [100., 100., 0.5],\n",
    "    ])\n",
    "params_2 = mu.reshape(1, -1).tolist()[0]\n",
    "params_2[len(params_2):len(params_2)] = alpha.reshape(1, -1).tolist()[0]\n",
    "params_2[len(params_2):len(params_2)] = beta_2.reshape(1, -1).tolist()[0]\n",
    "\n",
    "#探索範囲\n",
    "low_bd = [0]*(dim)\n",
    "low_bd[len(low_bd):len(low_bd)] = [0]*(dim**2)\n",
    "low_bd[len(low_bd):len(low_bd)] = [1.e-5]*(dim**2)\n",
    "up_bd = [1.e+4]*params_num\n",
    "bounds = optimize.Bounds(low_bd, up_bd)\n",
    "#推定回数\n",
    "M = 300\n",
    "\n",
    "for i in tqdm(range(M)):\n",
    "    # LASSO\n",
    "    res = optimize.minimize(fun=Lasso_loglik, x0=np.array(params_2), args=arrivals[i], method='L-BFGS-B', bounds=bounds)\n",
    "    LASSO = result_show(res, round=8, result_show = False)\n",
    "    mu_list_LASSO_2.append((np.sqrt(t_max)*(LASSO[0]-mu)).tolist())\n",
    "    alpha_list_LASSO_2.append((np.sqrt(t_max)*(LASSO[1]-alpha)).tolist())\n",
    "    beta_list_LASSO_2.append((np.sqrt(t_max)*(LASSO[2]-beta_2)).tolist())"
   ]
  },
  {
   "cell_type": "code",
   "execution_count": null,
   "metadata": {},
   "outputs": [],
   "source": [
    "for i in range(dim):\n",
    "    cnt = 0\n",
    "    for n in range(M):\n",
    "        if (mu_list_LASSO_2[n][i]/np.sqrt(t_max) + mu[i] ==0):\n",
    "            cnt = cnt +1        \n",
    "    print(r'mu_{%d}' %(i+1), end=\": \")\n",
    "    print(cnt)\n",
    "\n",
    "for i in range(dim):\n",
    "    for j in range(dim):\n",
    "        cnt = 0\n",
    "        for n in range(M):\n",
    "            if (alpha_list_LASSO_2[n][i][j]/np.sqrt(t_max) + alpha[i][j] ==0):\n",
    "                cnt = cnt +1\n",
    "        print(r'alpha_{%d%d}' %((i+1), (j+1)), end=\": \")\n",
    "        print(cnt)"
   ]
  },
  {
   "cell_type": "markdown",
   "metadata": {},
   "source": [
    "# Case : T = 100\n",
    "## Create data"
   ]
  },
  {
   "cell_type": "code",
   "execution_count": null,
   "metadata": {},
   "outputs": [],
   "source": [
    "## Parameters\n",
    "mu = np.array([0.1, 0., 0.1])\n",
    "alpha = np.array([\n",
    "    [0., 0.2, 0.2],\n",
    "    [0.4, 0.2, 0.],\n",
    "    [0., 0., 0.3],\n",
    "    ])\n",
    "beta = np.array([\n",
    "    [1., 0.4, 0.4],\n",
    "    [0.7, 0.4, 1.],\n",
    "    [1., 1., 0.5],\n",
    "    ])\n",
    "x = np.array([0, 0, 0])\n",
    "\n",
    "params_org = list([mu, alpha, beta, x])\n",
    "\n",
    "## End time\n",
    "t_max = 100"
   ]
  },
  {
   "cell_type": "code",
   "execution_count": null,
   "metadata": {},
   "outputs": [],
   "source": [
    "r.seed(0)\n",
    "arrivals_100 = []\n",
    "for i in tqdm(range(M)):\n",
    "    arrivals_100.append(simulate_mlt_hawkes(params_org, t_max))"
   ]
  },
  {
   "cell_type": "markdown",
   "metadata": {},
   "source": [
    "## QMLE"
   ]
  },
  {
   "cell_type": "code",
   "execution_count": null,
   "metadata": {},
   "outputs": [],
   "source": [
    "## MLEをM個格納する入れ物\n",
    "mu_list_QMLE_100 = []\n",
    "alpha_list_QMLE_100 = []\n",
    "beta_list_QMLE_100 = []\n",
    "\n",
    "## MLEをM回計算\n",
    "for i in tqdm(range(M)):\n",
    "    res = optimize.minimize(fun=loglik, x0=np.array(params), args=arrivals_100[i], method='L-BFGS-B', bounds=bounds)\n",
    "    mle = result_show(res, round=8, result_show = False)\n",
    "    mu_list_QMLE_100.append((np.sqrt(t_max)*(mle[0]-mu)).tolist())\n",
    "    alpha_list_QMLE_100.append((np.sqrt(t_max)*(mle[1]-alpha)).tolist())\n",
    "    beta_list_QMLE_100.append((np.sqrt(t_max)*(mle[2]-beta)).tolist())"
   ]
  },
  {
   "cell_type": "code",
   "execution_count": null,
   "metadata": {},
   "outputs": [],
   "source": [
    "t_max=100\n",
    "fig = plt.figure(figsize=(25, 10))\n",
    "plt.subplots_adjust(hspace=0.3,wspace=0.2)\n",
    "gs = gridspec.GridSpec(dim, 1+2*dim)\n",
    "\n",
    "for i in range(dim):\n",
    "    ax = fig.add_subplot(gs[i,0])\n",
    "    plt.subplot(gs[i,0])\n",
    "    a = np.array([x[i] for x in mu_list_QMLE_100])\n",
    "    ax.hist(a[a!=0],range=(-3, 3), bins=30, density=True, color=\"green\")\n",
    "    plt.xlabel(r'$ \\mu_{%d} $' %(i+1), fontsize=15)\n",
    "    ax.grid()\n",
    "\n",
    "for i in range(dim):\n",
    "    for j in range(dim):\n",
    "        ax = fig.add_subplot(gs[i,j+1])\n",
    "        plt.subplot(gs[i,j+1])\n",
    "        a = np.array([x[i][j] for x in alpha_list_QMLE_100])\n",
    "        ax.hist(a[a!=0], range=(-10, 10), bins=30, density=True, color=\"red\")\n",
    "        plt.xlabel(r'$ \\alpha_{%d%d} $' %((i+1), (j+1)), fontsize=15)\n",
    "        ax.grid()\n",
    "        \n",
    "for i in range(dim):\n",
    "    for j in range(dim):            \n",
    "        ax = fig.add_subplot(gs[i,j+1+dim])\n",
    "        plt.subplot(gs[i,j+1+dim])\n",
    "        a = np.array([x[i][j] for x in beta_list_QMLE_100])\n",
    "        ax.hist(a, range=(-15, 15), bins=30, density=True, color=\"blue\")\n",
    "        plt.xlabel(r'$ \\beta_{%d%d} $' %((i+1), (j+1)), fontsize=15)\n",
    "        ax.grid()\n",
    "        \n",
    "\n",
    "fig.suptitle('Asymptotic distribution of Hawkes QMLE, $T=%d$, $MC=%d$' %(t_max, M), fontsize=25)\n",
    "plt.savefig(\"asymp_QMLE_T={}.eps\".format(t_max))\n",
    "plt.show()"
   ]
  },
  {
   "cell_type": "code",
   "execution_count": null,
   "metadata": {},
   "outputs": [],
   "source": []
  }
 ],
 "metadata": {
  "kernelspec": {
   "display_name": "Python 3",
   "language": "python",
   "name": "python3"
  },
  "language_info": {
   "codemirror_mode": {
    "name": "ipython",
    "version": 3
   },
   "file_extension": ".py",
   "mimetype": "text/x-python",
   "name": "python",
   "nbconvert_exporter": "python",
   "pygments_lexer": "ipython3",
   "version": "3.7.4"
  },
  "latex_envs": {
   "LaTeX_envs_menu_present": true,
   "autoclose": false,
   "autocomplete": true,
   "bibliofile": "biblio.bib",
   "cite_by": "apalike",
   "current_citInitial": 1,
   "eqLabelWithNumbers": true,
   "eqNumInitial": 1,
   "hotkeys": {
    "equation": "Ctrl-E",
    "itemize": "Ctrl-I"
   },
   "labels_anchors": false,
   "latex_user_defs": false,
   "report_style_numbering": false,
   "user_envs_cfg": false
  }
 },
 "nbformat": 4,
 "nbformat_minor": 2
}
